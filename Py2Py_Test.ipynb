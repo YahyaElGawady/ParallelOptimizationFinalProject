{
  "nbformat": 4,
  "nbformat_minor": 0,
  "metadata": {
    "colab": {
      "provenance": [],
      "gpuType": "T4"
    },
    "kernelspec": {
      "name": "python3",
      "display_name": "Python 3"
    },
    "language_info": {
      "name": "python"
    },
    "accelerator": "GPU"
  },
  "cells": [
    {
      "cell_type": "code",
      "source": [
        "!nvidia-smi"
      ],
      "metadata": {
        "colab": {
          "base_uri": "https://localhost:8080/"
        },
        "id": "3g9Mj6upWARq",
        "outputId": "d5f0dac9-6225-40af-98ee-ff531ad03652"
      },
      "execution_count": 1,
      "outputs": [
        {
          "output_type": "stream",
          "name": "stdout",
          "text": [
            "Sun Apr 28 21:47:39 2024       \n",
            "+---------------------------------------------------------------------------------------+\n",
            "| NVIDIA-SMI 535.104.05             Driver Version: 535.104.05   CUDA Version: 12.2     |\n",
            "|-----------------------------------------+----------------------+----------------------+\n",
            "| GPU  Name                 Persistence-M | Bus-Id        Disp.A | Volatile Uncorr. ECC |\n",
            "| Fan  Temp   Perf          Pwr:Usage/Cap |         Memory-Usage | GPU-Util  Compute M. |\n",
            "|                                         |                      |               MIG M. |\n",
            "|=========================================+======================+======================|\n",
            "|   0  Tesla T4                       Off | 00000000:00:04.0 Off |                    0 |\n",
            "| N/A   65C    P8              10W /  70W |      0MiB / 15360MiB |      0%      Default |\n",
            "|                                         |                      |                  N/A |\n",
            "+-----------------------------------------+----------------------+----------------------+\n",
            "                                                                                         \n",
            "+---------------------------------------------------------------------------------------+\n",
            "| Processes:                                                                            |\n",
            "|  GPU   GI   CI        PID   Type   Process name                            GPU Memory |\n",
            "|        ID   ID                                                             Usage      |\n",
            "|=======================================================================================|\n",
            "|  No running processes found                                                           |\n",
            "+---------------------------------------------------------------------------------------+\n"
          ]
        }
      ]
    },
    {
      "cell_type": "code",
      "source": [
        "!nvcc --version"
      ],
      "metadata": {
        "colab": {
          "base_uri": "https://localhost:8080/"
        },
        "id": "omVupag3XVqT",
        "outputId": "12003da7-f193-4f4b-b46e-64d24b839c84"
      },
      "execution_count": 2,
      "outputs": [
        {
          "output_type": "stream",
          "name": "stdout",
          "text": [
            "nvcc: NVIDIA (R) Cuda compiler driver\n",
            "Copyright (c) 2005-2023 NVIDIA Corporation\n",
            "Built on Tue_Aug_15_22:02:13_PDT_2023\n",
            "Cuda compilation tools, release 12.2, V12.2.140\n",
            "Build cuda_12.2.r12.2/compiler.33191640_0\n"
          ]
        }
      ]
    },
    {
      "cell_type": "code",
      "source": [
        "# %pip install cupy-cuda11x"
      ],
      "metadata": {
        "id": "IqLDJkz2WgqV"
      },
      "execution_count": 4,
      "outputs": []
    },
    {
      "cell_type": "code",
      "source": [
        "import numpy as np\n",
        "import cupy as cp"
      ],
      "metadata": {
        "id": "3ScLxvwnW1vX"
      },
      "execution_count": 5,
      "outputs": []
    },
    {
      "cell_type": "markdown",
      "source": [
        "We have copy and pasted the functions defined in our pythontopython2.py below:"
      ],
      "metadata": {
        "id": "65IFbG-lZuVd"
      }
    },
    {
      "cell_type": "code",
      "source": [
        "def setup(file_name):\n",
        "    file = open(file_name + \".py\", \"a\")\n",
        "    file.write(\"import cupy\")\n",
        "\n",
        "def get_var_name(var):\n",
        "    for name, value in globals().items():\n",
        "        if value is var:\n",
        "            return name\n",
        "    return var\n",
        "\n",
        "def numpy_add_to_py(a, b):\n",
        "    a_name = get_var_name(a)\n",
        "    b_name = get_var_name(b)\n",
        "    return f\"cupy.add({a_name}, {b_name})\"\n",
        "\n",
        "def numpy_subtract_to_py(a, b):\n",
        "    a_name = get_var_name(a)\n",
        "    b_name = get_var_name(b)\n",
        "    return f\"cupy.subtract({a_name}, {b_name})\"\n",
        "\n",
        "def numpy_sum_to_py(a):\n",
        "    a_name = get_var_name(a)\n",
        "    return f\"cupy.sum({a_name})\"\n",
        "\n",
        "def numpy_dot_to_py(a, b):\n",
        "    a_name = get_var_name(a)\n",
        "    b_name = get_var_name(b)\n",
        "    return f\"cupy.dot({a_name}, {b_name})\"\n",
        "\n",
        "def array_to_py(variable_name, list_values):\n",
        "    # list_values is a string containing comma-separated values\n",
        "    # Turn list_values into a list, and each value in the list into an integer\n",
        "    values = [int(value) for value in list_values.split(',')]\n",
        "\n",
        "    return f\"{variable_name} = cupy.array({values})\""
      ],
      "metadata": {
        "id": "gPaS17M7WgTB"
      },
      "execution_count": 6,
      "outputs": []
    },
    {
      "cell_type": "markdown",
      "source": [
        "We want to show firstly that these functions produce strings as expected."
      ],
      "metadata": {
        "id": "AD-b5UVPaQVh"
      }
    },
    {
      "cell_type": "code",
      "source": [
        "setup('example_script')\n",
        "# Expected to create or append to 'example_script.py' with 'import cupy'"
      ],
      "metadata": {
        "id": "x1F7A-Jluqee"
      },
      "execution_count": 7,
      "outputs": []
    },
    {
      "cell_type": "code",
      "source": [
        "x = np.array([10, 20, 30])\n",
        "print(get_var_name(x))  # Should print 'x' if 'x' is in the global namespace"
      ],
      "metadata": {
        "id": "oBo0dzVv7NdO",
        "outputId": "319ce325-2209-41de-d597-682b8b78b832",
        "colab": {
          "base_uri": "https://localhost:8080/"
        }
      },
      "execution_count": 8,
      "outputs": [
        {
          "output_type": "stream",
          "name": "stdout",
          "text": [
            "x\n"
          ]
        }
      ]
    },
    {
      "cell_type": "code",
      "source": [
        "a = np.array([1, 2, 3])\n",
        "b = np.array([4, 5, 6])\n",
        "print(numpy_add_to_py(a, b))  # Expected output: \"cupy.add(a, b)\""
      ],
      "metadata": {
        "colab": {
          "base_uri": "https://localhost:8080/"
        },
        "id": "lYDod2w-iaoM",
        "outputId": "7a2da45e-5956-4c60-8db1-a9777a12f826"
      },
      "execution_count": 9,
      "outputs": [
        {
          "output_type": "stream",
          "name": "stdout",
          "text": [
            "cupy.add(a, b)\n"
          ]
        }
      ]
    },
    {
      "cell_type": "code",
      "source": [
        "a = np.array([7, 8, 9])\n",
        "b = np.array([1, 2, 3])\n",
        "print(numpy_subtract_to_py(a, b))  # Expected output: \"cupy.subtract(a, b)\""
      ],
      "metadata": {
        "colab": {
          "base_uri": "https://localhost:8080/"
        },
        "id": "B0S1bDWPixcG",
        "outputId": "81345eb5-af99-4496-f14d-7dd979c355e5"
      },
      "execution_count": 10,
      "outputs": [
        {
          "output_type": "stream",
          "name": "stdout",
          "text": [
            "cupy.subtract(a, b)\n"
          ]
        }
      ]
    },
    {
      "cell_type": "code",
      "source": [
        "a = np.array([10, 20, 30])\n",
        "print(numpy_sum_to_py(a))  # Expected output: \"cupy.sum(a)\""
      ],
      "metadata": {
        "colab": {
          "base_uri": "https://localhost:8080/"
        },
        "id": "8ZoLOy--X1yW",
        "outputId": "7ed0e30f-1a41-4a3b-84b6-14ab68fbd0da"
      },
      "execution_count": 11,
      "outputs": [
        {
          "output_type": "stream",
          "name": "stdout",
          "text": [
            "cupy.sum(a)\n"
          ]
        }
      ]
    },
    {
      "cell_type": "code",
      "source": [
        "a = np.array([1, 2, 3])\n",
        "b = np.array([4, 5, 6])\n",
        "print(numpy_dot_to_py(a, b))  # Expected output: \"cupy.add(a, b)\""
      ],
      "metadata": {
        "colab": {
          "base_uri": "https://localhost:8080/"
        },
        "id": "3-A-fQbm3Ri5",
        "outputId": "42da1550-a920-4892-8926-3006adc40f36"
      },
      "execution_count": 12,
      "outputs": [
        {
          "output_type": "stream",
          "name": "stdout",
          "text": [
            "cupy.dot(a, b)\n"
          ]
        }
      ]
    },
    {
      "cell_type": "code",
      "source": [
        "variable_name = 'data_array'\n",
        "list_values = '100,200,300,400,500'\n",
        "print(array_to_py(variable_name, list_values))  # Expected output: \"data_array = cupy.array([100, 200, 300, 400, 500])\""
      ],
      "metadata": {
        "colab": {
          "base_uri": "https://localhost:8080/"
        },
        "id": "SCzsiji1jpU-",
        "outputId": "b6ebb813-54e0-4965-bf22-4b605fc34244"
      },
      "execution_count": 13,
      "outputs": [
        {
          "output_type": "stream",
          "name": "stdout",
          "text": [
            "data_array = cupy.array([100, 200, 300, 400, 500])\n"
          ]
        }
      ]
    },
    {
      "cell_type": "markdown",
      "source": [
        "The next step would be to test the output strings actually run when they are  written to a file. In the next cell, we have copied all results from previous steps to emulate the file produced. We also want to compare the numpy vs. cupy run time."
      ],
      "metadata": {
        "id": "2XGKhr2BtYGw"
      }
    },
    {
      "cell_type": "code",
      "source": [
        "import time"
      ],
      "metadata": {
        "id": "5DIwNOXK4wzO"
      },
      "execution_count": 14,
      "outputs": []
    },
    {
      "cell_type": "code",
      "source": [
        "import numpy as np\n",
        "import cupy as cp\n",
        "import pandas as pd\n",
        "import os\n",
        "\n",
        "def time_operations(array_size, num_trials=3):\n",
        "    # Initialize timing results\n",
        "    times_gpu = []\n",
        "    times_cpu = []\n",
        "\n",
        "    for _ in range(num_trials):\n",
        "        # Create arrays on GPU\n",
        "        a_gpu = cp.random.rand(array_size)\n",
        "        b_gpu = cp.random.rand(array_size)\n",
        "        # Create arrays on CPU\n",
        "        a_cpu = np.random.rand(array_size)\n",
        "        b_cpu = np.random.rand(array_size)\n",
        "\n",
        "        # Time CuPy operations\n",
        "        start_gpu = time.time()\n",
        "        cp.add(a_gpu, b_gpu)\n",
        "        cp.subtract(a_gpu, b_gpu)\n",
        "        cp.sum(a_gpu)\n",
        "        times_gpu.append(time.time() - start_gpu)\n",
        "\n",
        "        # Time NumPy operations\n",
        "        start_cpu = time.time()\n",
        "        np.add(a_cpu, b_cpu)\n",
        "        np.subtract(a_cpu, b_cpu)\n",
        "        np.sum(a_cpu)\n",
        "        times_cpu.append(time.time() - start_cpu)\n",
        "\n",
        "    # Average the times\n",
        "    avg_time_gpu = sum(times_gpu) / num_trials\n",
        "    avg_time_cpu = sum(times_cpu) / num_trials\n",
        "\n",
        "    return avg_time_gpu, avg_time_cpu\n",
        "\n",
        "array_sizes = [100000, 1000000, 10000000]  # Example sizes: 100K, 1M, 10M\n",
        "results = []\n",
        "\n",
        "for size in array_sizes:\n",
        "    gpu_time, cpu_time = time_operations(size)\n",
        "    results.append([size, gpu_time, cpu_time])\n",
        "\n",
        "# Create DataFrame\n",
        "df = pd.DataFrame(results, columns=['Array Size', 'CuPy Time (s)', 'NumPy Time (s)'])\n",
        "\n",
        "# File path\n",
        "csv_filename = 'performance_comparison.csv'\n",
        "\n",
        "# Check if file exists to decide whether to write headers\n",
        "file_exists = os.path.isfile(csv_filename)\n",
        "\n",
        "# Append DataFrame to CSV (write header only if file does not exist)\n",
        "df.to_csv(csv_filename, mode='a', header=not file_exists, index=False)\n",
        "\n",
        "# Get the full path of the CSV file\n",
        "full_path = os.path.abspath(csv_filename)\n",
        "print(f\"Results appended to {full_path}\")"
      ],
      "metadata": {
        "id": "gFWdSEbv6Dhw",
        "colab": {
          "base_uri": "https://localhost:8080/"
        },
        "outputId": "e842d7ac-a08e-4065-9113-15d6d7e6087b"
      },
      "execution_count": 20,
      "outputs": [
        {
          "output_type": "stream",
          "name": "stdout",
          "text": [
            "Results appended to /content/performance_comparison.csv\n"
          ]
        }
      ]
    }
  ]
}