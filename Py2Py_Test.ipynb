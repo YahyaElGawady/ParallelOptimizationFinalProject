{
  "nbformat": 4,
  "nbformat_minor": 0,
  "metadata": {
    "colab": {
      "provenance": [],
      "gpuType": "T4"
    },
    "kernelspec": {
      "name": "python3",
      "display_name": "Python 3"
    },
    "language_info": {
      "name": "python"
    },
    "accelerator": "GPU"
  },
  "cells": [
    {
      "cell_type": "code",
      "source": [
        "!nvidia-smi"
      ],
      "metadata": {
        "colab": {
          "base_uri": "https://localhost:8080/"
        },
        "id": "3g9Mj6upWARq",
        "outputId": "a9634c32-f1e9-489c-dee4-3c63c396b828"
      },
      "execution_count": null,
      "outputs": [
        {
          "output_type": "stream",
          "name": "stdout",
          "text": [
            "Sun Apr 28 18:00:16 2024       \n",
            "+---------------------------------------------------------------------------------------+\n",
            "| NVIDIA-SMI 535.104.05             Driver Version: 535.104.05   CUDA Version: 12.2     |\n",
            "|-----------------------------------------+----------------------+----------------------+\n",
            "| GPU  Name                 Persistence-M | Bus-Id        Disp.A | Volatile Uncorr. ECC |\n",
            "| Fan  Temp   Perf          Pwr:Usage/Cap |         Memory-Usage | GPU-Util  Compute M. |\n",
            "|                                         |                      |               MIG M. |\n",
            "|=========================================+======================+======================|\n",
            "|   0  Tesla T4                       Off | 00000000:00:04.0 Off |                    0 |\n",
            "| N/A   44C    P8              11W /  70W |      3MiB / 15360MiB |      0%      Default |\n",
            "|                                         |                      |                  N/A |\n",
            "+-----------------------------------------+----------------------+----------------------+\n",
            "                                                                                         \n",
            "+---------------------------------------------------------------------------------------+\n",
            "| Processes:                                                                            |\n",
            "|  GPU   GI   CI        PID   Type   Process name                            GPU Memory |\n",
            "|        ID   ID                                                             Usage      |\n",
            "|=======================================================================================|\n",
            "|  No running processes found                                                           |\n",
            "+---------------------------------------------------------------------------------------+\n"
          ]
        }
      ]
    },
    {
      "cell_type": "code",
      "source": [
        "!nvcc --version"
      ],
      "metadata": {
        "colab": {
          "base_uri": "https://localhost:8080/"
        },
        "id": "omVupag3XVqT",
        "outputId": "5747fde1-2b3c-4873-8747-bb87a7e0710c"
      },
      "execution_count": null,
      "outputs": [
        {
          "output_type": "stream",
          "name": "stdout",
          "text": [
            "nvcc: NVIDIA (R) Cuda compiler driver\n",
            "Copyright (c) 2005-2023 NVIDIA Corporation\n",
            "Built on Tue_Aug_15_22:02:13_PDT_2023\n",
            "Cuda compilation tools, release 12.2, V12.2.140\n",
            "Build cuda_12.2.r12.2/compiler.33191640_0\n"
          ]
        }
      ]
    },
    {
      "cell_type": "code",
      "source": [
        "# %pip install cupy-cuda11x"
      ],
      "metadata": {
        "id": "IqLDJkz2WgqV"
      },
      "execution_count": null,
      "outputs": []
    },
    {
      "cell_type": "code",
      "source": [
        "import numpy as np\n",
        "import cupy as cp"
      ],
      "metadata": {
        "id": "3ScLxvwnW1vX"
      },
      "execution_count": null,
      "outputs": []
    },
    {
      "cell_type": "markdown",
      "source": [
        "We have copy and pasted the functions defined in our pythontopython2.py below:"
      ],
      "metadata": {
        "id": "65IFbG-lZuVd"
      }
    },
    {
      "cell_type": "code",
      "source": [
        "def setup(file_name):\n",
        "    file = open(file_name + \".py\", \"a\")\n",
        "    file.write(\"import cupy\")\n",
        "\n",
        "def get_var_name(var):\n",
        "    for name, value in globals().items():\n",
        "        if value is var:\n",
        "            return name\n",
        "    return var\n",
        "\n",
        "def numpy_add_to_py(a, b):\n",
        "    a_name = get_var_name(a)\n",
        "    b_name = get_var_name(b)\n",
        "    return f\"cupy.add({a_name}, {b_name})\"\n",
        "\n",
        "def numpy_subtract_to_py(a, b):\n",
        "    a_name = get_var_name(a)\n",
        "    b_name = get_var_name(b)\n",
        "    return f\"cupy.subtract({a_name}, {b_name})\"\n",
        "\n",
        "def numpy_sum_to_py(a):\n",
        "    a_name = get_var_name(a)\n",
        "    return f\"cupy.sum({a_name})\"\n",
        "\n",
        "def numpy_dot_to_py(a, b):\n",
        "    a_name = get_var_name(a)\n",
        "    b_name = get_var_name(b)\n",
        "    return f\"cupy.dot({a_name}, {b_name})\"\n",
        "\n",
        "def array_to_py(variable_name, list_values):\n",
        "    # list_values is a string containing comma-separated values\n",
        "    # Turn list_values into a list, and each value in the list into an integer\n",
        "    values = [int(value) for value in list_values.split(',')]\n",
        "\n",
        "    return f\"{variable_name} = cupy.array({values})\""
      ],
      "metadata": {
        "id": "gPaS17M7WgTB"
      },
      "execution_count": null,
      "outputs": []
    },
    {
      "cell_type": "markdown",
      "source": [
        "We want to show firstly that these functions produce strings as expected."
      ],
      "metadata": {
        "id": "AD-b5UVPaQVh"
      }
    },
    {
      "cell_type": "code",
      "source": [
        "setup('example_script')\n",
        "# Expected to create or append to 'example_script.py' with 'import cupy'"
      ],
      "metadata": {
        "id": "x1F7A-Jluqee"
      },
      "execution_count": null,
      "outputs": []
    },
    {
      "cell_type": "code",
      "source": [
        "x = np.array([10, 20, 30])\n",
        "print(get_var_name(x))  # Should print 'x' if 'x' is in the global namespace"
      ],
      "metadata": {
        "id": "oBo0dzVv7NdO",
        "outputId": "a4915d86-12b5-4409-c70d-3a153d32e614",
        "colab": {
          "base_uri": "https://localhost:8080/"
        }
      },
      "execution_count": null,
      "outputs": [
        {
          "output_type": "stream",
          "name": "stdout",
          "text": [
            "x\n"
          ]
        }
      ]
    },
    {
      "cell_type": "code",
      "source": [
        "a = np.array([1, 2, 3])\n",
        "b = np.array([4, 5, 6])\n",
        "print(numpy_add_to_py(a, b))  # Expected output: \"cupy.add(a, b)\""
      ],
      "metadata": {
        "colab": {
          "base_uri": "https://localhost:8080/"
        },
        "id": "lYDod2w-iaoM",
        "outputId": "16ec5176-040f-45c7-f9dc-dc4185352a66"
      },
      "execution_count": null,
      "outputs": [
        {
          "output_type": "stream",
          "name": "stdout",
          "text": [
            "cupy.add(a, b)\n"
          ]
        }
      ]
    },
    {
      "cell_type": "code",
      "source": [
        "a = np.array([7, 8, 9])\n",
        "b = np.array([1, 2, 3])\n",
        "print(numpy_subtract_to_py(a, b))  # Expected output: \"cupy.subtract(a, b)\""
      ],
      "metadata": {
        "colab": {
          "base_uri": "https://localhost:8080/"
        },
        "id": "B0S1bDWPixcG",
        "outputId": "cdceb718-c139-4d28-d9d7-15da499347c0"
      },
      "execution_count": null,
      "outputs": [
        {
          "output_type": "stream",
          "name": "stdout",
          "text": [
            "cupy.subtract(a, b)\n"
          ]
        }
      ]
    },
    {
      "cell_type": "code",
      "source": [
        "a = np.array([10, 20, 30])\n",
        "print(numpy_sum_to_py(a))  # Expected output: \"cupy.sum(a)\""
      ],
      "metadata": {
        "colab": {
          "base_uri": "https://localhost:8080/"
        },
        "id": "8ZoLOy--X1yW",
        "outputId": "f1eca6f0-de36-4599-ba4b-489e25ebced2"
      },
      "execution_count": null,
      "outputs": [
        {
          "output_type": "stream",
          "name": "stdout",
          "text": [
            "cupy.sum(a)\n"
          ]
        }
      ]
    },
    {
      "cell_type": "code",
      "source": [
        "a = np.array([1, 2, 3])\n",
        "b = np.array([4, 5, 6])\n",
        "print(numpy_dot_to_py(a, b))  # Expected output: \"cupy.add(a, b)\""
      ],
      "metadata": {
        "colab": {
          "base_uri": "https://localhost:8080/"
        },
        "id": "3-A-fQbm3Ri5",
        "outputId": "f0582380-5e01-4bb2-85f5-cbda99dc9bc4"
      },
      "execution_count": null,
      "outputs": [
        {
          "output_type": "stream",
          "name": "stdout",
          "text": [
            "cupy.dot(a, b)\n"
          ]
        }
      ]
    },
    {
      "cell_type": "code",
      "source": [
        "variable_name = 'data_array'\n",
        "list_values = '100,200,300,400,500'\n",
        "print(array_to_py(variable_name, list_values))  # Expected output: \"data_array = cupy.array([100, 200, 300, 400, 500])\""
      ],
      "metadata": {
        "colab": {
          "base_uri": "https://localhost:8080/"
        },
        "id": "SCzsiji1jpU-",
        "outputId": "9fae13f7-cfb9-4862-8bbc-8f7e6b39662f"
      },
      "execution_count": null,
      "outputs": [
        {
          "output_type": "stream",
          "name": "stdout",
          "text": [
            "data_array = cupy.array([100, 200, 300, 400, 500])\n"
          ]
        }
      ]
    },
    {
      "cell_type": "markdown",
      "source": [
        "The next step would be to test the output strings actually run when they are  written to a file. In the next cell, we have copied all results from previous steps to emulate the file produced. We also want to compare the numpy vs. cupy run time."
      ],
      "metadata": {
        "id": "2XGKhr2BtYGw"
      }
    },
    {
      "cell_type": "code",
      "source": [
        "import time"
      ],
      "metadata": {
        "id": "5DIwNOXK4wzO"
      },
      "execution_count": null,
      "outputs": []
    },
    {
      "cell_type": "code",
      "source": [
        "import numpy as np\n",
        "import cupy as cp\n",
        "import time\n",
        "\n",
        "array_size = 10000000  # 10 million elements\n",
        "\n",
        "a_gpu = cp.random.rand(array_size)\n",
        "b_gpu = cp.random.rand(array_size)\n",
        "\n",
        "# creating large arrays for NumPy\n",
        "a_cpu = np.random.rand(array_size)\n",
        "b_cpu = np.random.rand(array_size)\n",
        "\n",
        "# timing CuPy operations\n",
        "start_gpu = time.time()\n",
        "cp.add(a_gpu, b_gpu)\n",
        "cp.subtract(a_gpu, b_gpu)\n",
        "cp.sum(a_gpu)\n",
        "time_gpu = time.time() - start_gpu\n",
        "\n",
        "# timing NumPy operations\n",
        "start_cpu = time.time()\n",
        "np.add(a_cpu, b_cpu)\n",
        "np.subtract(a_cpu, b_cpu)\n",
        "np.sum(a_cpu)\n",
        "time_cpu = time.time() - start_cpu\n",
        "\n",
        "print(\"CuPy execution time: {:.5f} seconds\".format(time_gpu))\n",
        "print(\"NumPy execution time: {:.5f} seconds\".format(time_cpu))\n"
      ],
      "metadata": {
        "id": "gFWdSEbv6Dhw",
        "colab": {
          "base_uri": "https://localhost:8080/"
        },
        "outputId": "a0f4022c-3023-43ff-9b33-ed6940766594"
      },
      "execution_count": 24,
      "outputs": [
        {
          "output_type": "stream",
          "name": "stdout",
          "text": [
            "CuPy execution time: 0.00103 seconds\n",
            "NumPy execution time: 0.06860 seconds\n"
          ]
        }
      ]
    }
  ]
}