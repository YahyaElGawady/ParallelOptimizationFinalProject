{
 "cells": [
  {
   "cell_type": "code",
   "execution_count": 1,
   "metadata": {},
   "outputs": [],
   "source": [
    "import numpy as np\n",
    "import pythonToC\n",
    "import parsing_yacc \n",
    "from parsing_lex import MyLexer\n",
    "import pythonTopython2"
   ]
  },
  {
   "cell_type": "code",
   "execution_count": 2,
   "metadata": {},
   "outputs": [],
   "source": [
    "# Define test input\n",
    "input_code = \"\"\"\n",
    "a = np.array([1, 2, 3])\n",
    "b = np.array([4, 5, 6])\n",
    "\n",
    "c = np.add(a, b)\n",
    "d = np.subtract(a, b)\n",
    "e = np.sum(a)\n",
    "f = np.dot(a, b)\n",
    "\"\"\""
   ]
  },
  {
   "cell_type": "code",
   "execution_count": 3,
   "metadata": {},
   "outputs": [
    {
     "name": "stdout",
     "output_type": "stream",
     "text": [
      "LexToken(VARIABLE,'a',1,1)\n",
      "LexToken(EQUALS,'=',1,3)\n",
      "LexToken(ARRAY,'np.array',1,5)\n",
      "LexToken(LPAREN,'(',1,13)\n",
      "LexToken(LIST,'[1, 2, 3]',1,14)\n",
      "LexToken(RPAREN,')',1,23)\n",
      "LexToken(VARIABLE,'b',1,25)\n",
      "LexToken(EQUALS,'=',1,27)\n",
      "LexToken(ARRAY,'np.array',1,29)\n",
      "LexToken(LPAREN,'(',1,37)\n",
      "LexToken(LIST,'[4, 5, 6]',1,38)\n",
      "LexToken(RPAREN,')',1,47)\n",
      "LexToken(VARIABLE,'c',1,50)\n",
      "LexToken(EQUALS,'=',1,52)\n",
      "LexToken(NP_ADD,'np.add',1,54)\n",
      "LexToken(LPAREN,'(',1,60)\n",
      "LexToken(VARIABLE,'a',1,61)\n",
      "LexToken(COMMA,',',1,62)\n",
      "LexToken(VARIABLE,'b',1,64)\n",
      "LexToken(RPAREN,')',1,65)\n",
      "LexToken(VARIABLE,'d',1,67)\n",
      "LexToken(EQUALS,'=',1,69)\n",
      "LexToken(NP_SUBTRACT,'np.subtract',1,71)\n",
      "LexToken(LPAREN,'(',1,82)\n",
      "LexToken(VARIABLE,'a',1,83)\n",
      "LexToken(COMMA,',',1,84)\n",
      "LexToken(VARIABLE,'b',1,86)\n",
      "LexToken(RPAREN,')',1,87)\n",
      "LexToken(VARIABLE,'e',1,89)\n",
      "LexToken(EQUALS,'=',1,91)\n",
      "LexToken(NP_SUM,'np.sum',1,93)\n",
      "LexToken(LPAREN,'(',1,99)\n",
      "LexToken(VARIABLE,'a',1,100)\n",
      "LexToken(RPAREN,')',1,101)\n",
      "LexToken(VARIABLE,'f',1,103)\n",
      "LexToken(EQUALS,'=',1,105)\n",
      "LexToken(NP_DOT_PRODUCT,'np.dot',1,107)\n",
      "LexToken(LPAREN,'(',1,113)\n",
      "LexToken(VARIABLE,'a',1,114)\n",
      "LexToken(COMMA,',',1,115)\n",
      "LexToken(VARIABLE,'b',1,117)\n",
      "LexToken(RPAREN,')',1,118)\n"
     ]
    }
   ],
   "source": [
    "# Create an instance of MyLexer\n",
    "lexer = MyLexer()\n",
    "\n",
    "# Build the lexer\n",
    "lexer.build()\n",
    "\n",
    "# Test the lexer on the input code\n",
    "lexer.test(input_code)"
   ]
  },
  {
   "cell_type": "code",
   "execution_count": 4,
   "metadata": {},
   "outputs": [],
   "source": [
    "def deploy_parser(input, mode): \n",
    "    output = \"\"\n",
    "\n",
    "    for line in input.split(\"\\n\"):\n",
    "        if line == \"\":\n",
    "            continue\n",
    "        print(\"line: \", line)   \n",
    "        result = parsing_yacc.main(line, mode)\n",
    "        print(\"result: \", result)\n",
    "        # Check if the result is a string \n",
    "        if isinstance(result, str):\n",
    "            output += result + \"\\n\"\n",
    "\n",
    "    return output"
   ]
  },
  {
   "cell_type": "code",
   "execution_count": 5,
   "metadata": {},
   "outputs": [
    {
     "name": "stdout",
     "output_type": "stream",
     "text": [
      "Generating C code...\n",
      "line:  a = np.array([1, 2, 3])\n",
      "result:     float h_a[1, 2, 3] = [1, 2, 3];\n",
      "    float *d_a;\n",
      "   cudaMalloc(&d_a,1, 2, 3*sizeof(float);\n",
      "    cudaMemcpy(d_a, h_a,sizeof(h_a), cudaMemcpyHostToDevice);\n",
      "\n",
      "\n",
      "line:  b = np.array([4, 5, 6])\n",
      "result:     float h_b[4, 5, 6] = [4, 5, 6];\n",
      "    float *d_b;\n",
      "   cudaMalloc(&d_b,4, 5, 6*sizeof(float);\n",
      "    cudaMemcpy(d_b, h_b,sizeof(h_b), cudaMemcpyHostToDevice);\n",
      "\n",
      "\n",
      "line:  c = np.add(a, b)\n",
      "result:  addArraysHelper(a, b, c);\n",
      "line:  d = np.subtract(a, b)\n",
      "result:  subtractArraysHelper(a, b, d);\n",
      "line:  e = np.sum(a)\n",
      "result:  sumArraysHelper(a, e);\n",
      "line:  f = np.dot(a, b)\n",
      "result:  None\n",
      "C code generation complete.\n",
      "c_output:    float h_a[1, 2, 3] = [1, 2, 3];\n",
      "    float *d_a;\n",
      "   cudaMalloc(&d_a,1, 2, 3*sizeof(float);\n",
      "    cudaMemcpy(d_a, h_a,sizeof(h_a), cudaMemcpyHostToDevice);\n",
      "\n",
      "\n",
      "   float h_b[4, 5, 6] = [4, 5, 6];\n",
      "    float *d_b;\n",
      "   cudaMalloc(&d_b,4, 5, 6*sizeof(float);\n",
      "    cudaMemcpy(d_b, h_b,sizeof(h_b), cudaMemcpyHostToDevice);\n",
      "\n",
      "\n",
      "addArraysHelper(a, b, c);\n",
      "subtractArraysHelper(a, b, d);\n",
      "sumArraysHelper(a, e);\n",
      "\n"
     ]
    },
    {
     "ename": "SyntaxError",
     "evalue": "invalid syntax (<string>, line 1)",
     "output_type": "error",
     "traceback": [
      "Traceback \u001b[1;36m(most recent call last)\u001b[0m:\n",
      "  File \u001b[0;32m~\\AppData\\Local\\Packages\\PythonSoftwareFoundation.Python.3.10_qbz5n2kfra8p0\\LocalCache\\local-packages\\Python310\\site-packages\\IPython\\core\\interactiveshell.py:3398\u001b[0m in \u001b[0;35mrun_code\u001b[0m\n    exec(code_obj, self.user_global_ns, self.user_ns)\n",
      "\u001b[1;36m  Input \u001b[1;32mIn [5]\u001b[1;36m in \u001b[1;35m<cell line: 8>\u001b[1;36m\u001b[0m\n\u001b[1;33m    exec(\"pythonTopython2.\" + line.strip())\u001b[0m\n",
      "\u001b[1;36m  File \u001b[1;32m<string>:1\u001b[1;36m\u001b[0m\n\u001b[1;33m    pythonTopython2.float h_a[1, 2, 3] = [1, 2, 3];\u001b[0m\n\u001b[1;37m                          ^\u001b[0m\n\u001b[1;31mSyntaxError\u001b[0m\u001b[1;31m:\u001b[0m invalid syntax\n"
     ]
    }
   ],
   "source": [
    "\n",
    "\n",
    "# Generate C code from Python input using yacc\n",
    "print(\"Generating C code...\")\n",
    "c_output = deploy_parser(input_code, \"C\")\n",
    "print(\"C code generation complete.\")\n",
    "\n",
    "print(\"c_output:\", c_output)\n",
    "\n",
    "if c_output:\n",
    "    # Set up files for conversion\n",
    "    pythonToC.set_up(\"test\")\n",
    "    pythonTopython2.setup(\"test\")\n",
    "\n",
    "    # Execute the input code to define variables\n",
    "    exec(input_code)\n",
    "\n",
    "    # Generate C code from Python input using pythontoC functions\n",
    "    for line in input_code.split('\\n'):\n",
    "        if '=' in line:\n",
    "            variable, value = map(str.strip, line.split(\"=\"))\n",
    "            if '[' in value:  # Check if value is an array\n",
    "                array_length = len(eval(value))  # Evaluate the array and get its length\n",
    "                pythonToC.set_arr(variable, value, array_length, \"test\")\n",
    "            else:  # Single value\n",
    "                pythonToC.set_arr(variable, value, 1, \"test\")\n",
    "\n",
    "    # Generate Python code from Python input using pythontopython functions\n",
    "    for line in input_code.split('\\n'):\n",
    "        if '=' in line:\n",
    "            exec(\"pythonTopython2.\" + line.strip())\n",
    "\n",
    "    # Generate Python code from C input using pythontopython functions\n",
    "    for line in c_output.split('\\n'):\n",
    "        if line.strip():\n",
    "            exec(\"pythonTopython2.\" + line.strip())\n",
    "\n",
    "    print(\"Conversion complete.\")\n",
    "else:\n",
    "    print(\"No C output generated.\")\n"
   ]
  }
 ],
 "metadata": {
  "kernelspec": {
   "display_name": "Python 3",
   "language": "python",
   "name": "python3"
  },
  "language_info": {
   "codemirror_mode": {
    "name": "ipython",
    "version": 3
   },
   "file_extension": ".py",
   "mimetype": "text/x-python",
   "name": "python",
   "nbconvert_exporter": "python",
   "pygments_lexer": "ipython3",
   "version": "3.10.11"
  }
 },
 "nbformat": 4,
 "nbformat_minor": 2
}
