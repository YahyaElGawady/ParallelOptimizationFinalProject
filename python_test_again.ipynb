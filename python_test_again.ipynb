{
 "cells": [
  {
   "cell_type": "code",
   "execution_count": null,
   "metadata": {},
   "outputs": [],
   "source": [
    "import numpy as np\n",
    "import pythonToC\n",
    "import parsing_yacc \n",
    "from parsing_lex import MyLexer\n",
    "import pythonTopython2\n",
    "import time"
   ]
  },
  {
   "cell_type": "code",
   "execution_count": null,
   "metadata": {},
   "outputs": [],
   "source": [
    "# Define test input\n",
    "input_code = \"\"\"\n",
    "a = np.array([1, 2, 3])\n",
    "b = np.array([4, 5, 6])\n",
    "\n",
    "c = np.add(a, b)\n",
    "d = np.subtract(a, b)\n",
    "e = np.sum(a)\n",
    "f = np.dot(a, b)\n",
    "\"\"\""
   ]
  },
  {
   "cell_type": "code",
   "execution_count": null,
   "metadata": {},
   "outputs": [],
   "source": [
    "# Create an instance of MyLexer\n",
    "lexer = MyLexer()\n",
    "\n",
    "# Build the lexer\n",
    "lexer.build()\n",
    "\n",
    "# Test the lexer on the input code\n",
    "lexer.test(input_code)"
   ]
  },
  {
   "cell_type": "code",
   "execution_count": null,
   "metadata": {},
   "outputs": [],
   "source": [
    "def deploy_parser(input, mode): \n",
    "    output = \"\"\n",
    "\n",
    "    for line in input.split(\"\\n\"):\n",
    "        if line == \"\":\n",
    "            continue\n",
    "        # print(\"line: \", line)   \n",
    "        result = parsing_yacc.main(line, mode)\n",
    "        # print(\"result: \", result)\n",
    "        # Check if the result is a string \n",
    "        if isinstance(result, str):\n",
    "            output += result + \"\\n\"\n",
    "\n",
    "    return output"
   ]
  },
  {
   "cell_type": "code",
   "execution_count": null,
   "metadata": {},
   "outputs": [],
   "source": [
    "# Generate C code from Python input using yacc\n",
    "print(\"Generating C code...\")\n",
    "#measure time to genreate C code - \n",
    "start_time = time.time()\n",
    "\n",
    "c_output = deploy_parser(input_code, \"C\")\n",
    "print(\"C code generation complete.\")\n",
    "\n",
    "c_time  = time.time() - start_time\n",
    "print(\"Time taken to generate C code:\", c_time)\n",
    "print(\"\\n\")\n",
    "\n",
    "print(\"c_output:\", c_output)\n",
    "\n",
    "if c_output:\n",
    "    # Set up files for conversion\n",
    "    pythonToC.set_up(\"test\")\n",
    "    pythonTopython2.setup(\"test\")\n",
    "\n",
    "    # Execute the input code to define variables\n",
    "    exec(input_code)\n",
    "\n",
    "    # Generate C code from Python input using pythontoC functions\n",
    "    for line in input_code.split('\\n'):\n",
    "        if '=' in line:\n",
    "            variable, value = map(str.strip, line.split(\"=\"))\n",
    "            if '[' in value:  # Check if value is an array\n",
    "                array_length = len(eval(value))  # Evaluate the array and get its length\n",
    "                pythonToC.set_arr(variable, value, array_length, \"test\")\n",
    "            else:  # Single value\n",
    "                pythonToC.set_arr(variable, value, 1, \"test\")\n",
    "\n",
    "\n",
    "\n",
    "    # Generate Python code from Python input using pythontopython functions\n",
    "    for line in input_code.split('\\n'):\n",
    "        if '=' in line:\n",
    "            exec(\"pythonTopython2.\" + line.strip())\n",
    "    p_time  = time.time() - start_time\n",
    "    \n",
    "\n",
    "    # Generate Python code from C input using pythontopython functions\n",
    "    #for line in c_output.split('\\n'):\n",
    "        #if line.strip():\n",
    "            #exec(\"pythonTopython2.\" + line.strip())\n",
    "\n",
    "    print(\"Conversion complete.\")\n",
    "else:\n",
    "    print(\"No C output generated.\")\n"
   ]
  },
  {
   "cell_type": "code",
   "execution_count": null,
   "metadata": {},
   "outputs": [],
   "source": [
    "# Generate Python code from Python input using yacc\n",
    "print(\"Generating Python code...\")\n",
    "start_time = time.time()\n",
    "\n",
    "python_output = deploy_parser(input_code, \"Python\")\n",
    "print(\"Python code generation complete.\")\n",
    "\n",
    "p_time  = time.time() - start_time\n",
    "print(\"Time taken to generate Python code:\", p_time)\n",
    "print(\"\\n\")\n",
    "\n",
    "print(\"python_output:\", python_output)\n",
    "\n",
    "if python_output:\n",
    "    pass \n"
   ]
  }
 ],
 "metadata": {
  "kernelspec": {
   "display_name": "Python 3",
   "language": "python",
   "name": "python3"
  },
  "language_info": {
   "codemirror_mode": {
    "name": "ipython",
    "version": 3
   },
   "file_extension": ".py",
   "mimetype": "text/x-python",
   "name": "python",
   "nbconvert_exporter": "python",
   "pygments_lexer": "ipython3",
   "version": "3.9.6"
  }
 },
 "nbformat": 4,
 "nbformat_minor": 2
}
