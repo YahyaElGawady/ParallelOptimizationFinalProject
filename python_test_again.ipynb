{
 "cells": [
  {
   "cell_type": "code",
   "execution_count": 1,
   "metadata": {},
   "outputs": [],
   "source": [
    "import numpy as np\n",
    "import pythonToC\n",
    "import parsing_yacc \n",
    "from parsing_lex import MyLexer\n",
    "import pythonTopython2\n",
    "import time"
   ]
  },
  {
   "cell_type": "code",
   "execution_count": 2,
   "metadata": {},
   "outputs": [],
   "source": [
    "def create_input_code(arr_len): \n",
    "    # Create a list of values with length arr_len \n",
    "    a_values = np.random.randint(0, 100, arr_len)\n",
    "    a_values = a_values.tolist() \n",
    "    b_values = np.random.randint(0, 100, arr_len) \n",
    "    b_values = b_values.tolist() \n",
    "\n",
    "    # Create a string with the code to be executed\n",
    "    # print(str(a_values)[1:-1])\n",
    "    code = \"\"\"\n",
    "a = np.array([%s]) \n",
    "b = np.array([%s])\n",
    "\n",
    "c = np.add(a, b) \n",
    "d = np.subtract(a, b)\n",
    "e = np.sum(a) \n",
    "f = np.dot(a, b)\"\"\" % (str(a_values)[1:-1], str(b_values)[1:-1])\n",
    "\n",
    "    return code"
   ]
  },
  {
   "cell_type": "code",
   "execution_count": 3,
   "metadata": {},
   "outputs": [
    {
     "name": "stdout",
     "output_type": "stream",
     "text": [
      "\n",
      "a = np.array([72, 64, 97, 93]) \n",
      "b = np.array([19, 66, 3, 54])\n",
      "\n",
      "c = np.add(a, b) \n",
      "d = np.subtract(a, b)\n",
      "e = np.sum(a) \n",
      "f = np.dot(a, b)\n"
     ]
    }
   ],
   "source": [
    "input_code = create_input_code(4) \n",
    "print(input_code)"
   ]
  },
  {
   "cell_type": "code",
   "execution_count": 4,
   "metadata": {},
   "outputs": [],
   "source": [
    "# # Define test input\n",
    "# input_code = \"\"\"\n",
    "# a = np.array([1, 2, 3])\n",
    "# b = np.array([4, 5, 6])\n",
    "\n",
    "# c = np.add(a, b)\n",
    "# d = np.subtract(a, b)\n",
    "# e = np.sum(a)\n",
    "# f = np.dot(a, b)\n",
    "# \"\"\""
   ]
  },
  {
   "cell_type": "code",
   "execution_count": 5,
   "metadata": {},
   "outputs": [
    {
     "name": "stdout",
     "output_type": "stream",
     "text": [
      "LexToken(VARIABLE,'a',1,1)\n",
      "LexToken(EQUALS,'=',1,3)\n",
      "LexToken(ARRAY,'np.array',1,5)\n",
      "LexToken(LPAREN,'(',1,13)\n",
      "LexToken(LIST,'[72, 64, 97, 93]',1,14)\n",
      "LexToken(RPAREN,')',1,30)\n",
      "LexToken(VARIABLE,'b',1,33)\n",
      "LexToken(EQUALS,'=',1,35)\n",
      "LexToken(ARRAY,'np.array',1,37)\n",
      "LexToken(LPAREN,'(',1,45)\n",
      "LexToken(LIST,'[19, 66, 3, 54]',1,46)\n",
      "LexToken(RPAREN,')',1,61)\n",
      "LexToken(VARIABLE,'c',1,64)\n",
      "LexToken(EQUALS,'=',1,66)\n",
      "LexToken(NP_ADD,'np.add',1,68)\n",
      "LexToken(LPAREN,'(',1,74)\n",
      "LexToken(VARIABLE,'a',1,75)\n",
      "LexToken(COMMA,',',1,76)\n",
      "LexToken(VARIABLE,'b',1,78)\n",
      "LexToken(RPAREN,')',1,79)\n",
      "LexToken(VARIABLE,'d',1,82)\n",
      "LexToken(EQUALS,'=',1,84)\n",
      "LexToken(NP_SUBTRACT,'np.subtract',1,86)\n",
      "LexToken(LPAREN,'(',1,97)\n",
      "LexToken(VARIABLE,'a',1,98)\n",
      "LexToken(COMMA,',',1,99)\n",
      "LexToken(VARIABLE,'b',1,101)\n",
      "LexToken(RPAREN,')',1,102)\n",
      "LexToken(VARIABLE,'e',1,104)\n",
      "LexToken(EQUALS,'=',1,106)\n",
      "LexToken(NP_SUM,'np.sum',1,108)\n",
      "LexToken(LPAREN,'(',1,114)\n",
      "LexToken(VARIABLE,'a',1,115)\n",
      "LexToken(RPAREN,')',1,116)\n",
      "LexToken(VARIABLE,'f',1,119)\n",
      "LexToken(EQUALS,'=',1,121)\n",
      "LexToken(NP_DOT_PRODUCT,'np.dot',1,123)\n",
      "LexToken(LPAREN,'(',1,129)\n",
      "LexToken(VARIABLE,'a',1,130)\n",
      "LexToken(COMMA,',',1,131)\n",
      "LexToken(VARIABLE,'b',1,133)\n",
      "LexToken(RPAREN,')',1,134)\n"
     ]
    }
   ],
   "source": [
    "# Create an instance of MyLexer\n",
    "lexer = MyLexer()\n",
    "\n",
    "# Build the lexer\n",
    "lexer.build()\n",
    "\n",
    "# Test the lexer on the input code\n",
    "lexer.test(input_code)"
   ]
  },
  {
   "cell_type": "code",
   "execution_count": 6,
   "metadata": {},
   "outputs": [],
   "source": [
    "def deploy_parser(input, mode): \n",
    "    output = \"\"\n",
    "\n",
    "    for line in input.split(\"\\n\"):\n",
    "        if line == \"\":\n",
    "            continue\n",
    "        # print(\"line: \", line)   \n",
    "        result = parsing_yacc.main(line, mode)\n",
    "        # print(\"result: \", result)\n",
    "        # Check if the result is a string \n",
    "        if isinstance(result, str):\n",
    "            output += result + \"\\n\"\n",
    "\n",
    "    return output"
   ]
  },
  {
   "cell_type": "code",
   "execution_count": 7,
   "metadata": {},
   "outputs": [
    {
     "name": "stdout",
     "output_type": "stream",
     "text": [
      "Generating C code...\n",
      "C code generation complete.\n",
      "Time taken to generate C code: 0.00404810905456543\n",
      "\n",
      "\n",
      "c_output:    float h_a[72, 64, 97, 93] = [72, 64, 97, 93];\n",
      "    float *d_a;\n",
      "   cudaMalloc(&d_a,72, 64, 97, 93*sizeof(float);\n",
      "    cudaMemcpy(d_a, h_a,sizeof(h_a), cudaMemcpyHostToDevice);\n",
      "\n",
      "\n",
      "   float h_b[19, 66, 3, 54] = [19, 66, 3, 54];\n",
      "    float *d_b;\n",
      "   cudaMalloc(&d_b,19, 66, 3, 54*sizeof(float);\n",
      "    cudaMemcpy(d_b, h_b,sizeof(h_b), cudaMemcpyHostToDevice);\n",
      "\n",
      "\n",
      "addArraysHelper(a, b, c);\n",
      "subtractArraysHelper(a, b, d);\n",
      "sumArraysHelper(a, e);\n",
      "\n",
      "Conversion complete.\n"
     ]
    }
   ],
   "source": [
    "# Generate C code from Python input using yacc\n",
    "print(\"Generating C code...\")\n",
    "#measure time to genreate C code - \n",
    "start_time = time.time()\n",
    "\n",
    "c_output = deploy_parser(input_code, \"C\")\n",
    "print(\"C code generation complete.\")\n",
    "\n",
    "c_time  = time.time() - start_time\n",
    "print(\"Time taken to generate C code:\", c_time)\n",
    "print(\"\\n\")\n",
    "\n",
    "print(\"c_output:\", c_output)\n",
    "\n",
    "if c_output:\n",
    "    # Set up files for conversion\n",
    "    pythonToC.set_up(\"test\")\n",
    "    pythonTopython2.setup(\"test\")\n",
    "\n",
    "    # Execute the input code to define variables\n",
    "    exec(input_code)\n",
    "\n",
    "    # Generate C code from Python input using pythontoC functions\n",
    "    for line in input_code.split('\\n'):\n",
    "        if '=' in line:\n",
    "            variable, value = map(str.strip, line.split(\"=\"))\n",
    "            if '[' in value:  # Check if value is an array\n",
    "                array_length = len(eval(value))  # Evaluate the array and get its length\n",
    "                pythonToC.set_arr(variable, value, array_length, \"test\")\n",
    "            else:  # Single value\n",
    "                pythonToC.set_arr(variable, value, 1, \"test\")\n",
    "\n",
    "\n",
    "\n",
    "    # Generate Python code from Python input using pythontopython functions\n",
    "    for line in input_code.split('\\n'):\n",
    "        if '=' in line:\n",
    "            exec(\"pythonTopython2.\" + line.strip())\n",
    "    p_time  = time.time() - start_time\n",
    "    \n",
    "\n",
    "    # Generate Python code from C input using pythontopython functions\n",
    "    #for line in c_output.split('\\n'):\n",
    "        #if line.strip():\n",
    "            #exec(\"pythonTopython2.\" + line.strip())\n",
    "\n",
    "#     print(\"Conversion complete.\")\n",
    "# else:\n",
    "#     print(\"No C output generated.\")\n"
   ]
  },
  {
   "cell_type": "code",
   "execution_count": 6,
   "metadata": {},
   "outputs": [
    {
     "name": "stdout",
     "output_type": "stream",
     "text": [
      "Generating Python code...\n",
      "Python code generation complete.\n",
      "Time taken to generate Python code: 0.0020599365234375\n",
      "\n",
      "\n",
      "python_output: a = cupy.array([1, 2, 3])\n",
      "b = cupy.array([4, 5, 6])\n",
      "cupy.add(a, b)\n",
      "cupy.subtract(a, b)\n",
      "cupy.sum(a)\n",
      "cupy.dot(a, b)\n",
      "\n"
     ]
    }
   ],
   "source": [
    "# Generate Python code from Python input using yacc\n",
    "print(\"Generating Python code...\")\n",
    "start_time = time.time()\n",
    "\n",
    "python_output = deploy_parser(input_code, \"Python\")\n",
    "print(\"Python code generation complete.\")\n",
    "\n",
    "p_time  = time.time() - start_time\n",
    "print(\"Time taken to generate Python code:\", p_time)\n",
    "print(\"\\n\")\n",
    "\n",
    "print(\"python_output:\", python_output)\n",
    "\n",
    "if python_output:\n",
    "    pass \n"
   ]
  }
 ],
 "metadata": {
  "kernelspec": {
   "display_name": "Python 3",
   "language": "python",
   "name": "python3"
  },
  "language_info": {
   "codemirror_mode": {
    "name": "ipython",
    "version": 3
   },
   "file_extension": ".py",
   "mimetype": "text/x-python",
   "name": "python",
   "nbconvert_exporter": "python",
   "pygments_lexer": "ipython3",
   "version": "3.9.6"
  }
 },
 "nbformat": 4,
 "nbformat_minor": 2
}
