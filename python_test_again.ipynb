{
 "cells": [
  {
   "cell_type": "code",
   "execution_count": 29,
   "metadata": {},
   "outputs": [],
   "source": [
    "import numpy as np\n",
    "import pythonToC\n",
    "import parsing_yacc \n",
    "from parsing_lex import MyLexer\n",
    "import pythonTopython2"
   ]
  },
  {
   "cell_type": "code",
   "execution_count": 30,
   "metadata": {},
   "outputs": [],
   "source": [
    "# Define test input\n",
    "input_code = \"\"\"\n",
    "a = np.array([1, 2, 3])\n",
    "b = np.array([4, 5, 6])\n",
    "\n",
    "c = np.add(a, b)\n",
    "d = np.subtract(a, b)\n",
    "e = np.sum(a)\n",
    "f = np.dot(a, b)\n",
    "\"\"\""
   ]
  },
  {
   "cell_type": "code",
   "execution_count": 31,
   "metadata": {},
   "outputs": [],
   "source": [
    "def deploy_parser(input, mode): \n",
    "    output = \"\"\n",
    "\n",
    "    for line in input.split(\"\\n\"):\n",
    "        if line == \"\":\n",
    "            continue\n",
    "        print(\"line: \", line)   \n",
    "        result = parsing_yacc.main(line, mode)\n",
    "        print(\"result: \", result)\n",
    "        # Check if the result is a string \n",
    "        if isinstance(result, str):\n",
    "            output += result + \"\\n\"\n",
    "\n",
    "    return output"
   ]
  },
  {
   "cell_type": "code",
   "execution_count": 32,
   "metadata": {},
   "outputs": [
    {
     "name": "stdout",
     "output_type": "stream",
     "text": [
      "Generating C code...\n",
      "line:  a = np.array([1, 2, 3])\n",
      "result:     float h_a[1, 2, 3] = [1, 2, 3];\n",
      "    float *d_a;\n",
      "   cudaMalloc(&d_a,1, 2, 3*sizeof(float);\n",
      "    cudaMemcpy(d_a, h_a,sizeof(h_a), cudaMemcpyHostToDevice);\n",
      "\n",
      "\n",
      "line:  b = np.array([4, 5, 6])\n",
      "result:     float h_b[4, 5, 6] = [4, 5, 6];\n",
      "    float *d_b;\n",
      "   cudaMalloc(&d_b,4, 5, 6*sizeof(float);\n",
      "    cudaMemcpy(d_b, h_b,sizeof(h_b), cudaMemcpyHostToDevice);\n",
      "\n",
      "\n",
      "line:  c = np.add(a, b)\n",
      "result:  addArraysHelper(a, b, c);\n",
      "line:  d = np.subtract(a, b)\n",
      "result:  subtractArraysHelper(a, b, d);\n",
      "line:  e = np.sum(a)\n",
      "result:  sumArraysHelper(a, e);\n",
      "line:  f = np.dot(a, b)\n",
      "result:  None\n",
      "C code generation complete.\n",
      "c_output:    float h_a[1, 2, 3] = [1, 2, 3];\n",
      "    float *d_a;\n",
      "   cudaMalloc(&d_a,1, 2, 3*sizeof(float);\n",
      "    cudaMemcpy(d_a, h_a,sizeof(h_a), cudaMemcpyHostToDevice);\n",
      "\n",
      "\n",
      "   float h_b[4, 5, 6] = [4, 5, 6];\n",
      "    float *d_b;\n",
      "   cudaMalloc(&d_b,4, 5, 6*sizeof(float);\n",
      "    cudaMemcpy(d_b, h_b,sizeof(h_b), cudaMemcpyHostToDevice);\n",
      "\n",
      "\n",
      "addArraysHelper(a, b, c);\n",
      "subtractArraysHelper(a, b, d);\n",
      "sumArraysHelper(a, e);\n",
      "\n"
     ]
    },
    {
     "ename": "NameError",
     "evalue": "name 'pythontopython' is not defined",
     "output_type": "error",
     "traceback": [
      "\u001b[1;31m---------------------------------------------------------------------------\u001b[0m",
      "\u001b[1;31mNameError\u001b[0m                                 Traceback (most recent call last)",
      "Input \u001b[1;32mIn [32]\u001b[0m, in \u001b[0;36m<cell line: 17>\u001b[1;34m()\u001b[0m\n\u001b[0;32m     36\u001b[0m \u001b[38;5;28;01mfor\u001b[39;00m line \u001b[38;5;129;01min\u001b[39;00m input_code\u001b[38;5;241m.\u001b[39msplit(\u001b[38;5;124m'\u001b[39m\u001b[38;5;130;01m\\n\u001b[39;00m\u001b[38;5;124m'\u001b[39m):\n\u001b[0;32m     37\u001b[0m     \u001b[38;5;28;01mif\u001b[39;00m \u001b[38;5;124m'\u001b[39m\u001b[38;5;124m=\u001b[39m\u001b[38;5;124m'\u001b[39m \u001b[38;5;129;01min\u001b[39;00m line:\n\u001b[1;32m---> 38\u001b[0m         \u001b[43mexec\u001b[49m\u001b[43m(\u001b[49m\u001b[38;5;124;43m\"\u001b[39;49m\u001b[38;5;124;43mpythontopython.\u001b[39;49m\u001b[38;5;124;43m\"\u001b[39;49m\u001b[43m \u001b[49m\u001b[38;5;241;43m+\u001b[39;49m\u001b[43m \u001b[49m\u001b[43mline\u001b[49m\u001b[38;5;241;43m.\u001b[39;49m\u001b[43mstrip\u001b[49m\u001b[43m(\u001b[49m\u001b[43m)\u001b[49m\u001b[43m)\u001b[49m\n\u001b[0;32m     40\u001b[0m \u001b[38;5;66;03m# Generate Python code from C input using pythontopython functions\u001b[39;00m\n\u001b[0;32m     41\u001b[0m \u001b[38;5;28;01mfor\u001b[39;00m line \u001b[38;5;129;01min\u001b[39;00m c_output\u001b[38;5;241m.\u001b[39msplit(\u001b[38;5;124m'\u001b[39m\u001b[38;5;130;01m\\n\u001b[39;00m\u001b[38;5;124m'\u001b[39m):\n",
      "File \u001b[1;32m<string>:1\u001b[0m, in \u001b[0;36m<module>\u001b[1;34m\u001b[0m\n",
      "\u001b[1;31mNameError\u001b[0m: name 'pythontopython' is not defined"
     ]
    }
   ],
   "source": [
    "# # Create an instance of MyLexer\n",
    "# lexer = MyLexer()\n",
    "\n",
    "# # Build the lexer\n",
    "# lexer.build()\n",
    "\n",
    "# # Test the lexer on the input code\n",
    "# lexer.test(input_code)\n",
    "\n",
    "# Generate C code from Python input using yacc\n",
    "print(\"Generating C code...\")\n",
    "c_output = deploy_parser(input_code, \"C\")\n",
    "print(\"C code generation complete.\")\n",
    "\n",
    "print(\"c_output:\", c_output)\n",
    "\n",
    "if c_output:\n",
    "    # Set up files for conversion\n",
    "    pythonToC.set_up(\"test\")\n",
    "    pythonTopython2.setup(\"test\")\n",
    "\n",
    "    # Execute the input code to define variables\n",
    "    exec(input_code)\n",
    "\n",
    "    # Generate C code from Python input using pythontoC functions\n",
    "    for line in input_code.split('\\n'):\n",
    "        if '=' in line:\n",
    "            variable, value = map(str.strip, line.split(\"=\"))\n",
    "            if '[' in value:  # Check if value is an array\n",
    "                array_length = len(eval(value))  # Evaluate the array and get its length\n",
    "                pythonToC.set_arr(variable, value, array_length, \"test\")\n",
    "            else:  # Single value\n",
    "                pythonToC.set_arr(variable, value, 1, \"test\")\n",
    "\n",
    "    # Generate Python code from Python input using pythontopython functions\n",
    "    for line in input_code.split('\\n'):\n",
    "        if '=' in line:\n",
    "            exec(\"pythontopython.\" + line.strip())\n",
    "\n",
    "    # Generate Python code from C input using pythontopython functions\n",
    "    for line in c_output.split('\\n'):\n",
    "        if line.strip():\n",
    "            exec(\"pythontopython.\" + line.strip())\n",
    "\n",
    "    print(\"Conversion complete.\")\n",
    "else:\n",
    "    print(\"No C output generated.\")\n"
   ]
  }
 ],
 "metadata": {
  "kernelspec": {
   "display_name": "Python 3",
   "language": "python",
   "name": "python3"
  },
  "language_info": {
   "codemirror_mode": {
    "name": "ipython",
    "version": 3
   },
   "file_extension": ".py",
   "mimetype": "text/x-python",
   "name": "python",
   "nbconvert_exporter": "python",
   "pygments_lexer": "ipython3",
   "version": "3.10.11"
  }
 },
 "nbformat": 4,
 "nbformat_minor": 2
}
