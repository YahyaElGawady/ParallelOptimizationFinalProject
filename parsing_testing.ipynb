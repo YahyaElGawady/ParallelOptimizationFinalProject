{
 "cells": [
  {
   "cell_type": "markdown",
   "metadata": {},
   "source": [
    "# Parsing Tests\n",
    "This notebook will be used to test the functions in the parsing.py file in a practical sense. "
   ]
  },
  {
   "cell_type": "code",
   "execution_count": 1,
   "metadata": {},
   "outputs": [],
   "source": [
    "import parsing"
   ]
  },
  {
   "cell_type": "markdown",
   "metadata": {},
   "source": [
    "## Testing on print statements "
   ]
  },
  {
   "cell_type": "code",
   "execution_count": 3,
   "metadata": {},
   "outputs": [
    {
     "name": "stdout",
     "output_type": "stream",
     "text": [
      "LexToken(PRINT,'print',1,2)\n",
      "LexToken(LPAREN,'(',1,7)\n",
      "LexToken(STRING,'\"Hello World\"',1,8)\n",
      "LexToken(RPAREN,')',1,21)\n",
      "None\n"
     ]
    }
   ],
   "source": [
    "# Let's test the Lexer on various print statements and see if it works \n",
    "\n",
    "input = \"\"\" \n",
    "print(\"Hello World\")\n",
    "\"\"\"\n",
    "\n",
    "# We want to pass the input into the main function of the parsing module \n",
    "tokens = parsing.main(input)\n",
    "\n",
    "# We want to print the tokens to see if the lexer is working \n",
    "print(tokens)"
   ]
  },
  {
   "cell_type": "code",
   "execution_count": 4,
   "metadata": {},
   "outputs": [
    {
     "name": "stdout",
     "output_type": "stream",
     "text": [
      "LexToken(PRINT,'print',1,2)\n",
      "LexToken(LPAREN,'(',1,7)\n",
      "LexToken(STRING,'\"Hello World\"',1,8)\n",
      "LexToken(RPAREN,')',1,21)\n",
      "LexToken(PRINT,'print',1,23)\n",
      "LexToken(LPAREN,'(',1,28)\n",
      "LexToken(STRING,'\"Hello World\"',1,29)\n",
      "LexToken(RPAREN,')',1,42)\n",
      "None\n"
     ]
    }
   ],
   "source": [
    "# Let's test the Lexer on an example that has multiple print statements  \n",
    "\n",
    "input = \"\"\" \n",
    "print(\"Hello World\")\n",
    "print(\"Hello World\")\n",
    "\"\"\"\n",
    "\n",
    "# We want to pass the input into the main function of the parsing module\n",
    "tokens = parsing.main(input)\n",
    "\n",
    "# We want to print the tokens to see if the lexer is working\n",
    "print(tokens)"
   ]
  },
  {
   "cell_type": "code",
   "execution_count": 5,
   "metadata": {},
   "outputs": [
    {
     "name": "stdout",
     "output_type": "stream",
     "text": [
      "LexToken(PRINT,'print',1,2)\n",
      "LexToken(LPAREN,'(',1,7)\n",
      "LexToken(STRING,'\"Hello, World\"',1,8)\n",
      "LexToken(RPAREN,')',1,22)\n",
      "None\n"
     ]
    }
   ],
   "source": [
    "# Let's try the Lexer on an example that has print statements and punctuation.  \n",
    "\n",
    "input = \"\"\" \n",
    "print(\"Hello, World\")\n",
    "\"\"\"\n",
    "\n",
    "# We want to pass the input into the main function of the parsing module\n",
    "tokens = parsing.main(input)\n",
    "\n",
    "# We want to print the tokens to see if the lexer is working\n",
    "print(tokens)\n"
   ]
  },
  {
   "cell_type": "code",
   "execution_count": 6,
   "metadata": {},
   "outputs": [
    {
     "name": "stdout",
     "output_type": "stream",
     "text": [
      "LexToken(PRINT,'print',1,1)\n",
      "LexToken(LPAREN,'(',1,6)\n",
      "LexToken(STRING,'\"Hello World\"',1,7)\n",
      "LexToken(RPAREN,')',1,20)\n",
      "None\n"
     ]
    }
   ],
   "source": [
    "# Let's create an input that has a print statement and a comment  \n",
    "\n",
    "input = \"\"\"\n",
    "print(\"Hello World\") # This is a comment\n",
    "\"\"\"\n",
    "\n",
    "# We want to pass the input into the main function of the parsing module\n",
    "tokens = parsing.main(input)\n",
    "\n",
    "# We want to print the tokens to see if the lexer is working\n",
    "print(tokens)"
   ]
  },
  {
   "cell_type": "code",
   "execution_count": 8,
   "metadata": {},
   "outputs": [
    {
     "name": "stdout",
     "output_type": "stream",
     "text": [
      "LexToken(PRINT,'print',1,2)\n",
      "LexToken(LPAREN,'(',1,7)\n",
      "LexToken(STRING,'\"Hello World      \"',1,8)\n",
      "LexToken(RPAREN,')',1,33)\n",
      "None\n"
     ]
    }
   ],
   "source": [
    "# Let's create an input with excess whitespace \n",
    "# The excess whitespace in the Hello World should remain, but the excess whitespace in the print statement should be removed\n",
    "\n",
    "input = \"\"\" \n",
    "print(\"Hello World      \"      )\n",
    "\"\"\"\n",
    "\n",
    "# We want to pass the input into the main function of the parsing module\n",
    "tokens = parsing.main(input)\n",
    "\n",
    "# We want to print the tokens to see if the lexer is working\n",
    "print(tokens)"
   ]
  },
  {
   "cell_type": "markdown",
   "metadata": {},
   "source": [
    "## Testing on Numerical Operations (Basic)\n",
    "\n",
    "By this point the Lexer should be able to handle basic numerical operations. "
   ]
  },
  {
   "cell_type": "markdown",
   "metadata": {},
   "source": []
  }
 ],
 "metadata": {
  "kernelspec": {
   "display_name": "Python 3",
   "language": "python",
   "name": "python3"
  },
  "language_info": {
   "codemirror_mode": {
    "name": "ipython",
    "version": 3
   },
   "file_extension": ".py",
   "mimetype": "text/x-python",
   "name": "python",
   "nbconvert_exporter": "python",
   "pygments_lexer": "ipython3",
   "version": "3.10.11"
  }
 },
 "nbformat": 4,
 "nbformat_minor": 2
}
