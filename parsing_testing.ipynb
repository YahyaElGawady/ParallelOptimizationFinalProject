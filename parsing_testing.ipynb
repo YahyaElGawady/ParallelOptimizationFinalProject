{
 "cells": [
  {
   "cell_type": "markdown",
   "metadata": {},
   "source": [
    "# Parsing Tests\n",
    "This notebook will be used to test the functions in the parsing.py file in a practical sense. "
   ]
  },
  {
   "cell_type": "code",
   "execution_count": 56,
   "metadata": {},
   "outputs": [],
   "source": [
    "import parsing_lex\n",
    "import parsing_yacc"
   ]
  },
  {
   "cell_type": "markdown",
   "metadata": {},
   "source": [
    "## Testing on print statements "
   ]
  },
  {
   "cell_type": "code",
   "execution_count": 57,
   "metadata": {},
   "outputs": [
    {
     "name": "stdout",
     "output_type": "stream",
     "text": [
      "LexToken(PRINT,'print',1,2)\n",
      "LexToken(LPAREN,'(',1,7)\n",
      "LexToken(STRING,'\"Hello World\"',1,8)\n",
      "LexToken(RPAREN,')',1,21)\n",
      "None\n"
     ]
    }
   ],
   "source": [
    "# Let's test the Lexer on various print statements and see if it works \n",
    "\n",
    "input = \"\"\" \n",
    "print(\"Hello World\")\n",
    "\"\"\"\n",
    "\n",
    "# We want to pass the input into the main function of the parsing module \n",
    "tokens = parsing_lex.main(input)\n",
    "\n",
    "# We want to print the tokens to see if the lexer is working \n",
    "print(tokens)"
   ]
  },
  {
   "cell_type": "code",
   "execution_count": 58,
   "metadata": {},
   "outputs": [
    {
     "name": "stdout",
     "output_type": "stream",
     "text": [
      "mode is Python\n",
      "print(\"Hello World\")\n",
      "mode is C\n",
      "printf(\"Hello World\");\n"
     ]
    }
   ],
   "source": [
    "# Let's now test the yacc module on a simple print statement\n",
    "\n",
    "input = \"\"\" \n",
    "print(\"Hello World\")\n",
    "\"\"\"\n",
    "\n",
    "mode = \"Python\"\n",
    "\n",
    "# We want to pass the input into the main function of the parsing module\n",
    "result = parsing_yacc.main(input, mode)\n",
    "\n",
    "# We want to print the result to see if the parser is working\n",
    "print(\"mode is Python\")\n",
    "print(result)\n",
    "\n",
    "mode = \"C\" \n",
    "print(\"mode is C\")\n",
    "result = parsing_yacc.main(input, mode)\n",
    "print(result)"
   ]
  },
  {
   "cell_type": "code",
   "execution_count": 59,
   "metadata": {},
   "outputs": [
    {
     "name": "stdout",
     "output_type": "stream",
     "text": [
      "LexToken(PRINT,'print',1,2)\n",
      "LexToken(LPAREN,'(',1,7)\n",
      "LexToken(STRING,'\"Hello World\"',1,8)\n",
      "LexToken(RPAREN,')',1,21)\n",
      "LexToken(PRINT,'print',1,23)\n",
      "LexToken(LPAREN,'(',1,28)\n",
      "LexToken(STRING,'\"Hello World\"',1,29)\n",
      "LexToken(RPAREN,')',1,42)\n",
      "None\n"
     ]
    }
   ],
   "source": [
    "# Let's test the Lexer on an example that has multiple print statements  \n",
    "\n",
    "input = \"\"\" \n",
    "print(\"Hello World\")\n",
    "print(\"Hello World\")\n",
    "\"\"\"\n",
    "\n",
    "# We want to pass the input into the main function of the parsing module\n",
    "tokens = parsing_lex.main(input)\n",
    "\n",
    "# We want to print the tokens to see if the lexer is working\n",
    "print(tokens)"
   ]
  },
  {
   "cell_type": "code",
   "execution_count": 60,
   "metadata": {},
   "outputs": [
    {
     "name": "stdout",
     "output_type": "stream",
     "text": [
      "mode is Python\n",
      "print(\"Hello World\")\n",
      "print(\"Hello World\")\n",
      "mode is C\n",
      "printf(\"Hello World\");\n",
      "printf(\"Hello World\");\n"
     ]
    }
   ],
   "source": [
    "# Let's now test the yacc module on a simple print statement\n",
    "\n",
    "input = \"\"\"\n",
    "print(\"Hello World\")\n",
    "print(\"Hello World\")\n",
    "\"\"\"\n",
    "\n",
    "mode = \"Python\"\n",
    "\n",
    "# We want to pass the input into the main function of the parsing module\n",
    "print(\"mode is Python\")\n",
    "for line in input.split(\"\\n\"):\n",
    "    # check if the line is empty \n",
    "    if line == \"\":\n",
    "        continue\n",
    "    result = parsing_yacc.main(line, mode)\n",
    "    print(result)\n",
    "\n",
    "mode = \"C\" \n",
    "print(\"mode is C\")\n",
    "for line in input.split(\"\\n\"):\n",
    "    if line == \"\":\n",
    "        continue\n",
    "    result = parsing_yacc.main(line, mode)\n",
    "    print(result)"
   ]
  },
  {
   "cell_type": "code",
   "execution_count": 61,
   "metadata": {},
   "outputs": [
    {
     "name": "stdout",
     "output_type": "stream",
     "text": [
      "LexToken(PRINT,'print',1,2)\n",
      "LexToken(LPAREN,'(',1,7)\n",
      "LexToken(STRING,'\"Hello, World\"',1,8)\n",
      "LexToken(RPAREN,')',1,22)\n",
      "None\n"
     ]
    }
   ],
   "source": [
    "# Let's try the Lexer on an example that has print statements and punctuation.  \n",
    "\n",
    "input = \"\"\" \n",
    "print(\"Hello, World\")\n",
    "\"\"\"\n",
    "\n",
    "# We want to pass the input into the main function of the parsing module\n",
    "tokens = parsing_lex.main(input)\n",
    "\n",
    "# We want to print the tokens to see if the lexer is working\n",
    "print(tokens)\n"
   ]
  },
  {
   "cell_type": "code",
   "execution_count": 62,
   "metadata": {},
   "outputs": [
    {
     "name": "stdout",
     "output_type": "stream",
     "text": [
      "mode is Python\n",
      "print(\"Hello, World\")\n",
      "mode is C\n",
      "printf(\"Hello, World\");\n"
     ]
    }
   ],
   "source": [
    "# Let's now test the yacc module on a simple print statement\n",
    "\n",
    "input = \"\"\"\n",
    "print(\"Hello, World\")\n",
    "\"\"\"\n",
    "\n",
    "mode = \"Python\"\n",
    "\n",
    "# We want to pass the input into the main function of the parsing module\n",
    "print(\"mode is Python\")\n",
    "for line in input.split(\"\\n\"):\n",
    "    # check if the line is empty \n",
    "    if line == \"\":\n",
    "        continue\n",
    "    result = parsing_yacc.main(line, mode)\n",
    "    print(result)\n",
    "\n",
    "mode = \"C\" \n",
    "print(\"mode is C\")\n",
    "for line in input.split(\"\\n\"):\n",
    "    if line == \"\":\n",
    "        continue\n",
    "    result = parsing_yacc.main(line, mode)\n",
    "    print(result)"
   ]
  },
  {
   "cell_type": "code",
   "execution_count": 63,
   "metadata": {},
   "outputs": [
    {
     "name": "stdout",
     "output_type": "stream",
     "text": [
      "LexToken(PRINT,'print',1,1)\n",
      "LexToken(LPAREN,'(',1,6)\n",
      "LexToken(STRING,'\"Hello World\"',1,7)\n",
      "LexToken(RPAREN,')',1,20)\n",
      "None\n"
     ]
    }
   ],
   "source": [
    "# Let's create an input that has a print statement and a comment  \n",
    "\n",
    "input = \"\"\"\n",
    "print(\"Hello World\") # This is a comment\n",
    "\"\"\"\n",
    "\n",
    "# We want to pass the input into the main function of the parsing module\n",
    "tokens = parsing_lex.main(input)\n",
    "\n",
    "# We want to print the tokens to see if the lexer is working\n",
    "print(tokens)"
   ]
  },
  {
   "cell_type": "code",
   "execution_count": 64,
   "metadata": {},
   "outputs": [
    {
     "name": "stdout",
     "output_type": "stream",
     "text": [
      "mode is Python\n",
      "print(\"Hello World\")\n",
      "mode is C\n",
      "printf(\"Hello World\");\n"
     ]
    }
   ],
   "source": [
    "# Let's now test the yacc module on a simple print statement\n",
    "\n",
    "\n",
    "input = \"\"\"\n",
    "print(\"Hello World\") # This is a comment\n",
    "\"\"\"\n",
    "\n",
    "mode = \"Python\"\n",
    "\n",
    "# We want to pass the input into the main function of the parsing module\n",
    "print(\"mode is Python\")\n",
    "for line in input.split(\"\\n\"):\n",
    "    # check if the line is empty \n",
    "    if line == \"\":\n",
    "        continue\n",
    "    result = parsing_yacc.main(line, mode)\n",
    "    print(result)\n",
    "\n",
    "mode = \"C\" \n",
    "print(\"mode is C\")\n",
    "for line in input.split(\"\\n\"):\n",
    "    if line == \"\":\n",
    "        continue\n",
    "    result = parsing_yacc.main(line, mode)\n",
    "    print(result)"
   ]
  },
  {
   "cell_type": "code",
   "execution_count": 65,
   "metadata": {},
   "outputs": [
    {
     "name": "stdout",
     "output_type": "stream",
     "text": [
      "LexToken(PRINT,'print',1,2)\n",
      "LexToken(LPAREN,'(',1,7)\n",
      "LexToken(STRING,'\"Hello World      \"',1,8)\n",
      "LexToken(RPAREN,')',1,33)\n",
      "None\n"
     ]
    }
   ],
   "source": [
    "# Let's create an input with excess whitespace \n",
    "# The excess whitespace in the Hello World should remain, but the excess whitespace in the print statement should be removed\n",
    "\n",
    "input = \"\"\" \n",
    "print(\"Hello World      \"      )\n",
    "\"\"\"\n",
    "\n",
    "# We want to pass the input into the main function of the parsing module\n",
    "tokens = parsing_lex.main(input)\n",
    "\n",
    "# We want to print the tokens to see if the lexer is working\n",
    "print(tokens) "
   ]
  },
  {
   "cell_type": "code",
   "execution_count": 66,
   "metadata": {},
   "outputs": [
    {
     "name": "stdout",
     "output_type": "stream",
     "text": [
      "mode is Python\n",
      "None\n",
      "print(\"Hello World      \")\n",
      "mode is C\n",
      "None\n",
      "printf(\"Hello World      \");\n"
     ]
    }
   ],
   "source": [
    "# Let's now test the yacc module on a simple print statement\n",
    "\n",
    "input = \"\"\" \n",
    "print(\"Hello World      \"      )\n",
    "\"\"\"\n",
    "\n",
    "mode = \"Python\"\n",
    "\n",
    "# We want to pass the input into the main function of the parsing module\n",
    "print(\"mode is Python\")\n",
    "for line in input.split(\"\\n\"):\n",
    "    # check if the line is empty \n",
    "    if line == \"\":\n",
    "        continue\n",
    "    result = parsing_yacc.main(line, mode)\n",
    "    print(result)\n",
    "\n",
    "mode = \"C\" \n",
    "print(\"mode is C\")\n",
    "for line in input.split(\"\\n\"):\n",
    "    if line == \"\":\n",
    "        continue\n",
    "    result = parsing_yacc.main(line, mode)\n",
    "    print(result)"
   ]
  },
  {
   "cell_type": "markdown",
   "metadata": {},
   "source": [
    "## Testing on Numerical Operations (Basic)\n",
    "\n",
    "By this point the Lexer should be able to handle basic numerical operations. "
   ]
  },
  {
   "cell_type": "code",
   "execution_count": 67,
   "metadata": {},
   "outputs": [
    {
     "name": "stdout",
     "output_type": "stream",
     "text": [
      "LexToken(NUMBER,'1',1,2)\n",
      "LexToken(PLUS,'+',1,4)\n",
      "LexToken(NUMBER,'1',1,6)\n",
      "None\n"
     ]
    }
   ],
   "source": [
    "# Let's do a simple test with just a numerical expression \n",
    "\n",
    "input = \"\"\" \n",
    "1 + 1\n",
    "\"\"\" \n",
    "\n",
    "# We want to pass the input into the main function of the parsing module\n",
    "tokens = parsing_lex.main(input)\n",
    "\n",
    "# We want to print the tokens to see if the lexer is working\n",
    "print(tokens)"
   ]
  },
  {
   "cell_type": "code",
   "execution_count": 68,
   "metadata": {},
   "outputs": [
    {
     "name": "stdout",
     "output_type": "stream",
     "text": [
      "LexToken(NUMBER,'123',1,2)\n",
      "LexToken(PLUS,'+',1,6)\n",
      "LexToken(NUMBER,'456',1,8)\n",
      "None\n"
     ]
    }
   ],
   "source": [
    "input = \"\"\" \n",
    "123 + 456\n",
    "\"\"\" \n",
    "\n",
    "# We want to pass the input into the main function of the parsing module\n",
    "tokens = parsing_lex.main(input)\n",
    "\n",
    "# We want to print the tokens to see if the lexer is working\n",
    "print(tokens)"
   ]
  },
  {
   "cell_type": "code",
   "execution_count": 69,
   "metadata": {},
   "outputs": [
    {
     "name": "stdout",
     "output_type": "stream",
     "text": [
      "mode is Python\n",
      "None\n",
      "1 + 1\n",
      "mode is C\n",
      "None\n",
      "1 + 1\n"
     ]
    }
   ],
   "source": [
    "# Let's now test the yacc module on a simple print statement\n",
    "\n",
    "input = \"\"\" \n",
    "1 + 1\n",
    "\"\"\" \n",
    "\n",
    "mode = \"Python\"\n",
    "\n",
    "# We want to pass the input into the main function of the parsing module\n",
    "print(\"mode is Python\")\n",
    "for line in input.split(\"\\n\"):\n",
    "    # check if the line is empty \n",
    "    if line == \"\":\n",
    "        continue\n",
    "    result = parsing_yacc.main(line, mode)\n",
    "    print(result)\n",
    "\n",
    "mode = \"C\" \n",
    "print(\"mode is C\")\n",
    "for line in input.split(\"\\n\"):\n",
    "    if line == \"\":\n",
    "        continue\n",
    "    result = parsing_yacc.main(line, mode)\n",
    "    print(result)"
   ]
  },
  {
   "cell_type": "code",
   "execution_count": 70,
   "metadata": {},
   "outputs": [
    {
     "name": "stdout",
     "output_type": "stream",
     "text": [
      "LexToken(NUMBER,'1',1,2)\n",
      "LexToken(MINUS,'-',1,4)\n",
      "LexToken(NUMBER,'1',1,6)\n",
      "None\n"
     ]
    }
   ],
   "source": [
    "# Let's do subtraction \n",
    "\n",
    "input = \"\"\" \n",
    "1 - 1\n",
    "\"\"\"\n",
    "\n",
    "# We want to pass the input into the main function of the parsing module\n",
    "tokens = parsing_lex.main(input)\n",
    "\n",
    "# We want to print the tokens to see if the lexer is working\n",
    "print(tokens)"
   ]
  },
  {
   "cell_type": "code",
   "execution_count": 71,
   "metadata": {},
   "outputs": [
    {
     "name": "stdout",
     "output_type": "stream",
     "text": [
      "LexToken(NUMBER,'1',1,1)\n",
      "LexToken(TIMES,'*',1,3)\n",
      "LexToken(NUMBER,'1',1,5)\n",
      "None\n"
     ]
    }
   ],
   "source": [
    "# Let's do multiplication \n",
    "\n",
    "input = \"\"\"\n",
    "1 * 1\n",
    "\"\"\"\n",
    "\n",
    "# We want to pass the input into the main function of the parsing module\n",
    "tokens = parsing_lex.main(input)\n",
    "\n",
    "# We want to print the tokens to see if the lexer is working\n",
    "print(tokens)"
   ]
  },
  {
   "cell_type": "code",
   "execution_count": 72,
   "metadata": {},
   "outputs": [
    {
     "name": "stdout",
     "output_type": "stream",
     "text": [
      "LexToken(NUMBER,'1',1,1)\n",
      "LexToken(DIVIDE,'/',1,3)\n",
      "LexToken(NUMBER,'1',1,5)\n",
      "None\n"
     ]
    }
   ],
   "source": [
    "# Let's do division\n",
    "\n",
    "input = \"\"\"\n",
    "1 / 1\n",
    "\"\"\"\n",
    "\n",
    "# We want to pass the input into the main function of the parsing module\n",
    "tokens = parsing_lex.main(input)\n",
    "\n",
    "# We want to print the tokens to see if the lexer is working\n",
    "print(tokens)"
   ]
  },
  {
   "cell_type": "code",
   "execution_count": 73,
   "metadata": {},
   "outputs": [
    {
     "name": "stdout",
     "output_type": "stream",
     "text": [
      "LexToken(LPAREN,'(',1,1)\n",
      "LexToken(NUMBER,'1',1,2)\n",
      "LexToken(PLUS,'+',1,4)\n",
      "LexToken(NUMBER,'1',1,6)\n",
      "LexToken(RPAREN,')',1,7)\n",
      "None\n"
     ]
    }
   ],
   "source": [
    "# Let's do an expression that involves parenthesis \n",
    "\n",
    "input = \"\"\"\n",
    "(1 + 1)\n",
    "\"\"\"\n",
    "\n",
    "# We want to pass the input into the main function of the parsing module\n",
    "tokens = parsing_lex.main(input)\n",
    "\n",
    "# We want to print the tokens to see if the lexer is working\n",
    "print(tokens)"
   ]
  },
  {
   "cell_type": "code",
   "execution_count": 74,
   "metadata": {},
   "outputs": [
    {
     "name": "stdout",
     "output_type": "stream",
     "text": [
      "LexToken(LPAREN,'(',1,1)\n",
      "LexToken(NUMBER,'1',1,2)\n",
      "LexToken(PLUS,'+',1,4)\n",
      "LexToken(NUMBER,'1',1,6)\n",
      "LexToken(RPAREN,')',1,7)\n",
      "LexToken(TIMES,'*',1,9)\n",
      "LexToken(NUMBER,'1',1,11)\n",
      "LexToken(DIVIDE,'/',1,13)\n",
      "LexToken(NUMBER,'1',1,15)\n",
      "LexToken(MINUS,'-',1,17)\n",
      "LexToken(NUMBER,'1',1,19)\n",
      "None\n"
     ]
    }
   ],
   "source": [
    "# Let's do an expression that involves multiple operations \n",
    "\n",
    "input = \"\"\"\n",
    "(1 + 1) * 1 / 1 - 1\n",
    "\"\"\"\n",
    "\n",
    "# We want to pass the input into the main function of the parsing module\n",
    "tokens = parsing_lex.main(input)\n",
    "\n",
    "# We want to print the tokens to see if the lexer is working\n",
    "print(tokens)"
   ]
  },
  {
   "cell_type": "code",
   "execution_count": 75,
   "metadata": {},
   "outputs": [
    {
     "name": "stdout",
     "output_type": "stream",
     "text": [
      "LexToken(LPAREN,'(',1,1)\n",
      "LexToken(NUMBER,'1',1,2)\n",
      "LexToken(PLUS,'+',1,4)\n",
      "LexToken(NUMBER,'1',1,6)\n",
      "LexToken(RPAREN,')',1,7)\n",
      "None\n"
     ]
    }
   ],
   "source": [
    "# Let's do an expression with a comment \n",
    "\n",
    "input = \"\"\"\n",
    "(1 + 1) # This is a comment\n",
    "\"\"\"\n",
    "\n",
    "# We want to pass the input into the main function of the parsing module\n",
    "tokens = parsing_lex.main(input)\n",
    "\n",
    "# We want to print the tokens to see if the lexer is working\n",
    "print(tokens)"
   ]
  },
  {
   "cell_type": "code",
   "execution_count": 76,
   "metadata": {},
   "outputs": [
    {
     "name": "stdout",
     "output_type": "stream",
     "text": [
      "LexToken(LPAREN,'(',1,1)\n",
      "LexToken(NUMBER,'1',1,2)\n",
      "LexToken(PLUS,'+',1,4)\n",
      "LexToken(NUMBER,'1',1,6)\n",
      "LexToken(RPAREN,')',1,7)\n",
      "LexToken(PLUS,'+',1,14)\n",
      "LexToken(NUMBER,'1',1,16)\n",
      "None\n"
     ]
    }
   ],
   "source": [
    "# Let's do an expression with excess whitespace \n",
    "\n",
    "input = \"\"\"\n",
    "(1 + 1)      + 1\n",
    "\"\"\"\n",
    "\n",
    "# We want to pass the input into the main function of the parsing module\n",
    "tokens = parsing_lex.main(input)\n",
    "\n",
    "# We want to print the tokens to see if the lexer is working\n",
    "print(tokens)"
   ]
  },
  {
   "cell_type": "code",
   "execution_count": 77,
   "metadata": {},
   "outputs": [
    {
     "name": "stdout",
     "output_type": "stream",
     "text": [
      "LexToken(PRINT,'print',1,1)\n",
      "LexToken(LPAREN,'(',1,6)\n",
      "LexToken(NUMBER,'1',1,7)\n",
      "LexToken(PLUS,'+',1,9)\n",
      "LexToken(NUMBER,'1',1,11)\n",
      "LexToken(RPAREN,')',1,12)\n",
      "None\n"
     ]
    }
   ],
   "source": [
    "# Let's put a numerical expression into a print statement \n",
    "\n",
    "input = \"\"\"\n",
    "print(1 + 1)\n",
    "\"\"\"\n",
    "\n",
    "# We want to pass the input into the main function of the parsing module\n",
    "tokens = parsing_lex.main(input)\n",
    "\n",
    "# We want to print the tokens to see if the lexer is working\n",
    "print(tokens)"
   ]
  },
  {
   "cell_type": "code",
   "execution_count": 78,
   "metadata": {},
   "outputs": [
    {
     "name": "stdout",
     "output_type": "stream",
     "text": [
      "Python Mode\n",
      "1 + 1\n",
      "C Mode\n",
      "1 + 1\n"
     ]
    }
   ],
   "source": [
    "# Now, let's test the yacc file on addition \n",
    "\n",
    "input = \"\"\"\n",
    "1 + 1\n",
    "\"\"\"\n",
    "\n",
    "mode = \"Python\"\n",
    "\n",
    "# We want to pass the input into the main function of the parsing module\n",
    "result = parsing_yacc.main(input, mode)\n",
    "\n",
    "# We want to print the result to see if the parser is working\n",
    "print(\"Python Mode\")\n",
    "print(result)\n",
    "\n",
    "# Change the mode to C and test the yacc module on addition \n",
    "\n",
    "mode = \"C\" \n",
    "\n",
    "# We want to pass the input into the main function of the parsing module \n",
    "result = parsing_yacc.main(input, mode)\n",
    "\n",
    "# We want to print the result to see if the parser is working\n",
    "print(\"C Mode\")\n",
    "print(result)\n"
   ]
  },
  {
   "cell_type": "code",
   "execution_count": 79,
   "metadata": {},
   "outputs": [
    {
     "name": "stdout",
     "output_type": "stream",
     "text": [
      "Python Mode\n",
      "1 - 1\n",
      "C Mode\n",
      "1 - 1\n"
     ]
    }
   ],
   "source": [
    "# Test yacc on subtraction \n",
    "\n",
    "input = \"\"\"\n",
    "1 - 1\n",
    "\"\"\"\n",
    "\n",
    "mode = \"Python\"\n",
    "\n",
    "# We want to pass the input into the main function of the parsing module\n",
    "result = parsing_yacc.main(input, mode)\n",
    "\n",
    "# We want to print the result to see if the parser is working\n",
    "print(\"Python Mode\")\n",
    "print(result)\n",
    "\n",
    "# Change the mode to C and test the yacc module on subtraction\n",
    "\n",
    "mode = \"C\"\n",
    "\n",
    "# We want to pass the input into the main function of the parsing module\n",
    "result = parsing_yacc.main(input, mode)\n",
    "\n",
    "# We want to print the result to see if the parser is working\n",
    "print(\"C Mode\")\n",
    "print(result)"
   ]
  },
  {
   "cell_type": "code",
   "execution_count": 80,
   "metadata": {},
   "outputs": [
    {
     "name": "stdout",
     "output_type": "stream",
     "text": [
      "Python Mode\n",
      "1 * 1\n",
      "C Mode\n",
      "1 * 1\n"
     ]
    }
   ],
   "source": [
    "# Test yacc on multiplication \n",
    "\n",
    "input = \"\"\"\n",
    "1 * 1\n",
    "\"\"\"\n",
    "\n",
    "mode = \"Python\"\n",
    "\n",
    "# We want to pass the input into the main function of the parsing module\n",
    "result = parsing_yacc.main(input, mode)\n",
    "\n",
    "# We want to print the result to see if the parser is working\n",
    "print(\"Python Mode\")\n",
    "print(result)\n",
    "\n",
    "# Change the mode to C and test the yacc module on subtraction\n",
    "\n",
    "mode = \"C\"\n",
    "\n",
    "# We want to pass the input into the main function of the parsing module\n",
    "result = parsing_yacc.main(input, mode)\n",
    "\n",
    "# We want to print the result to see if the parser is working\n",
    "print(\"C Mode\")\n",
    "print(result)"
   ]
  },
  {
   "cell_type": "code",
   "execution_count": 81,
   "metadata": {},
   "outputs": [
    {
     "name": "stdout",
     "output_type": "stream",
     "text": [
      "Python Mode\n",
      "1 / 1\n",
      "C Mode\n",
      "1 / 1\n"
     ]
    }
   ],
   "source": [
    "# Test yacc on division \n",
    "\n",
    "input = \"\"\"\n",
    "1 / 1\n",
    "\"\"\"\n",
    "\n",
    "mode = \"Python\"\n",
    "\n",
    "# We want to pass the input into the main function of the parsing module\n",
    "result = parsing_yacc.main(input, mode)\n",
    "\n",
    "# We want to print the result to see if the parser is working\n",
    "print(\"Python Mode\")\n",
    "print(result)\n",
    "\n",
    "# Change the mode to C and test the yacc module on subtraction\n",
    "\n",
    "mode = \"C\"\n",
    "\n",
    "# We want to pass the input into the main function of the parsing module\n",
    "result = parsing_yacc.main(input, mode)\n",
    "\n",
    "# We want to print the result to see if the parser is working\n",
    "print(\"C Mode\")\n",
    "print(result)"
   ]
  },
  {
   "cell_type": "code",
   "execution_count": 82,
   "metadata": {},
   "outputs": [
    {
     "name": "stdout",
     "output_type": "stream",
     "text": [
      "Python Mode\n",
      "(1 + 1)\n",
      "C Mode\n",
      "(1 + 1)\n"
     ]
    }
   ],
   "source": [
    "# Let's do an expression that involves parenthesis \n",
    "\n",
    "input = \"\"\"\n",
    "(1 + 1)\n",
    "\"\"\"\n",
    "\n",
    "mode = \"Python\"\n",
    "\n",
    "# We want to pass the input into the main function of the parsing module\n",
    "result = parsing_yacc.main(input, mode)\n",
    "\n",
    "# We want to print the result to see if the parser is working\n",
    "print(\"Python Mode\")\n",
    "print(result)\n",
    "\n",
    "mode = \"C\"\n",
    "\n",
    "# We want to pass the input into the main function of the parsing module\n",
    "result = parsing_yacc.main(input, mode) \n",
    "\n",
    "# We want to print the result to see if the parser is working\n",
    "print(\"C Mode\")\n",
    "print(result)"
   ]
  },
  {
   "cell_type": "code",
   "execution_count": 83,
   "metadata": {},
   "outputs": [
    {
     "name": "stdout",
     "output_type": "stream",
     "text": [
      "Python Mode\n",
      "(1 + 1) * 1 / 1 - 1\n",
      "C Mode\n",
      "(1 + 1) * 1 / 1 - 1\n"
     ]
    }
   ],
   "source": [
    "# Let's do an expression that invovles multiple operations \n",
    "\n",
    "# Let's do an expression that involves parenthesis \n",
    "\n",
    "input = \"\"\"\n",
    "(1 + 1) * 1 / 1 - 1\n",
    "\"\"\"\n",
    "\n",
    "mode = \"Python\"\n",
    "\n",
    "# We want to pass the input into the main function of the parsing module\n",
    "result = parsing_yacc.main(input, mode)\n",
    "\n",
    "# We want to print the result to see if the parser is working\n",
    "print(\"Python Mode\")\n",
    "print(result)\n",
    "\n",
    "mode = \"C\"\n",
    "\n",
    "# We want to pass the input into the main function of the parsing module\n",
    "result = parsing_yacc.main(input, mode) \n",
    "\n",
    "# We want to print the result to see if the parser is working\n",
    "print(\"C Mode\")\n",
    "print(result)"
   ]
  },
  {
   "cell_type": "code",
   "execution_count": 84,
   "metadata": {},
   "outputs": [
    {
     "name": "stdout",
     "output_type": "stream",
     "text": [
      "Python Mode\n",
      "print(1 + 1)\n",
      "C Mode\n",
      "printf(1 + 1);\n"
     ]
    }
   ],
   "source": [
    "# Let's do an expression with both print and numerical expressions \n",
    "\n",
    "input = \"\"\"\n",
    "print(1 + 1)\n",
    "\"\"\"\n",
    "\n",
    "mode = \"Python\"\n",
    "\n",
    "# We want to pass the input into the main function of the parsing module\n",
    "result = parsing_yacc.main(input, mode)\n",
    "\n",
    "# We want to print the result to see if the parser is working\n",
    "print(\"Python Mode\")\n",
    "\n",
    "print(result)\n",
    "\n",
    "mode = \"C\"\n",
    "\n",
    "# We want to pass the input into the main function of the parsing module\n",
    "result = parsing_yacc.main(input, mode)\n",
    "\n",
    "# We want to print the result to see if the parser is working\n",
    "print(\"C Mode\")\n",
    "\n",
    "print(result)"
   ]
  },
  {
   "cell_type": "markdown",
   "metadata": {},
   "source": [
    "## Python Operators: OR and AND "
   ]
  },
  {
   "cell_type": "code",
   "execution_count": 85,
   "metadata": {},
   "outputs": [
    {
     "name": "stdout",
     "output_type": "stream",
     "text": [
      "Python Mode\n",
      "5 or 2\n",
      "C Mode\n",
      "5 || 2\n"
     ]
    }
   ],
   "source": [
    "# Now, let's test the yacc file on addition \n",
    "\n",
    "input = \"\"\"\n",
    "5 OR 2\n",
    "\"\"\"\n",
    "\n",
    "mode = \"Python\"\n",
    "result = parsing_yacc.main(input, mode)\n",
    "\n",
    "#checking parser works\n",
    "print(\"Python Mode\")\n",
    "print(result)\n",
    "\n",
    "#test the yacc module on OR \n",
    "\n",
    "mode = \"C\" \n",
    "result = parsing_yacc.main(input, mode)\n",
    "\n",
    "#chcekcing if parser works \n",
    "print(\"C Mode\")\n",
    "print(result)"
   ]
  },
  {
   "cell_type": "code",
   "execution_count": 86,
   "metadata": {},
   "outputs": [
    {
     "name": "stdout",
     "output_type": "stream",
     "text": [
      "Python Mode\n",
      "5 and 2\n",
      "C Mode\n",
      "5 && 2\n"
     ]
    }
   ],
   "source": [
    "# Now, let's test the yacc file on addition \n",
    "\n",
    "input = \"\"\"\n",
    "5 AND 2\n",
    "\"\"\"\n",
    "\n",
    "mode = \"Python\"\n",
    "result = parsing_yacc.main(input, mode)\n",
    "\n",
    "#checking parser works\n",
    "print(\"Python Mode\")\n",
    "print(result)\n",
    "\n",
    "#test the yacc module on OR \n",
    "\n",
    "mode = \"C\" \n",
    "result = parsing_yacc.main(input, mode)\n",
    "\n",
    "#chcekcing if parser works \n",
    "print(\"C Mode\")\n",
    "print(result)"
   ]
  },
  {
   "cell_type": "code",
   "execution_count": 87,
   "metadata": {},
   "outputs": [
    {
     "name": "stdout",
     "output_type": "stream",
     "text": [
      "Python Mode\n",
      "not 2\n",
      "C Mode\n",
      "!2\n"
     ]
    }
   ],
   "source": [
    "# Now, let's test the yacc file on addition \n",
    "\n",
    "input = \"\"\"\n",
    " NOT 2\n",
    "\"\"\"\n",
    "\n",
    "mode = \"Python\"\n",
    "result = parsing_yacc.main(input, mode)\n",
    "\n",
    "#checking parser works\n",
    "print(\"Python Mode\")\n",
    "print(result)\n",
    "\n",
    "#test the yacc module on OR \n",
    "\n",
    "mode = \"C\" \n",
    "result = parsing_yacc.main(input, mode)\n",
    "\n",
    "#chcekcing if parser works \n",
    "print(\"C Mode\")\n",
    "print(result)"
   ]
  },
  {
   "cell_type": "markdown",
   "metadata": {},
   "source": [
    "## Testing Power, Increment, Decrement"
   ]
  },
  {
   "cell_type": "code",
   "execution_count": 88,
   "metadata": {},
   "outputs": [
    {
     "name": "stdout",
     "output_type": "stream",
     "text": [
      "Python Mode\n",
      "5 * None * 2\n",
      "C Mode\n",
      "5 * None * 2\n"
     ]
    }
   ],
   "source": [
    "# Now, let's test the yacc file on addition \n",
    "\n",
    "input = \"\"\"\n",
    "5**2\n",
    "\"\"\"\n",
    "\n",
    "mode = \"Python\"\n",
    "result = parsing_yacc.main(input, mode)\n",
    "\n",
    "#checking parser works\n",
    "print(\"Python Mode\")\n",
    "print(result)\n",
    "\n",
    "#test the yacc module on OR \n",
    "\n",
    "mode = \"C\" \n",
    "result = parsing_yacc.main(input, mode)\n",
    "\n",
    "#chcekcing if parser works \n",
    "print(\"C Mode\")\n",
    "print(result)"
   ]
  },
  {
   "cell_type": "code",
   "execution_count": 89,
   "metadata": {},
   "outputs": [
    {
     "name": "stdout",
     "output_type": "stream",
     "text": [
      "Python Mode\n",
      "4 += 1\n",
      "C Mode\n",
      "4++\n"
     ]
    }
   ],
   "source": [
    "# Now, let's test the yacc file on addition \n",
    "\n",
    "input = \"\"\"\n",
    "INCREMENT 4\n",
    "\"\"\"\n",
    "\n",
    "mode = \"Python\"\n",
    "result = parsing_yacc.main(input, mode)\n",
    "\n",
    "#checking parser works\n",
    "print(\"Python Mode\")\n",
    "print(result)\n",
    "\n",
    "#test the yacc module on OR \n",
    "\n",
    "mode = \"C\" \n",
    "result = parsing_yacc.main(input, mode)\n",
    "\n",
    "#chcekcing if parser works \n",
    "print(\"C Mode\")\n",
    "print(result)"
   ]
  },
  {
   "cell_type": "code",
   "execution_count": 90,
   "metadata": {},
   "outputs": [
    {
     "name": "stdout",
     "output_type": "stream",
     "text": [
      "Python Mode\n",
      "3 -= 1\n",
      "C Mode\n",
      "3--\n"
     ]
    }
   ],
   "source": [
    "# Now, let's test the yacc file on addition \n",
    "\n",
    "input = \"\"\"\n",
    "DECREMENT 3 \n",
    "\"\"\"\n",
    "\n",
    "mode = \"Python\"\n",
    "result = parsing_yacc.main(input, mode)\n",
    "\n",
    "#checking parser works\n",
    "print(\"Python Mode\")\n",
    "print(result)\n",
    "\n",
    "#test the yacc module on OR \n",
    "\n",
    "mode = \"C\" \n",
    "result = parsing_yacc.main(input, mode)\n",
    "\n",
    "#chcekcing if parser works \n",
    "print(\"C Mode\")\n",
    "print(result)"
   ]
  },
  {
   "cell_type": "markdown",
   "metadata": {},
   "source": [
    "## Testing sin & cos"
   ]
  },
  {
   "cell_type": "code",
   "execution_count": 91,
   "metadata": {},
   "outputs": [
    {
     "name": "stdout",
     "output_type": "stream",
     "text": [
      "Python Mode\n",
      "np.sin(80)\n",
      "C Mode\n",
      "sin(80)\n"
     ]
    }
   ],
   "source": [
    "input = \"\"\"\n",
    "np.sin(80)\n",
    "\"\"\"\n",
    "mode = \"Python\"\n",
    "result = parsing_yacc.main(input, mode)\n",
    "\n",
    "#checking parser works\n",
    "print(\"Python Mode\")\n",
    "print(result)\n",
    "\n",
    "#test the yacc module on OR \n",
    "\n",
    "mode = \"C\" \n",
    "result = parsing_yacc.main(input, mode)\n",
    "\n",
    "#chcekcing if parser works \n",
    "print(\"C Mode\")\n",
    "print(result)\n"
   ]
  },
  {
   "cell_type": "code",
   "execution_count": 92,
   "metadata": {},
   "outputs": [
    {
     "name": "stdout",
     "output_type": "stream",
     "text": [
      "Python Mode\n",
      "np.cos(80)\n",
      "C Mode\n",
      "cos(80)\n"
     ]
    }
   ],
   "source": [
    "input = \"\"\"\n",
    "np.cos(80)\n",
    "\"\"\"\n",
    "mode = \"Python\"\n",
    "result = parsing_yacc.main(input, mode)\n",
    "\n",
    "#checking parser works\n",
    "print(\"Python Mode\")\n",
    "print(result)\n",
    "\n",
    "#test the yacc module on OR \n",
    "\n",
    "mode = \"C\" \n",
    "result = parsing_yacc.main(input, mode)\n",
    "\n",
    "#chcekcing if parser works \n",
    "print(\"C Mode\")\n",
    "print(result)"
   ]
  },
  {
   "cell_type": "markdown",
   "metadata": {},
   "source": [
    "## Let's test the reserved words: if statements"
   ]
  },
  {
   "cell_type": "code",
   "execution_count": 93,
   "metadata": {},
   "outputs": [
    {
     "name": "stdout",
     "output_type": "stream",
     "text": [
      "LexToken(IF,'if',1,1)\n",
      "LexToken(NUMBER,'1',1,4)\n",
      "LexToken(DOUBLE_EQUALS,'==',1,6)\n",
      "LexToken(NUMBER,'1',1,9)\n",
      "LexToken(COLON,':',1,10)\n",
      "LexToken(PRINT,'print',1,16)\n",
      "LexToken(LPAREN,'(',1,21)\n",
      "LexToken(STRING,'\"Hello World\"',1,22)\n",
      "LexToken(RPAREN,')',1,35)\n",
      "None\n"
     ]
    }
   ],
   "source": [
    "# Let's test something with an if-statement \n",
    "\n",
    "input = \"\"\"\n",
    "if 1 == 1:\n",
    "    print(\"Hello World\")\n",
    "\"\"\"\n",
    "\n",
    "# We want to pass the input into the main function of the parsing module\n",
    "tokens = parsing_lex.main(input)\n",
    "\n",
    "# We want to print the tokens to see if the lexer is working\n",
    "print(tokens)"
   ]
  },
  {
   "cell_type": "code",
   "execution_count": 94,
   "metadata": {},
   "outputs": [
    {
     "name": "stdout",
     "output_type": "stream",
     "text": [
      "Python Mode\n",
      "1 == 1\n"
     ]
    }
   ],
   "source": [
    "# Let's test the yacc file on a simple if-statement \n",
    "\n",
    "input = \"\"\"\n",
    "1 == 1\n",
    "\"\"\"\n",
    "\n",
    "mode = \"Python\"\n",
    "\n",
    "# We want to pass the input into the main function of the parsing module\n",
    "result = parsing_yacc.main(input, mode)\n",
    "\n",
    "# We want to print the result to see if the parser is working\n",
    "print(\"Python Mode\")\n",
    "print(result)\n",
    "\n",
    "# Change the mode to C and test the yacc module on an if-statement\n",
    "\n",
    "mode = \"C\"\n",
    "\n",
    "# We want to pass the input into the main function of the parsing module\n",
    "result = parsing_yacc.main(input, mode)"
   ]
  },
  {
   "cell_type": "code",
   "execution_count": 95,
   "metadata": {},
   "outputs": [
    {
     "name": "stdout",
     "output_type": "stream",
     "text": [
      "Python Mode\n",
      "if 1 == 1:\n",
      "\tprint(\"Hello World\")\n",
      "C Mode\n",
      "if (1 == 1) {\n",
      "\tprintf(\"Hello World\");\n",
      "}\n"
     ]
    }
   ],
   "source": [
    "# Let's test the yacc file on a simple if-statement \n",
    "\n",
    "input = \"\"\"\n",
    "if 1 == 1:\n",
    "    print(\"Hello World\")\n",
    "\"\"\"\n",
    "\n",
    "mode = \"Python\"\n",
    "\n",
    "# We want to pass the input into the main function of the parsing module\n",
    "result = parsing_yacc.main(input, mode)\n",
    "\n",
    "# We want to print the result to see if the parser is working\n",
    "print(\"Python Mode\")\n",
    "print(result)\n",
    "\n",
    "# Change the mode to C and test the yacc module on an if-statement\n",
    "\n",
    "mode = \"C\"\n",
    "\n",
    "# We want to pass the input into the main function of the parsing module\n",
    "result = parsing_yacc.main(input, mode)\n",
    "\n",
    "# We want to print the result to see if the parser is working\n",
    "print(\"C Mode\")\n",
    "\n",
    "print(result)"
   ]
  },
  {
   "cell_type": "code",
   "execution_count": 96,
   "metadata": {},
   "outputs": [
    {
     "name": "stdout",
     "output_type": "stream",
     "text": [
      "Python Mode\n",
      "if (1 == 1):\n",
      "\tprint(\"Hello World\")\n",
      "C Mode\n",
      "if ((1 == 1)) {\n",
      "\tprintf(\"Hello World\");\n",
      "}\n"
     ]
    }
   ],
   "source": [
    "# Let's test the yacc file on a simple if-statement \n",
    "\n",
    "input = \"\"\"\n",
    "if (1 == 1):\n",
    "    print(\"Hello World\")\n",
    "\"\"\"\n",
    "\n",
    "mode = \"Python\"\n",
    "\n",
    "# We want to pass the input into the main function of the parsing module\n",
    "result = parsing_yacc.main(input, mode)\n",
    "\n",
    "# We want to print the result to see if the parser is working\n",
    "print(\"Python Mode\")\n",
    "print(result)\n",
    "\n",
    "# Change the mode to C and test the yacc module on an if-statement\n",
    "\n",
    "mode = \"C\"\n",
    "\n",
    "# We want to pass the input into the main function of the parsing module\n",
    "result = parsing_yacc.main(input, mode)\n",
    "\n",
    "# We want to print the result to see if the parser is working\n",
    "print(\"C Mode\")\n",
    "\n",
    "print(result)"
   ]
  },
  {
   "cell_type": "code",
   "execution_count": 97,
   "metadata": {},
   "outputs": [
    {
     "name": "stdout",
     "output_type": "stream",
     "text": [
      "LexToken(IF,'if',1,1)\n",
      "LexToken(NUMBER,'1',1,4)\n",
      "LexToken(DOUBLE_EQUALS,'==',1,6)\n",
      "LexToken(NUMBER,'1',1,9)\n",
      "LexToken(COLON,':',1,10)\n",
      "LexToken(PRINT,'print',1,16)\n",
      "LexToken(LPAREN,'(',1,21)\n",
      "LexToken(STRING,'\"Hello World\"',1,22)\n",
      "LexToken(RPAREN,')',1,35)\n",
      "LexToken(ELSE,'else',1,37)\n",
      "LexToken(COLON,':',1,41)\n",
      "LexToken(PRINT,'print',1,47)\n",
      "LexToken(LPAREN,'(',1,52)\n",
      "LexToken(STRING,'\"Goodbye World\"',1,53)\n",
      "LexToken(RPAREN,')',1,68)\n",
      "None\n"
     ]
    }
   ],
   "source": [
    "# Let's test if-else \n",
    "\n",
    "input = \"\"\"\n",
    "if 1 == 1:\n",
    "    print(\"Hello World\")\n",
    "else:\n",
    "    print(\"Goodbye World\")\n",
    "\"\"\"\n",
    "\n",
    "# We want to pass the input into the main function of the parsing module\n",
    "tokens = parsing_lex.main(input)\n",
    "\n",
    "# We want to print the tokens to see if the lexer is working\n",
    "print(tokens)"
   ]
  },
  {
   "cell_type": "code",
   "execution_count": 98,
   "metadata": {},
   "outputs": [
    {
     "name": "stdout",
     "output_type": "stream",
     "text": [
      "LexToken(IF,'if',1,1)\n",
      "LexToken(NUMBER,'1',1,4)\n",
      "LexToken(DOUBLE_EQUALS,'==',1,6)\n",
      "LexToken(NUMBER,'1',1,9)\n",
      "LexToken(COLON,':',1,10)\n",
      "LexToken(PRINT,'print',1,16)\n",
      "LexToken(LPAREN,'(',1,21)\n",
      "LexToken(STRING,'\"Hello World\"',1,22)\n",
      "LexToken(RPAREN,')',1,35)\n",
      "LexToken(ELIF,'elif',1,37)\n",
      "LexToken(NUMBER,'1',1,42)\n",
      "LexToken(DOUBLE_EQUALS,'==',1,44)\n",
      "LexToken(NUMBER,'2',1,47)\n",
      "LexToken(COLON,':',1,48)\n",
      "LexToken(PRINT,'print',1,54)\n",
      "LexToken(LPAREN,'(',1,59)\n",
      "LexToken(STRING,'\"Crazy World\"',1,60)\n",
      "LexToken(RPAREN,')',1,73)\n",
      "LexToken(ELSE,'else',1,75)\n",
      "LexToken(COLON,':',1,79)\n",
      "LexToken(PRINT,'print',1,85)\n",
      "LexToken(LPAREN,'(',1,90)\n",
      "LexToken(STRING,'\"Goodbye World\"',1,91)\n",
      "LexToken(RPAREN,')',1,106)\n",
      "None\n"
     ]
    }
   ],
   "source": [
    "# Let's test if-elif-else \n",
    "\n",
    "input = \"\"\"\n",
    "if 1 == 1:\n",
    "    print(\"Hello World\")\n",
    "elif 1 == 2:\n",
    "    print(\"Crazy World\")\n",
    "else:\n",
    "    print(\"Goodbye World\")\n",
    "\"\"\"\n",
    "\n",
    "# We want to pass the input into the main function of the parsing module\n",
    "tokens = parsing_lex.main(input)\n",
    "\n",
    "# We want to print the tokens to see if the lexer is working\n",
    "print(tokens)"
   ]
  },
  {
   "cell_type": "markdown",
   "metadata": {},
   "source": [
    "## Testing creating numpy arrays from list "
   ]
  },
  {
   "cell_type": "code",
   "execution_count": 99,
   "metadata": {},
   "outputs": [
    {
     "name": "stdout",
     "output_type": "stream",
     "text": [
      "LexToken(VARIABLE,'a',1,1)\n",
      "LexToken(EQUALS,'=',1,3)\n",
      "LexToken(ARRAY,'np.array',1,5)\n",
      "LexToken(LPAREN,'(',1,13)\n",
      "LexToken(LIST,'[1, 2, 3]',1,14)\n",
      "LexToken(RPAREN,')',1,23)\n",
      "None\n"
     ]
    }
   ],
   "source": [
    "# Let's test the lex file on creating numpy arrays from a list \n",
    "\n",
    "input = \"\"\"\n",
    "a = np.array([1, 2, 3])\n",
    "\"\"\"\n",
    "\n",
    "# We want to pass the input into the main function of the parsing module\n",
    "\n",
    "tokens = parsing_lex.main(input)\n",
    "\n",
    "# We want to print the tokens to see if the lexer is working\n",
    "print(tokens)"
   ]
  },
  {
   "cell_type": "code",
   "execution_count": 100,
   "metadata": {},
   "outputs": [
    {
     "name": "stdout",
     "output_type": "stream",
     "text": [
      "Python Mode\n",
      "a = cupy.array([1, 2, 3])\n",
      "C Mode\n",
      "   float h_a[1, 2, 3] = [1, 2, 3];\n",
      "    float *d_a;\n",
      "   cudaMalloc(&d_a,1, 2, 3*sizeof(float);\n",
      "    cudaMemcpy(d_a, h_a,sizeof(h_a), cudaMemcpyHostToDevice);\n",
      "\n",
      "\n"
     ]
    }
   ],
   "source": [
    "# Let's test the yacc file on creating numpy arrays from a list \n",
    "\n",
    "input = \"\"\"\n",
    "a = np.array([1, 2, 3])\n",
    "\"\"\"\n",
    "\n",
    "mode = \"Python\"\n",
    "\n",
    "# We want to pass the input into the main function of the parsing module\n",
    "result = parsing_yacc.main(input, mode)\n",
    "\n",
    "# We want to print the result to see if the parser is working\n",
    "print(\"Python Mode\")\n",
    "\n",
    "print(result)\n",
    "\n",
    "# Change the mode to C and test the yacc module on creating numpy arrays from a list\n",
    "\n",
    "mode = \"C\"\n",
    "\n",
    "# We want to pass the input into the main function of the parsing module\n",
    "\n",
    "result = parsing_yacc.main(input, mode)\n",
    "\n",
    "# We want to print the result to see if the parser is working\n",
    "\n",
    "print(\"C Mode\")\n",
    "\n",
    "print(result)"
   ]
  },
  {
   "cell_type": "markdown",
   "metadata": {},
   "source": [
    "## Numpy add"
   ]
  },
  {
   "cell_type": "code",
   "execution_count": 101,
   "metadata": {},
   "outputs": [
    {
     "name": "stdout",
     "output_type": "stream",
     "text": [
      "LexToken(VARIABLE,'A',1,1)\n",
      "LexToken(EQUALS,'=',1,2)\n",
      "LexToken(ARRAY,'np.array',1,4)\n",
      "LexToken(LPAREN,'(',1,12)\n",
      "LexToken(LIST,'[1, 2, 3]',1,13)\n",
      "LexToken(RPAREN,')',1,22)\n",
      "LexToken(VARIABLE,'B',1,24)\n",
      "LexToken(EQUALS,'=',1,26)\n",
      "LexToken(ARRAY,'np.array',1,28)\n",
      "LexToken(LPAREN,'(',1,36)\n",
      "LexToken(LIST,'[4, 5, 6]',1,37)\n",
      "LexToken(RPAREN,')',1,46)\n",
      "LexToken(VARIABLE,'C',1,48)\n",
      "LexToken(EQUALS,'=',1,50)\n",
      "LexToken(NP_ADD,'np.add',1,52)\n",
      "LexToken(LPAREN,'(',1,58)\n",
      "LexToken(VARIABLE,'A',1,59)\n",
      "LexToken(COMMA,',',1,60)\n",
      "LexToken(VARIABLE,'B',1,62)\n",
      "LexToken(RPAREN,')',1,63)\n",
      "None\n"
     ]
    }
   ],
   "source": [
    "# Let's test the lex file on adding numpy arrays \n",
    "\n",
    "input = \"\"\"\n",
    "A= np.array([1, 2, 3])\n",
    "B = np.array([4, 5, 6])\n",
    "C = np.add(A, B)\n",
    "\"\"\"\n",
    "\n",
    "# We want to pass the input into the main function of the parsing module\n",
    "\n",
    "tokens = parsing_lex.main(input)\n",
    "\n",
    "# We want to print the tokens to see if the lexer is working\n",
    "print(tokens)"
   ]
  },
  {
   "cell_type": "code",
   "execution_count": 102,
   "metadata": {},
   "outputs": [
    {
     "name": "stdout",
     "output_type": "stream",
     "text": [
      "mode is Python\n",
      "A = cupy.array([1, 2, 3])\n",
      "B = cupy.array([4, 5, 6])\n",
      "cupy.add(A, B)\n"
     ]
    }
   ],
   "source": [
    "# Let's test yacc \n",
    "\n",
    "input = \"\"\"\n",
    "A = np.array([1, 2, 3])\n",
    "B = np.array([4, 5, 6])\n",
    "C = np.add(A, B)\n",
    "\"\"\"\n",
    "mode = \"Python\"\n",
    "# We want to pass the input into the main function of the parsing module\n",
    "print(\"mode is Python\")\n",
    "for line in input.split(\"\\n\"):\n",
    "    # check if the line is empty \n",
    "    if line == \"\":\n",
    "        continue\n",
    "    result = parsing_yacc.main(line, mode)\n",
    "    print(result)"
   ]
  },
  {
   "cell_type": "code",
   "execution_count": 103,
   "metadata": {},
   "outputs": [
    {
     "name": "stdout",
     "output_type": "stream",
     "text": [
      "mode is C\n",
      "   float h_A[1, 2, 3] = [1, 2, 3];\n",
      "    float *d_A;\n",
      "   cudaMalloc(&d_A,1, 2, 3*sizeof(float);\n",
      "    cudaMemcpy(d_A, h_A,sizeof(h_A), cudaMemcpyHostToDevice);\n",
      "\n",
      "\n",
      "   float h_B[4, 5, 6] = [4, 5, 6];\n",
      "    float *d_B;\n",
      "   cudaMalloc(&d_B,4, 5, 6*sizeof(float);\n",
      "    cudaMemcpy(d_B, h_B,sizeof(h_B), cudaMemcpyHostToDevice);\n",
      "\n",
      "\n",
      "addArraysHelper(A, B, C);\n"
     ]
    }
   ],
   "source": [
    "input = \"\"\"\n",
    "A = np.array([1, 2, 3])\n",
    "B = np.array([4, 5, 6])\n",
    "C = np.add(A, B)\n",
    "\"\"\"\n",
    "\n",
    "mode = \"C\" \n",
    "print(\"mode is C\")\n",
    "for line in input.split(\"\\n\"):\n",
    "    if line == \"\":\n",
    "        continue\n",
    "    result = parsing_yacc.main(line, mode)\n",
    "    print(result)"
   ]
  },
  {
   "cell_type": "markdown",
   "metadata": {},
   "source": [
    "## Numpy subtract "
   ]
  },
  {
   "cell_type": "code",
   "execution_count": 104,
   "metadata": {},
   "outputs": [
    {
     "name": "stdout",
     "output_type": "stream",
     "text": [
      "LexToken(VARIABLE,'A',1,1)\n",
      "LexToken(EQUALS,'=',1,3)\n",
      "LexToken(ARRAY,'np.array',1,5)\n",
      "LexToken(LPAREN,'(',1,13)\n",
      "LexToken(LIST,'[4, 5, 6]',1,14)\n",
      "LexToken(RPAREN,')',1,23)\n",
      "LexToken(VARIABLE,'B',1,25)\n",
      "LexToken(EQUALS,'=',1,27)\n",
      "LexToken(ARRAY,'np.array',1,29)\n",
      "LexToken(LPAREN,'(',1,37)\n",
      "LexToken(LIST,'[1, 2, 3]',1,38)\n",
      "LexToken(RPAREN,')',1,47)\n",
      "LexToken(VARIABLE,'C',1,49)\n",
      "LexToken(EQUALS,'=',1,51)\n",
      "LexToken(NP_SUBTRACT,'np.subtract',1,53)\n",
      "LexToken(LPAREN,'(',1,64)\n",
      "LexToken(VARIABLE,'A',1,65)\n",
      "LexToken(COMMA,',',1,66)\n",
      "LexToken(VARIABLE,'B',1,68)\n",
      "LexToken(RPAREN,')',1,69)\n",
      "None\n"
     ]
    }
   ],
   "source": [
    "# Let's test the lex file on subtracting numpy arrays \n",
    "\n",
    "input = \"\"\"\n",
    "A = np.array([4, 5, 6])\n",
    "B = np.array([1, 2, 3])\n",
    "C = np.subtract(A, B)\n",
    "\"\"\"\n",
    "\n",
    "# We want to pass the input into the main function of the parsing module\n",
    "\n",
    "tokens = parsing_lex.main(input)\n",
    "\n",
    "# We want to print the tokens to see if the lexer is working\n",
    "\n",
    "print(tokens)"
   ]
  },
  {
   "cell_type": "code",
   "execution_count": 105,
   "metadata": {},
   "outputs": [
    {
     "name": "stdout",
     "output_type": "stream",
     "text": [
      "Python Mode\n",
      "cupy.subtract(A, B)\n",
      "C Mode\n",
      "subtractArraysHelper(A, B, C);\n"
     ]
    }
   ],
   "source": [
    "# Let's test yacc \n",
    "\n",
    "input = \"\"\"\n",
    "C = np.subtract(A, B)\n",
    "\"\"\"\n",
    "\n",
    "mode = \"Python\"\n",
    "\n",
    "# We want to pass the input into the main function of the parsing module\n",
    "result = parsing_yacc.main(input, mode)\n",
    "\n",
    "# We want to print the result to see if the parser is working\n",
    "print(\"Python Mode\")\n",
    "\n",
    "print(result)\n",
    "\n",
    "# Change the mode to C and test the yacc module on adding numpy arrays\n",
    "\n",
    "mode = \"C\"\n",
    "\n",
    "# We want to pass the input into the main function of the parsing module\n",
    "\n",
    "result = parsing_yacc.main(input, mode)\n",
    "\n",
    "# We want to print the result to see if the parser is working\n",
    "\n",
    "print(\"C Mode\")\n",
    "\n",
    "print(result)"
   ]
  },
  {
   "cell_type": "markdown",
   "metadata": {},
   "source": [
    "## Numpy sum "
   ]
  },
  {
   "cell_type": "code",
   "execution_count": 106,
   "metadata": {},
   "outputs": [
    {
     "name": "stdout",
     "output_type": "stream",
     "text": [
      "LexToken(VARIABLE,'A',1,1)\n",
      "LexToken(EQUALS,'=',1,3)\n",
      "LexToken(ARRAY,'np.array',1,5)\n",
      "LexToken(LPAREN,'(',1,13)\n",
      "LexToken(LIST,'[1, 2, 3]',1,14)\n",
      "LexToken(RPAREN,')',1,23)\n",
      "LexToken(VARIABLE,'C',1,25)\n",
      "LexToken(EQUALS,'=',1,27)\n",
      "LexToken(NP_SUM,'np.sum',1,29)\n",
      "LexToken(LPAREN,'(',1,35)\n",
      "LexToken(VARIABLE,'A',1,36)\n",
      "LexToken(RPAREN,')',1,37)\n",
      "None\n"
     ]
    }
   ],
   "source": [
    "# Let's test the lex file on numpy sum \n",
    "\n",
    "input = \"\"\"\n",
    "A = np.array([1, 2, 3])\n",
    "C = np.sum(A)\n",
    "\"\"\"\n",
    "\n",
    "# We want to pass the input into the main function of the parsing module\n",
    "\n",
    "tokens = parsing_lex.main(input)\n",
    "\n",
    "# We want to print the tokens to see if the lexer is working\n",
    "\n",
    "print(tokens)\n"
   ]
  },
  {
   "cell_type": "code",
   "execution_count": 107,
   "metadata": {},
   "outputs": [
    {
     "name": "stdout",
     "output_type": "stream",
     "text": [
      "Python Mode\n",
      "cupy.sum(A)\n",
      "C Mode\n",
      "sumArraysHelper(A, C);\n"
     ]
    }
   ],
   "source": [
    "# Test yacc \n",
    "\n",
    "input = \"\"\"\n",
    "C = np.sum(A)\n",
    "\"\"\"\n",
    "\n",
    "mode = \"Python\"\n",
    "\n",
    "# We want to pass the input into the main function of the parsing module\n",
    "result = parsing_yacc.main(input, mode)\n",
    "\n",
    "# We want to print the result to see if the parser is working\n",
    "\n",
    "print(\"Python Mode\")\n",
    "\n",
    "print(result)\n",
    "\n",
    "# Change the mode to C and test the yacc module on numpy sum\n",
    "\n",
    "mode = \"C\"\n",
    "\n",
    "# We want to pass the input into the main function of the parsing module\n",
    "\n",
    "result = parsing_yacc.main(input, mode)\n",
    "\n",
    "# We want to print the result to see if the parser is working\n",
    "\n",
    "print(\"C Mode\")\n",
    "\n",
    "print(result)"
   ]
  },
  {
   "cell_type": "markdown",
   "metadata": {},
   "source": [
    "## Numpy dot product "
   ]
  },
  {
   "cell_type": "code",
   "execution_count": 108,
   "metadata": {},
   "outputs": [
    {
     "name": "stdout",
     "output_type": "stream",
     "text": [
      "LexToken(VARIABLE,'A',1,1)\n",
      "LexToken(EQUALS,'=',1,3)\n",
      "LexToken(ARRAY,'np.array',1,5)\n",
      "LexToken(LPAREN,'(',1,13)\n",
      "LexToken(LIST,'[1, 2, 3]',1,14)\n",
      "LexToken(RPAREN,')',1,23)\n",
      "LexToken(VARIABLE,'B',1,25)\n",
      "LexToken(EQUALS,'=',1,27)\n",
      "LexToken(ARRAY,'np.array',1,29)\n",
      "LexToken(LPAREN,'(',1,37)\n",
      "LexToken(LIST,'[4, 5, 6]',1,38)\n",
      "LexToken(RPAREN,')',1,47)\n",
      "LexToken(VARIABLE,'C',1,49)\n",
      "LexToken(EQUALS,'=',1,51)\n",
      "LexToken(NP_DOT_PRODUCT,'np.dot',1,53)\n",
      "LexToken(LPAREN,'(',1,59)\n",
      "LexToken(VARIABLE,'A',1,60)\n",
      "LexToken(COMMA,',',1,61)\n",
      "LexToken(VARIABLE,'B',1,63)\n",
      "LexToken(RPAREN,')',1,64)\n",
      "None\n"
     ]
    }
   ],
   "source": [
    "# Let's test the lex file on numpy dot product\n",
    "\n",
    "input = \"\"\"\n",
    "A = np.array([1, 2, 3])\n",
    "B = np.array([4, 5, 6])\n",
    "C = np.dot(A, B)\n",
    "\"\"\"\n",
    "\n",
    "# We want to pass the input into the main function of the parsing module\n",
    "\n",
    "tokens = parsing_lex.main(input)\n",
    "\n",
    "# We want to print the tokens to see if the lexer is working\n",
    "\n",
    "print(tokens)"
   ]
  },
  {
   "cell_type": "code",
   "execution_count": 109,
   "metadata": {},
   "outputs": [
    {
     "name": "stdout",
     "output_type": "stream",
     "text": [
      "Python Mode\n",
      "cupy.dot(A, B)\n",
      "C Mode\n",
      "None\n"
     ]
    }
   ],
   "source": [
    "# Let's test yacc \n",
    "\n",
    "input = \"\"\"\n",
    "C = np.dot(A, B)\n",
    "\"\"\"\n",
    "\n",
    "mode = \"Python\"\n",
    "\n",
    "# We want to pass the input into the main function of the parsing module\n",
    "result = parsing_yacc.main(input, mode)\n",
    "\n",
    "# We want to print the result to see if the parser is working\n",
    "\n",
    "print(\"Python Mode\")\n",
    "\n",
    "print(result)\n",
    "\n",
    "# Change the mode to C and test the yacc module on numpy sum\n",
    "\n",
    "mode = \"C\"\n",
    "\n",
    "# We want to pass the input into the main function of the parsing module\n",
    "\n",
    "result = parsing_yacc.main(input, mode)\n",
    "\n",
    "# We want to print the result to see if the parser is working\n",
    "\n",
    "print(\"C Mode\")\n",
    "\n",
    "print(result)"
   ]
  },
  {
   "cell_type": "markdown",
   "metadata": {},
   "source": [
    "## For loop"
   ]
  },
  {
   "cell_type": "code",
   "execution_count": 110,
   "metadata": {},
   "outputs": [
    {
     "name": "stdout",
     "output_type": "stream",
     "text": [
      "LexToken(FOR,'for',1,1)\n",
      "LexToken(VARIABLE,'i',1,5)\n",
      "LexToken(IN,'in',1,7)\n",
      "LexToken(RANGE,'range',1,10)\n",
      "LexToken(LPAREN,'(',1,15)\n",
      "LexToken(NUMBER,'10',1,16)\n",
      "LexToken(RPAREN,')',1,18)\n",
      "LexToken(COLON,':',1,19)\n",
      "LexToken(PRINT,'print',1,25)\n",
      "LexToken(LPAREN,'(',1,30)\n",
      "LexToken(VARIABLE,'i',1,31)\n",
      "LexToken(RPAREN,')',1,32)\n",
      "None\n"
     ]
    }
   ],
   "source": [
    "# Testing lex on for loop \n",
    "\n",
    "input = \"\"\"\n",
    "for i in range(10):\n",
    "    print(i)\n",
    "\"\"\"\n",
    "\n",
    "# We want to pass the input into the main function of the parsing module\n",
    "\n",
    "tokens = parsing_lex.main(input)\n",
    "\n",
    "# We want to print the tokens to see if the lexer is working\n",
    "\n",
    "print(tokens)"
   ]
  },
  {
   "cell_type": "code",
   "execution_count": 111,
   "metadata": {},
   "outputs": [
    {
     "name": "stdout",
     "output_type": "stream",
     "text": [
      "Python Mode\n",
      "for i in range(10):\n",
      "\tprint(i)\n",
      "C Mode\n",
      "for (int i = 0; i < 10; i++) {\n",
      "\tprintf(i);\n",
      "}\n"
     ]
    }
   ],
   "source": [
    "# Testing yacc on for loop \n",
    "\n",
    "input = \"\"\"\n",
    "for i in range(10):\n",
    "    print(i)\n",
    "\"\"\"\n",
    "\n",
    "mode = \"Python\"\n",
    "\n",
    "# We want to pass the input into the main function of the parsing module\n",
    "result = parsing_yacc.main(input, mode)\n",
    "\n",
    "# We want to print the result to see if the parser is working\n",
    "\n",
    "print(\"Python Mode\")\n",
    "\n",
    "print(result)\n",
    "\n",
    "# Change the mode to C and test the yacc module on numpy sum\n",
    "\n",
    "mode = \"C\"\n",
    "\n",
    "# We want to pass the input into the main function of the parsing module\n",
    "\n",
    "result = parsing_yacc.main(input, mode)\n",
    "\n",
    "# We want to print the result to see if the parser is working\n",
    "\n",
    "print(\"C Mode\")\n",
    "\n",
    "print(result)"
   ]
  }
 ],
 "metadata": {
  "kernelspec": {
   "display_name": "Python 3",
   "language": "python",
   "name": "python3"
  },
  "language_info": {
   "codemirror_mode": {
    "name": "ipython",
    "version": 3
   },
   "file_extension": ".py",
   "mimetype": "text/x-python",
   "name": "python",
   "nbconvert_exporter": "python",
   "pygments_lexer": "ipython3",
   "version": "3.10.11"
  }
 },
 "nbformat": 4,
 "nbformat_minor": 2
}
