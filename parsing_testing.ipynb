{
 "cells": [
  {
   "cell_type": "markdown",
   "metadata": {},
   "source": [
    "# Parsing Tests\n",
    "This notebook will be used to test the functions in the parsing.py file in a practical sense. "
   ]
  },
  {
   "cell_type": "code",
   "execution_count": 38,
   "metadata": {},
   "outputs": [],
   "source": [
    "import parsing_lex\n",
    "import parsing_yacc"
   ]
  },
  {
   "cell_type": "markdown",
   "metadata": {},
   "source": [
    "## Testing on print statements "
   ]
  },
  {
   "cell_type": "code",
   "execution_count": 39,
   "metadata": {},
   "outputs": [
    {
     "name": "stdout",
     "output_type": "stream",
     "text": [
      "LexToken(VARIABLE,'print',1,2)\n",
      "LexToken(LPAREN,'(',1,7)\n",
      "LexToken(STRING,'\"Hello World\"',1,8)\n",
      "LexToken(RPAREN,')',1,21)\n",
      "None\n"
     ]
    }
   ],
   "source": [
    "# Let's test the Lexer on various print statements and see if it works \n",
    "\n",
    "input = \"\"\" \n",
    "print(\"Hello World\")\n",
    "\"\"\"\n",
    "\n",
    "# We want to pass the input into the main function of the parsing module \n",
    "tokens = parsing_lex.main(input)\n",
    "\n",
    "# We want to print the tokens to see if the lexer is working \n",
    "print(tokens)"
   ]
  },
  {
   "cell_type": "code",
   "execution_count": 40,
   "metadata": {},
   "outputs": [
    {
     "name": "stdout",
     "output_type": "stream",
     "text": [
      "LexToken(VARIABLE,'print',1,2)\n",
      "LexToken(LPAREN,'(',1,7)\n",
      "LexToken(STRING,'\"Hello World\"',1,8)\n",
      "LexToken(RPAREN,')',1,21)\n",
      "LexToken(VARIABLE,'print',1,23)\n",
      "LexToken(LPAREN,'(',1,28)\n",
      "LexToken(STRING,'\"Hello World\"',1,29)\n",
      "LexToken(RPAREN,')',1,42)\n",
      "None\n"
     ]
    }
   ],
   "source": [
    "# Let's test the Lexer on an example that has multiple print statements  \n",
    "\n",
    "input = \"\"\" \n",
    "print(\"Hello World\")\n",
    "print(\"Hello World\")\n",
    "\"\"\"\n",
    "\n",
    "# We want to pass the input into the main function of the parsing module\n",
    "tokens = parsing_lex.main(input)\n",
    "\n",
    "# We want to print the tokens to see if the lexer is working\n",
    "print(tokens)"
   ]
  },
  {
   "cell_type": "code",
   "execution_count": 41,
   "metadata": {},
   "outputs": [
    {
     "name": "stdout",
     "output_type": "stream",
     "text": [
      "LexToken(VARIABLE,'print',1,2)\n",
      "LexToken(LPAREN,'(',1,7)\n",
      "LexToken(STRING,'\"Hello, World\"',1,8)\n",
      "LexToken(RPAREN,')',1,22)\n",
      "None\n"
     ]
    }
   ],
   "source": [
    "# Let's try the Lexer on an example that has print statements and punctuation.  \n",
    "\n",
    "input = \"\"\" \n",
    "print(\"Hello, World\")\n",
    "\"\"\"\n",
    "\n",
    "# We want to pass the input into the main function of the parsing module\n",
    "tokens = parsing_lex.main(input)\n",
    "\n",
    "# We want to print the tokens to see if the lexer is working\n",
    "print(tokens)\n"
   ]
  },
  {
   "cell_type": "code",
   "execution_count": 42,
   "metadata": {},
   "outputs": [
    {
     "name": "stdout",
     "output_type": "stream",
     "text": [
      "LexToken(VARIABLE,'print',1,1)\n",
      "LexToken(LPAREN,'(',1,6)\n",
      "LexToken(STRING,'\"Hello World\"',1,7)\n",
      "LexToken(RPAREN,')',1,20)\n",
      "None\n"
     ]
    }
   ],
   "source": [
    "# Let's create an input that has a print statement and a comment  \n",
    "\n",
    "input = \"\"\"\n",
    "print(\"Hello World\") # This is a comment\n",
    "\"\"\"\n",
    "\n",
    "# We want to pass the input into the main function of the parsing module\n",
    "tokens = parsing_lex.main(input)\n",
    "\n",
    "# We want to print the tokens to see if the lexer is working\n",
    "print(tokens)"
   ]
  },
  {
   "cell_type": "code",
   "execution_count": 43,
   "metadata": {},
   "outputs": [
    {
     "name": "stdout",
     "output_type": "stream",
     "text": [
      "LexToken(VARIABLE,'print',1,2)\n",
      "LexToken(LPAREN,'(',1,7)\n",
      "LexToken(STRING,'\"Hello World      \"',1,8)\n",
      "LexToken(RPAREN,')',1,33)\n",
      "None\n"
     ]
    }
   ],
   "source": [
    "# Let's create an input with excess whitespace \n",
    "# The excess whitespace in the Hello World should remain, but the excess whitespace in the print statement should be removed\n",
    "\n",
    "input = \"\"\" \n",
    "print(\"Hello World      \"      )\n",
    "\"\"\"\n",
    "\n",
    "# We want to pass the input into the main function of the parsing module\n",
    "tokens = parsing_lex.main(input)\n",
    "\n",
    "# We want to print the tokens to see if the lexer is working\n",
    "print(tokens)"
   ]
  },
  {
   "cell_type": "code",
   "execution_count": 44,
   "metadata": {},
   "outputs": [
    {
     "name": "stdout",
     "output_type": "stream",
     "text": [
      "Syntax error in input!\n",
      "None\n"
     ]
    }
   ],
   "source": [
    "# Let's now test the yacc module on a simple print statement\n",
    "\n",
    "input = \"\"\"\n",
    "print(\"Hello World\")\n",
    "\"\"\"\n",
    "\n",
    "mode = \"Python\"\n",
    "\n",
    "# We want to pass the input into the main function of the parsing module\n",
    "result = parsing_yacc.main(input, mode)\n",
    "\n",
    "# We want to print the result to see if the parser is working\n",
    "print(result)"
   ]
  },
  {
   "cell_type": "code",
   "execution_count": 45,
   "metadata": {},
   "outputs": [
    {
     "name": "stdout",
     "output_type": "stream",
     "text": [
      "Syntax error in input!\n",
      "None\n"
     ]
    }
   ],
   "source": [
    "# Change the mode to C and test the yacc module on a simple print statement \n",
    "\n",
    "input = \"\"\"\n",
    "print(\"Hello World\")\n",
    "\"\"\"\n",
    "\n",
    "mode = \"C\"\n",
    "\n",
    "# We want to pass the input into the main function of the parsing module\n",
    "result = parsing_yacc.main(input, mode)\n",
    "\n",
    "# We want to print the result to see if the parser is working\n",
    "print(result)"
   ]
  },
  {
   "cell_type": "markdown",
   "metadata": {},
   "source": [
    "## Testing on Numerical Operations (Basic)\n",
    "\n",
    "By this point the Lexer should be able to handle basic numerical operations. "
   ]
  },
  {
   "cell_type": "code",
   "execution_count": 46,
   "metadata": {},
   "outputs": [
    {
     "name": "stdout",
     "output_type": "stream",
     "text": [
      "LexToken(NUMBER,'1',1,2)\n",
      "LexToken(PLUS,'+',1,4)\n",
      "LexToken(NUMBER,'1',1,6)\n",
      "None\n"
     ]
    }
   ],
   "source": [
    "# Let's do a simple test with just a numerical expression \n",
    "\n",
    "input = \"\"\" \n",
    "1 + 1\n",
    "\"\"\" \n",
    "\n",
    "# We want to pass the input into the main function of the parsing module\n",
    "tokens = parsing_lex.main(input)\n",
    "\n",
    "# We want to print the tokens to see if the lexer is working\n",
    "print(tokens)"
   ]
  },
  {
   "cell_type": "code",
   "execution_count": 47,
   "metadata": {},
   "outputs": [
    {
     "name": "stdout",
     "output_type": "stream",
     "text": [
      "LexToken(NUMBER,'1',1,2)\n",
      "LexToken(MINUS,'-',1,4)\n",
      "LexToken(NUMBER,'1',1,6)\n",
      "None\n"
     ]
    }
   ],
   "source": [
    "# Let's do subtraction \n",
    "\n",
    "input = \"\"\" \n",
    "1 - 1\n",
    "\"\"\"\n",
    "\n",
    "# We want to pass the input into the main function of the parsing module\n",
    "tokens = parsing_lex.main(input)\n",
    "\n",
    "# We want to print the tokens to see if the lexer is working\n",
    "print(tokens)"
   ]
  },
  {
   "cell_type": "code",
   "execution_count": 48,
   "metadata": {},
   "outputs": [
    {
     "name": "stdout",
     "output_type": "stream",
     "text": [
      "LexToken(NUMBER,'1',1,1)\n",
      "LexToken(TIMES,'*',1,3)\n",
      "LexToken(NUMBER,'1',1,5)\n",
      "None\n"
     ]
    }
   ],
   "source": [
    "# Let's do multiplication \n",
    "\n",
    "input = \"\"\"\n",
    "1 * 1\n",
    "\"\"\"\n",
    "\n",
    "# We want to pass the input into the main function of the parsing module\n",
    "tokens = parsing_lex.main(input)\n",
    "\n",
    "# We want to print the tokens to see if the lexer is working\n",
    "print(tokens)"
   ]
  },
  {
   "cell_type": "code",
   "execution_count": 49,
   "metadata": {},
   "outputs": [
    {
     "name": "stdout",
     "output_type": "stream",
     "text": [
      "LexToken(NUMBER,'1',1,1)\n",
      "LexToken(DIVIDE,'/',1,3)\n",
      "LexToken(NUMBER,'1',1,5)\n",
      "None\n"
     ]
    }
   ],
   "source": [
    "# Let's do division\n",
    "\n",
    "input = \"\"\"\n",
    "1 / 1\n",
    "\"\"\"\n",
    "\n",
    "# We want to pass the input into the main function of the parsing module\n",
    "tokens = parsing_lex.main(input)\n",
    "\n",
    "# We want to print the tokens to see if the lexer is working\n",
    "print(tokens)"
   ]
  },
  {
   "cell_type": "code",
   "execution_count": 50,
   "metadata": {},
   "outputs": [
    {
     "name": "stdout",
     "output_type": "stream",
     "text": [
      "LexToken(LPAREN,'(',1,1)\n",
      "LexToken(NUMBER,'1',1,2)\n",
      "LexToken(PLUS,'+',1,4)\n",
      "LexToken(NUMBER,'1',1,6)\n",
      "LexToken(RPAREN,')',1,7)\n",
      "None\n"
     ]
    }
   ],
   "source": [
    "# Let's do an expression that involves parenthesis \n",
    "\n",
    "input = \"\"\"\n",
    "(1 + 1)\n",
    "\"\"\"\n",
    "\n",
    "# We want to pass the input into the main function of the parsing module\n",
    "tokens = parsing_lex.main(input)\n",
    "\n",
    "# We want to print the tokens to see if the lexer is working\n",
    "print(tokens)"
   ]
  },
  {
   "cell_type": "code",
   "execution_count": 51,
   "metadata": {},
   "outputs": [
    {
     "name": "stdout",
     "output_type": "stream",
     "text": [
      "LexToken(LPAREN,'(',1,1)\n",
      "LexToken(NUMBER,'1',1,2)\n",
      "LexToken(PLUS,'+',1,4)\n",
      "LexToken(NUMBER,'1',1,6)\n",
      "LexToken(RPAREN,')',1,7)\n",
      "LexToken(TIMES,'*',1,9)\n",
      "LexToken(NUMBER,'1',1,11)\n",
      "LexToken(DIVIDE,'/',1,13)\n",
      "LexToken(NUMBER,'1',1,15)\n",
      "LexToken(MINUS,'-',1,17)\n",
      "LexToken(NUMBER,'1',1,19)\n",
      "None\n"
     ]
    }
   ],
   "source": [
    "# Let's do an expression that involves multiple operations \n",
    "\n",
    "input = \"\"\"\n",
    "(1 + 1) * 1 / 1 - 1\n",
    "\"\"\"\n",
    "\n",
    "# We want to pass the input into the main function of the parsing module\n",
    "tokens = parsing_lex.main(input)\n",
    "\n",
    "# We want to print the tokens to see if the lexer is working\n",
    "print(tokens)"
   ]
  },
  {
   "cell_type": "code",
   "execution_count": 52,
   "metadata": {},
   "outputs": [
    {
     "name": "stdout",
     "output_type": "stream",
     "text": [
      "LexToken(LPAREN,'(',1,1)\n",
      "LexToken(NUMBER,'1',1,2)\n",
      "LexToken(PLUS,'+',1,4)\n",
      "LexToken(NUMBER,'1',1,6)\n",
      "LexToken(RPAREN,')',1,7)\n",
      "None\n"
     ]
    }
   ],
   "source": [
    "# Let's do an expression with a comment \n",
    "\n",
    "input = \"\"\"\n",
    "(1 + 1) # This is a comment\n",
    "\"\"\"\n",
    "\n",
    "# We want to pass the input into the main function of the parsing module\n",
    "tokens = parsing_lex.main(input)\n",
    "\n",
    "# We want to print the tokens to see if the lexer is working\n",
    "print(tokens)"
   ]
  },
  {
   "cell_type": "code",
   "execution_count": 53,
   "metadata": {},
   "outputs": [
    {
     "name": "stdout",
     "output_type": "stream",
     "text": [
      "LexToken(LPAREN,'(',1,1)\n",
      "LexToken(NUMBER,'1',1,2)\n",
      "LexToken(PLUS,'+',1,4)\n",
      "LexToken(NUMBER,'1',1,6)\n",
      "LexToken(RPAREN,')',1,7)\n",
      "LexToken(PLUS,'+',1,14)\n",
      "LexToken(NUMBER,'1',1,16)\n",
      "None\n"
     ]
    }
   ],
   "source": [
    "# Let's do an expression with excess whitespace \n",
    "\n",
    "input = \"\"\"\n",
    "(1 + 1)      + 1\n",
    "\"\"\"\n",
    "\n",
    "# We want to pass the input into the main function of the parsing module\n",
    "tokens = parsing_lex.main(input)\n",
    "\n",
    "# We want to print the tokens to see if the lexer is working\n",
    "print(tokens)"
   ]
  },
  {
   "cell_type": "code",
   "execution_count": 54,
   "metadata": {},
   "outputs": [
    {
     "name": "stdout",
     "output_type": "stream",
     "text": [
      "LexToken(VARIABLE,'print',1,1)\n",
      "LexToken(LPAREN,'(',1,6)\n",
      "LexToken(NUMBER,'1',1,7)\n",
      "LexToken(PLUS,'+',1,9)\n",
      "LexToken(NUMBER,'1',1,11)\n",
      "LexToken(RPAREN,')',1,12)\n",
      "None\n"
     ]
    }
   ],
   "source": [
    "# Let's put a numerical expression into a print statement \n",
    "\n",
    "input = \"\"\"\n",
    "print(1 + 1)\n",
    "\"\"\"\n",
    "\n",
    "# We want to pass the input into the main function of the parsing module\n",
    "tokens = parsing_lex.main(input)\n",
    "\n",
    "# We want to print the tokens to see if the lexer is working\n",
    "print(tokens)"
   ]
  },
  {
   "cell_type": "code",
   "execution_count": 55,
   "metadata": {},
   "outputs": [
    {
     "name": "stdout",
     "output_type": "stream",
     "text": [
      "Python Mode\n",
      "1 + 1\n",
      "C Mode\n",
      "1 + 1\n"
     ]
    }
   ],
   "source": [
    "# Now, let's test the yacc file on addition \n",
    "\n",
    "input = \"\"\"\n",
    "1 + 1\n",
    "\"\"\"\n",
    "\n",
    "mode = \"Python\"\n",
    "\n",
    "# We want to pass the input into the main function of the parsing module\n",
    "result = parsing_yacc.main(input, mode)\n",
    "\n",
    "# We want to print the result to see if the parser is working\n",
    "print(\"Python Mode\")\n",
    "print(result)\n",
    "\n",
    "# Change the mode to C and test the yacc module on addition \n",
    "\n",
    "mode = \"C\" \n",
    "\n",
    "# We want to pass the input into the main function of the parsing module \n",
    "result = parsing_yacc.main(input, mode)\n",
    "\n",
    "# We want to print the result to see if the parser is working\n",
    "print(\"C Mode\")\n",
    "print(result)\n"
   ]
  },
  {
   "cell_type": "code",
   "execution_count": 56,
   "metadata": {},
   "outputs": [
    {
     "name": "stdout",
     "output_type": "stream",
     "text": [
      "Python Mode\n",
      "1 - 1\n",
      "C Mode\n",
      "1 - 1\n"
     ]
    }
   ],
   "source": [
    "# Test yacc on subtraction \n",
    "\n",
    "input = \"\"\"\n",
    "1 - 1\n",
    "\"\"\"\n",
    "\n",
    "mode = \"Python\"\n",
    "\n",
    "# We want to pass the input into the main function of the parsing module\n",
    "result = parsing_yacc.main(input, mode)\n",
    "\n",
    "# We want to print the result to see if the parser is working\n",
    "print(\"Python Mode\")\n",
    "print(result)\n",
    "\n",
    "# Change the mode to C and test the yacc module on subtraction\n",
    "\n",
    "mode = \"C\"\n",
    "\n",
    "# We want to pass the input into the main function of the parsing module\n",
    "result = parsing_yacc.main(input, mode)\n",
    "\n",
    "# We want to print the result to see if the parser is working\n",
    "print(\"C Mode\")\n",
    "print(result)"
   ]
  },
  {
   "cell_type": "code",
   "execution_count": 57,
   "metadata": {},
   "outputs": [
    {
     "name": "stdout",
     "output_type": "stream",
     "text": [
      "Python Mode\n",
      "1 * 1\n",
      "C Mode\n",
      "1 * 1\n"
     ]
    }
   ],
   "source": [
    "# Test yacc on multiplication \n",
    "\n",
    "input = \"\"\"\n",
    "1 * 1\n",
    "\"\"\"\n",
    "\n",
    "mode = \"Python\"\n",
    "\n",
    "# We want to pass the input into the main function of the parsing module\n",
    "result = parsing_yacc.main(input, mode)\n",
    "\n",
    "# We want to print the result to see if the parser is working\n",
    "print(\"Python Mode\")\n",
    "print(result)\n",
    "\n",
    "# Change the mode to C and test the yacc module on subtraction\n",
    "\n",
    "mode = \"C\"\n",
    "\n",
    "# We want to pass the input into the main function of the parsing module\n",
    "result = parsing_yacc.main(input, mode)\n",
    "\n",
    "# We want to print the result to see if the parser is working\n",
    "print(\"C Mode\")\n",
    "print(result)"
   ]
  },
  {
   "cell_type": "code",
   "execution_count": 58,
   "metadata": {},
   "outputs": [
    {
     "name": "stdout",
     "output_type": "stream",
     "text": [
      "Python Mode\n",
      "1 / 1\n",
      "C Mode\n",
      "1 / 1\n"
     ]
    }
   ],
   "source": [
    "# Test yacc on division \n",
    "\n",
    "input = \"\"\"\n",
    "1 / 1\n",
    "\"\"\"\n",
    "\n",
    "mode = \"Python\"\n",
    "\n",
    "# We want to pass the input into the main function of the parsing module\n",
    "result = parsing_yacc.main(input, mode)\n",
    "\n",
    "# We want to print the result to see if the parser is working\n",
    "print(\"Python Mode\")\n",
    "print(result)\n",
    "\n",
    "# Change the mode to C and test the yacc module on subtraction\n",
    "\n",
    "mode = \"C\"\n",
    "\n",
    "# We want to pass the input into the main function of the parsing module\n",
    "result = parsing_yacc.main(input, mode)\n",
    "\n",
    "# We want to print the result to see if the parser is working\n",
    "print(\"C Mode\")\n",
    "print(result)"
   ]
  },
  {
   "cell_type": "code",
   "execution_count": 59,
   "metadata": {},
   "outputs": [
    {
     "name": "stdout",
     "output_type": "stream",
     "text": [
      "Python Mode\n",
      "(1 + 1)\n",
      "C Mode\n",
      "(1 + 1)\n"
     ]
    }
   ],
   "source": [
    "# Let's do an expression that involves parenthesis \n",
    "\n",
    "input = \"\"\"\n",
    "(1 + 1)\n",
    "\"\"\"\n",
    "\n",
    "mode = \"Python\"\n",
    "\n",
    "# We want to pass the input into the main function of the parsing module\n",
    "result = parsing_yacc.main(input, mode)\n",
    "\n",
    "# We want to print the result to see if the parser is working\n",
    "print(\"Python Mode\")\n",
    "print(result)\n",
    "\n",
    "mode = \"C\"\n",
    "\n",
    "# We want to pass the input into the main function of the parsing module\n",
    "result = parsing_yacc.main(input, mode) \n",
    "\n",
    "# We want to print the result to see if the parser is working\n",
    "print(\"C Mode\")\n",
    "print(result)"
   ]
  },
  {
   "cell_type": "code",
   "execution_count": 60,
   "metadata": {},
   "outputs": [
    {
     "name": "stdout",
     "output_type": "stream",
     "text": [
      "Python Mode\n",
      "(1 + 1) * 1 / 1 - 1\n",
      "C Mode\n",
      "(1 + 1) * 1 / 1 - 1\n"
     ]
    }
   ],
   "source": [
    "# Let's do an expression that invovles multiple operations \n",
    "\n",
    "# Let's do an expression that involves parenthesis \n",
    "\n",
    "input = \"\"\"\n",
    "(1 + 1) * 1 / 1 - 1\n",
    "\"\"\"\n",
    "\n",
    "mode = \"Python\"\n",
    "\n",
    "# We want to pass the input into the main function of the parsing module\n",
    "result = parsing_yacc.main(input, mode)\n",
    "\n",
    "# We want to print the result to see if the parser is working\n",
    "print(\"Python Mode\")\n",
    "print(result)\n",
    "\n",
    "mode = \"C\"\n",
    "\n",
    "# We want to pass the input into the main function of the parsing module\n",
    "result = parsing_yacc.main(input, mode) \n",
    "\n",
    "# We want to print the result to see if the parser is working\n",
    "print(\"C Mode\")\n",
    "print(result)"
   ]
  },
  {
   "cell_type": "code",
   "execution_count": 61,
   "metadata": {},
   "outputs": [
    {
     "name": "stdout",
     "output_type": "stream",
     "text": [
      "Syntax error in input!\n",
      "Syntax error in input!\n",
      "Python Mode\n",
      "None\n",
      "Syntax error in input!\n",
      "Syntax error in input!\n",
      "C Mode\n",
      "None\n"
     ]
    }
   ],
   "source": [
    "# Let's do an expression with both print and numerical expressions \n",
    "\n",
    "input = \"\"\"\n",
    "print(1 + 1)\n",
    "\"\"\"\n",
    "\n",
    "mode = \"Python\"\n",
    "\n",
    "# We want to pass the input into the main function of the parsing module\n",
    "result = parsing_yacc.main(input, mode)\n",
    "\n",
    "# We want to print the result to see if the parser is working\n",
    "print(\"Python Mode\")\n",
    "\n",
    "print(result)\n",
    "\n",
    "mode = \"C\"\n",
    "\n",
    "# We want to pass the input into the main function of the parsing module\n",
    "result = parsing_yacc.main(input, mode)\n",
    "\n",
    "# We want to print the result to see if the parser is working\n",
    "print(\"C Mode\")\n",
    "\n",
    "print(result)"
   ]
  },
  {
   "cell_type": "markdown",
   "metadata": {},
   "source": [
    "## Let's test the reserved words: if statements"
   ]
  },
  {
   "cell_type": "code",
   "execution_count": 62,
   "metadata": {},
   "outputs": [
    {
     "name": "stdout",
     "output_type": "stream",
     "text": [
      "LexToken(IF,'if',1,1)\n",
      "LexToken(NUMBER,'1',1,4)\n",
      "LexToken(DOUBLE_EQUALS,'==',1,6)\n",
      "LexToken(NUMBER,'1',1,9)\n",
      "LexToken(COLON,':',1,10)\n",
      "LexToken(VARIABLE,'print',1,16)\n",
      "LexToken(LPAREN,'(',1,21)\n",
      "LexToken(STRING,'\"Hello World\"',1,22)\n",
      "LexToken(RPAREN,')',1,35)\n",
      "None\n"
     ]
    }
   ],
   "source": [
    "# Let's test something with an if-statement \n",
    "\n",
    "input = \"\"\"\n",
    "if 1 == 1:\n",
    "    print(\"Hello World\")\n",
    "\"\"\"\n",
    "\n",
    "# We want to pass the input into the main function of the parsing module\n",
    "tokens = parsing_lex.main(input)\n",
    "\n",
    "# We want to print the tokens to see if the lexer is working\n",
    "print(tokens)"
   ]
  },
  {
   "cell_type": "code",
   "execution_count": 63,
   "metadata": {},
   "outputs": [
    {
     "name": "stdout",
     "output_type": "stream",
     "text": [
      "Python Mode\n",
      "1 == 1\n"
     ]
    }
   ],
   "source": [
    "# Let's test the yacc file on a simple if-statement \n",
    "\n",
    "input = \"\"\"\n",
    "1 == 1\n",
    "\"\"\"\n",
    "\n",
    "mode = \"Python\"\n",
    "\n",
    "# We want to pass the input into the main function of the parsing module\n",
    "result = parsing_yacc.main(input, mode)\n",
    "\n",
    "# We want to print the result to see if the parser is working\n",
    "print(\"Python Mode\")\n",
    "print(result)\n",
    "\n",
    "# Change the mode to C and test the yacc module on an if-statement\n",
    "\n",
    "mode = \"C\"\n",
    "\n",
    "# We want to pass the input into the main function of the parsing module\n",
    "result = parsing_yacc.main(input, mode)"
   ]
  },
  {
   "cell_type": "code",
   "execution_count": 64,
   "metadata": {},
   "outputs": [
    {
     "name": "stdout",
     "output_type": "stream",
     "text": [
      "Syntax error in input!\n",
      "Python Mode\n",
      "None\n",
      "Syntax error in input!\n",
      "C Mode\n",
      "None\n"
     ]
    }
   ],
   "source": [
    "# Let's test the yacc file on a simple if-statement \n",
    "\n",
    "input = \"\"\"\n",
    "if 1 == 1:\n",
    "    print(\"Hello World\")\n",
    "\"\"\"\n",
    "\n",
    "mode = \"Python\"\n",
    "\n",
    "# We want to pass the input into the main function of the parsing module\n",
    "result = parsing_yacc.main(input, mode)\n",
    "\n",
    "# We want to print the result to see if the parser is working\n",
    "print(\"Python Mode\")\n",
    "print(result)\n",
    "\n",
    "# Change the mode to C and test the yacc module on an if-statement\n",
    "\n",
    "mode = \"C\"\n",
    "\n",
    "# We want to pass the input into the main function of the parsing module\n",
    "result = parsing_yacc.main(input, mode)\n",
    "\n",
    "# We want to print the result to see if the parser is working\n",
    "print(\"C Mode\")\n",
    "\n",
    "print(result)"
   ]
  },
  {
   "cell_type": "code",
   "execution_count": 65,
   "metadata": {},
   "outputs": [
    {
     "name": "stdout",
     "output_type": "stream",
     "text": [
      "Syntax error in input!\n",
      "Python Mode\n",
      "None\n",
      "Syntax error in input!\n",
      "C Mode\n",
      "None\n"
     ]
    }
   ],
   "source": [
    "# Let's test the yacc file on a simple if-statement \n",
    "\n",
    "input = \"\"\"\n",
    "if (1 == 1):\n",
    "    print(\"Hello World\")\n",
    "\"\"\"\n",
    "\n",
    "mode = \"Python\"\n",
    "\n",
    "# We want to pass the input into the main function of the parsing module\n",
    "result = parsing_yacc.main(input, mode)\n",
    "\n",
    "# We want to print the result to see if the parser is working\n",
    "print(\"Python Mode\")\n",
    "print(result)\n",
    "\n",
    "# Change the mode to C and test the yacc module on an if-statement\n",
    "\n",
    "mode = \"C\"\n",
    "\n",
    "# We want to pass the input into the main function of the parsing module\n",
    "result = parsing_yacc.main(input, mode)\n",
    "\n",
    "# We want to print the result to see if the parser is working\n",
    "print(\"C Mode\")\n",
    "\n",
    "print(result)"
   ]
  },
  {
   "cell_type": "code",
   "execution_count": 66,
   "metadata": {},
   "outputs": [
    {
     "name": "stdout",
     "output_type": "stream",
     "text": [
      "LexToken(IF,'if',1,1)\n",
      "LexToken(NUMBER,'1',1,4)\n",
      "LexToken(DOUBLE_EQUALS,'==',1,6)\n",
      "LexToken(NUMBER,'1',1,9)\n",
      "LexToken(COLON,':',1,10)\n",
      "LexToken(VARIABLE,'print',1,16)\n",
      "LexToken(LPAREN,'(',1,21)\n",
      "LexToken(STRING,'\"Hello World\"',1,22)\n",
      "LexToken(RPAREN,')',1,35)\n",
      "LexToken(ELSE,'else',1,37)\n",
      "LexToken(COLON,':',1,41)\n",
      "LexToken(VARIABLE,'print',1,47)\n",
      "LexToken(LPAREN,'(',1,52)\n",
      "LexToken(STRING,'\"Goodbye World\"',1,53)\n",
      "LexToken(RPAREN,')',1,68)\n",
      "None\n"
     ]
    }
   ],
   "source": [
    "# Let's test if-else \n",
    "\n",
    "input = \"\"\"\n",
    "if 1 == 1:\n",
    "    print(\"Hello World\")\n",
    "else:\n",
    "    print(\"Goodbye World\")\n",
    "\"\"\"\n",
    "\n",
    "# We want to pass the input into the main function of the parsing module\n",
    "tokens = parsing_lex.main(input)\n",
    "\n",
    "# We want to print the tokens to see if the lexer is working\n",
    "print(tokens)"
   ]
  },
  {
   "cell_type": "code",
   "execution_count": 67,
   "metadata": {},
   "outputs": [
    {
     "name": "stdout",
     "output_type": "stream",
     "text": [
      "LexToken(IF,'if',1,1)\n",
      "LexToken(NUMBER,'1',1,4)\n",
      "LexToken(DOUBLE_EQUALS,'==',1,6)\n",
      "LexToken(NUMBER,'1',1,9)\n",
      "LexToken(COLON,':',1,10)\n",
      "LexToken(VARIABLE,'print',1,16)\n",
      "LexToken(LPAREN,'(',1,21)\n",
      "LexToken(STRING,'\"Hello World\"',1,22)\n",
      "LexToken(RPAREN,')',1,35)\n",
      "LexToken(ELIF,'elif',1,37)\n",
      "LexToken(NUMBER,'1',1,42)\n",
      "LexToken(DOUBLE_EQUALS,'==',1,44)\n",
      "LexToken(NUMBER,'2',1,47)\n",
      "LexToken(COLON,':',1,48)\n",
      "LexToken(VARIABLE,'print',1,54)\n",
      "LexToken(LPAREN,'(',1,59)\n",
      "LexToken(STRING,'\"Crazy World\"',1,60)\n",
      "LexToken(RPAREN,')',1,73)\n",
      "LexToken(ELSE,'else',1,75)\n",
      "LexToken(COLON,':',1,79)\n",
      "LexToken(VARIABLE,'print',1,85)\n",
      "LexToken(LPAREN,'(',1,90)\n",
      "LexToken(STRING,'\"Goodbye World\"',1,91)\n",
      "LexToken(RPAREN,')',1,106)\n",
      "None\n"
     ]
    }
   ],
   "source": [
    "# Let's test if-elif-else \n",
    "\n",
    "input = \"\"\"\n",
    "if 1 == 1:\n",
    "    print(\"Hello World\")\n",
    "elif 1 == 2:\n",
    "    print(\"Crazy World\")\n",
    "else:\n",
    "    print(\"Goodbye World\")\n",
    "\"\"\"\n",
    "\n",
    "# We want to pass the input into the main function of the parsing module\n",
    "tokens = parsing_lex.main(input)\n",
    "\n",
    "# We want to print the tokens to see if the lexer is working\n",
    "print(tokens)"
   ]
  },
  {
   "cell_type": "markdown",
   "metadata": {},
   "source": [
    "## Testing creating numpy arrays from list "
   ]
  },
  {
   "cell_type": "code",
   "execution_count": 68,
   "metadata": {},
   "outputs": [
    {
     "name": "stdout",
     "output_type": "stream",
     "text": [
      "LexToken(VARIABLE,'a',1,1)\n",
      "LexToken(EQUALS,'=',1,3)\n",
      "LexToken(ARRAY,'np.array',1,5)\n",
      "LexToken(LPAREN,'(',1,13)\n",
      "LexToken(LIST,'[1, 2, 3]',1,14)\n",
      "LexToken(RPAREN,')',1,23)\n",
      "None\n"
     ]
    }
   ],
   "source": [
    "# Let's test the lex file on creating numpy arrays from a list \n",
    "\n",
    "input = \"\"\"\n",
    "a = np.array([1, 2, 3])\n",
    "\"\"\"\n",
    "\n",
    "# We want to pass the input into the main function of the parsing module\n",
    "\n",
    "tokens = parsing_lex.main(input)\n",
    "\n",
    "# We want to print the tokens to see if the lexer is working\n",
    "print(tokens)"
   ]
  },
  {
   "cell_type": "code",
   "execution_count": 69,
   "metadata": {},
   "outputs": [
    {
     "name": "stdout",
     "output_type": "stream",
     "text": [
      "Creating a numpy array from a list\n",
      "Variable name: a\n",
      "List values: 1, 2, 3\n",
      "Calling Python function\n",
      "Python Mode\n",
      "None\n",
      "Creating a numpy array from a list\n",
      "Variable name: a\n",
      "List values: 1, 2, 3\n",
      "C Mode\n",
      "int a[3] = {1, 2, 3};\n"
     ]
    }
   ],
   "source": [
    "# Let's test the yacc file on creating numpy arrays from a list \n",
    "\n",
    "input = \"\"\"\n",
    "a = np.array([1, 2, 3])\n",
    "\"\"\"\n",
    "\n",
    "mode = \"Python\"\n",
    "\n",
    "# We want to pass the input into the main function of the parsing module\n",
    "result = parsing_yacc.main(input, mode)\n",
    "\n",
    "# We want to print the result to see if the parser is working\n",
    "print(\"Python Mode\")\n",
    "\n",
    "print(result)\n",
    "\n",
    "# Change the mode to C and test the yacc module on creating numpy arrays from a list\n",
    "\n",
    "mode = \"C\"\n",
    "\n",
    "# We want to pass the input into the main function of the parsing module\n",
    "\n",
    "result = parsing_yacc.main(input, mode)\n",
    "\n",
    "# We want to print the result to see if the parser is working\n",
    "\n",
    "print(\"C Mode\")\n",
    "\n",
    "print(result)"
   ]
  },
  {
   "cell_type": "markdown",
   "metadata": {},
   "source": [
    "## Numpy add"
   ]
  },
  {
   "cell_type": "code",
   "execution_count": 70,
   "metadata": {},
   "outputs": [
    {
     "name": "stdout",
     "output_type": "stream",
     "text": [
      "LexToken(VARIABLE,'C',1,1)\n",
      "LexToken(EQUALS,'=',1,3)\n",
      "LexToken(NP_ADD,'np.add',1,5)\n",
      "LexToken(LPAREN,'(',1,11)\n",
      "LexToken(VARIABLE,'A',1,12)\n",
      "LexToken(COMMA,',',1,13)\n",
      "LexToken(VARIABLE,'B',1,15)\n",
      "LexToken(RPAREN,')',1,16)\n",
      "None\n"
     ]
    }
   ],
   "source": [
    "# Let's test the lex file on adding numpy arrays \n",
    "\n",
    "input = \"\"\"\n",
    "C = np.add(A, B)\n",
    "\"\"\"\n",
    "\n",
    "# We want to pass the input into the main function of the parsing module\n",
    "\n",
    "tokens = parsing_lex.main(input)\n",
    "\n",
    "# We want to print the tokens to see if the lexer is working\n",
    "print(tokens)"
   ]
  },
  {
   "cell_type": "markdown",
   "metadata": {},
   "source": [
    "## Numpy subtract "
   ]
  },
  {
   "cell_type": "code",
   "execution_count": 71,
   "metadata": {},
   "outputs": [
    {
     "name": "stdout",
     "output_type": "stream",
     "text": [
      "LexToken(VARIABLE,'C',1,1)\n",
      "LexToken(EQUALS,'=',1,3)\n",
      "LexToken(NP_SUBTRACT,'np.subtract',1,5)\n",
      "LexToken(LPAREN,'(',1,16)\n",
      "LexToken(VARIABLE,'A',1,17)\n",
      "LexToken(COMMA,',',1,18)\n",
      "LexToken(VARIABLE,'B',1,20)\n",
      "LexToken(RPAREN,')',1,21)\n",
      "None\n"
     ]
    }
   ],
   "source": [
    "# Let's test the lex file on subtracting numpy arrays \n",
    "\n",
    "input = \"\"\"\n",
    "C = np.subtract(A, B)\n",
    "\"\"\"\n",
    "\n",
    "# We want to pass the input into the main function of the parsing module\n",
    "\n",
    "tokens = parsing_lex.main(input)\n",
    "\n",
    "# We want to print the tokens to see if the lexer is working\n",
    "\n",
    "print(tokens)"
   ]
  },
  {
   "cell_type": "markdown",
   "metadata": {},
   "source": [
    "## Numpy sum "
   ]
  },
  {
   "cell_type": "code",
   "execution_count": 72,
   "metadata": {},
   "outputs": [
    {
     "name": "stdout",
     "output_type": "stream",
     "text": [
      "LexToken(VARIABLE,'C',1,1)\n",
      "LexToken(EQUALS,'=',1,3)\n",
      "LexToken(NP_SUM,'np.sum',1,5)\n",
      "LexToken(LPAREN,'(',1,11)\n",
      "LexToken(VARIABLE,'A',1,12)\n",
      "LexToken(RPAREN,')',1,13)\n",
      "None\n"
     ]
    }
   ],
   "source": [
    "# Let's test the lex file on numpy sum \n",
    "\n",
    "input = \"\"\"\n",
    "C = np.sum(A)\n",
    "\"\"\"\n",
    "\n",
    "# We want to pass the input into the main function of the parsing module\n",
    "\n",
    "tokens = parsing_lex.main(input)\n",
    "\n",
    "# We want to print the tokens to see if the lexer is working\n",
    "\n",
    "print(tokens)\n"
   ]
  },
  {
   "cell_type": "code",
   "execution_count": 73,
   "metadata": {},
   "outputs": [
    {
     "name": "stdout",
     "output_type": "stream",
     "text": [
      "Syntax error in input!\n",
      "Python Mode\n",
      "None\n",
      "Syntax error in input!\n",
      "C Mode\n",
      "None\n"
     ]
    }
   ],
   "source": [
    "# Test yacc \n",
    "\n",
    "input = \"\"\"\n",
    "C = np.sum(A)\n",
    "\"\"\"\n",
    "\n",
    "mode = \"Python\"\n",
    "\n",
    "# We want to pass the input into the main function of the parsing module\n",
    "result = parsing_yacc.main(input, mode)\n",
    "\n",
    "# We want to print the result to see if the parser is working\n",
    "\n",
    "print(\"Python Mode\")\n",
    "\n",
    "print(result)\n",
    "\n",
    "# Change the mode to C and test the yacc module on numpy sum\n",
    "\n",
    "mode = \"C\"\n",
    "\n",
    "# We want to pass the input into the main function of the parsing module\n",
    "\n",
    "result = parsing_yacc.main(input, mode)\n",
    "\n",
    "# We want to print the result to see if the parser is working\n",
    "\n",
    "print(\"C Mode\")\n",
    "\n",
    "print(result)"
   ]
  },
  {
   "cell_type": "markdown",
   "metadata": {},
   "source": [
    "## Numpy dot product "
   ]
  },
  {
   "cell_type": "code",
   "execution_count": 74,
   "metadata": {},
   "outputs": [
    {
     "name": "stdout",
     "output_type": "stream",
     "text": [
      "LexToken(VARIABLE,'C',1,1)\n",
      "LexToken(EQUALS,'=',1,3)\n",
      "LexToken(NP_DOT_PRODUCT,'np.dot',1,5)\n",
      "LexToken(LPAREN,'(',1,11)\n",
      "LexToken(VARIABLE,'A',1,12)\n",
      "LexToken(COMMA,',',1,13)\n",
      "LexToken(VARIABLE,'B',1,15)\n",
      "LexToken(RPAREN,')',1,16)\n",
      "None\n"
     ]
    }
   ],
   "source": [
    "# Let's test the lex file on numpy dot product\n",
    "\n",
    "input = \"\"\"\n",
    "C = np.dot(A, B)\n",
    "\"\"\"\n",
    "\n",
    "# We want to pass the input into the main function of the parsing module\n",
    "\n",
    "tokens = parsing_lex.main(input)\n",
    "\n",
    "# We want to print the tokens to see if the lexer is working\n",
    "\n",
    "print(tokens)"
   ]
  }
 ],
 "metadata": {
  "kernelspec": {
   "display_name": "Python 3",
   "language": "python",
   "name": "python3"
  },
  "language_info": {
   "codemirror_mode": {
    "name": "ipython",
    "version": 3
   },
   "file_extension": ".py",
   "mimetype": "text/x-python",
   "name": "python",
   "nbconvert_exporter": "python",
   "pygments_lexer": "ipython3",
   "version": "3.10.11"
  }
 },
 "nbformat": 4,
 "nbformat_minor": 2
}
