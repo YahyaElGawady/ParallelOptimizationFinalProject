{
 "cells": [
  {
   "cell_type": "markdown",
   "metadata": {},
   "source": [
    "# Parsing Tests\n",
    "This notebook will be used to test the functions in the parsing.py file in a practical sense. "
   ]
  },
  {
   "cell_type": "code",
   "execution_count": 1,
   "metadata": {},
   "outputs": [],
   "source": [
    "import parsing_lex\n",
    "import parsing_yacc"
   ]
  },
  {
   "cell_type": "markdown",
   "metadata": {},
   "source": [
    "## Testing on print statements "
   ]
  },
  {
   "cell_type": "code",
   "execution_count": 2,
   "metadata": {},
   "outputs": [
    {
     "name": "stdout",
     "output_type": "stream",
     "text": [
      "LexToken(PRINT,'print',1,2)\n",
      "LexToken(LPAREN,'(',1,7)\n",
      "LexToken(STRING,'\"Hello World\"',1,8)\n",
      "LexToken(RPAREN,')',1,21)\n",
      "None\n"
     ]
    }
   ],
   "source": [
    "# Let's test the Lexer on various print statements and see if it works \n",
    "\n",
    "input = \"\"\" \n",
    "print(\"Hello World\")\n",
    "\"\"\"\n",
    "\n",
    "# We want to pass the input into the main function of the parsing module \n",
    "tokens = parsing_lex.main(input)\n",
    "\n",
    "# We want to print the tokens to see if the lexer is working \n",
    "print(tokens)"
   ]
  },
  {
   "cell_type": "code",
   "execution_count": 3,
   "metadata": {},
   "outputs": [
    {
     "name": "stdout",
     "output_type": "stream",
     "text": [
      "LexToken(PRINT,'print',1,2)\n",
      "LexToken(LPAREN,'(',1,7)\n",
      "LexToken(STRING,'\"Hello World\"',1,8)\n",
      "LexToken(RPAREN,')',1,21)\n",
      "LexToken(PRINT,'print',1,23)\n",
      "LexToken(LPAREN,'(',1,28)\n",
      "LexToken(STRING,'\"Hello World\"',1,29)\n",
      "LexToken(RPAREN,')',1,42)\n",
      "None\n"
     ]
    }
   ],
   "source": [
    "# Let's test the Lexer on an example that has multiple print statements  \n",
    "\n",
    "input = \"\"\" \n",
    "print(\"Hello World\")\n",
    "print(\"Hello World\")\n",
    "\"\"\"\n",
    "\n",
    "# We want to pass the input into the main function of the parsing module\n",
    "tokens = parsing_lex.main(input)\n",
    "\n",
    "# We want to print the tokens to see if the lexer is working\n",
    "print(tokens)"
   ]
  },
  {
   "cell_type": "code",
   "execution_count": 4,
   "metadata": {},
   "outputs": [
    {
     "name": "stdout",
     "output_type": "stream",
     "text": [
      "LexToken(PRINT,'print',1,2)\n",
      "LexToken(LPAREN,'(',1,7)\n",
      "LexToken(STRING,'\"Hello, World\"',1,8)\n",
      "LexToken(RPAREN,')',1,22)\n",
      "None\n"
     ]
    }
   ],
   "source": [
    "# Let's try the Lexer on an example that has print statements and punctuation.  \n",
    "\n",
    "input = \"\"\" \n",
    "print(\"Hello, World\")\n",
    "\"\"\"\n",
    "\n",
    "# We want to pass the input into the main function of the parsing module\n",
    "tokens = parsing_lex.main(input)\n",
    "\n",
    "# We want to print the tokens to see if the lexer is working\n",
    "print(tokens)\n"
   ]
  },
  {
   "cell_type": "code",
   "execution_count": 5,
   "metadata": {},
   "outputs": [
    {
     "name": "stdout",
     "output_type": "stream",
     "text": [
      "LexToken(PRINT,'print',1,1)\n",
      "LexToken(LPAREN,'(',1,6)\n",
      "LexToken(STRING,'\"Hello World\"',1,7)\n",
      "LexToken(RPAREN,')',1,20)\n",
      "None\n"
     ]
    }
   ],
   "source": [
    "# Let's create an input that has a print statement and a comment  \n",
    "\n",
    "input = \"\"\"\n",
    "print(\"Hello World\") # This is a comment\n",
    "\"\"\"\n",
    "\n",
    "# We want to pass the input into the main function of the parsing module\n",
    "tokens = parsing_lex.main(input)\n",
    "\n",
    "# We want to print the tokens to see if the lexer is working\n",
    "print(tokens)"
   ]
  },
  {
   "cell_type": "code",
   "execution_count": 6,
   "metadata": {},
   "outputs": [
    {
     "name": "stdout",
     "output_type": "stream",
     "text": [
      "LexToken(PRINT,'print',1,2)\n",
      "LexToken(LPAREN,'(',1,7)\n",
      "LexToken(STRING,'\"Hello World      \"',1,8)\n",
      "LexToken(RPAREN,')',1,33)\n",
      "None\n"
     ]
    }
   ],
   "source": [
    "# Let's create an input with excess whitespace \n",
    "# The excess whitespace in the Hello World should remain, but the excess whitespace in the print statement should be removed\n",
    "\n",
    "input = \"\"\" \n",
    "print(\"Hello World      \"      )\n",
    "\"\"\"\n",
    "\n",
    "# We want to pass the input into the main function of the parsing module\n",
    "tokens = parsing_lex.main(input)\n",
    "\n",
    "# We want to print the tokens to see if the lexer is working\n",
    "print(tokens)"
   ]
  },
  {
   "cell_type": "code",
   "execution_count": 7,
   "metadata": {},
   "outputs": [
    {
     "name": "stdout",
     "output_type": "stream",
     "text": [
      "print(\"Hello World\")\n"
     ]
    },
    {
     "name": "stderr",
     "output_type": "stream",
     "text": [
      "WARNING: Token 'COLON' defined, but not used\n",
      "WARNING: Token 'COMMENT' defined, but not used\n",
      "WARNING: Token 'DEF' defined, but not used\n",
      "WARNING: Token 'DOUBLE_EQUALS' defined, but not used\n",
      "WARNING: Token 'ELIF' defined, but not used\n",
      "WARNING: Token 'ELSE' defined, but not used\n",
      "WARNING: Token 'EQUALS' defined, but not used\n",
      "WARNING: Token 'FALSE' defined, but not used\n",
      "WARNING: Token 'FOR' defined, but not used\n",
      "WARNING: Token 'IF' defined, but not used\n",
      "WARNING: Token 'IN' defined, but not used\n",
      "WARNING: Token 'NONE' defined, but not used\n",
      "WARNING: Token 'RANGE' defined, but not used\n",
      "WARNING: Token 'RETURN' defined, but not used\n",
      "WARNING: Token 'TRUE' defined, but not used\n",
      "WARNING: Token 'WHILE' defined, but not used\n",
      "WARNING: There are 16 unused tokens\n",
      "Generating LALR tables\n"
     ]
    }
   ],
   "source": [
    "# Let's now test the yacc module on a simple print statement\n",
    "\n",
    "input = \"\"\"\n",
    "print(\"Hello World\")\n",
    "\"\"\"\n",
    "\n",
    "mode = \"Python\"\n",
    "\n",
    "# We want to pass the input into the main function of the parsing module\n",
    "result = parsing_yacc.main(input, mode)\n",
    "\n",
    "# We want to print the result to see if the parser is working\n",
    "print(result)"
   ]
  },
  {
   "cell_type": "code",
   "execution_count": 8,
   "metadata": {},
   "outputs": [
    {
     "name": "stdout",
     "output_type": "stream",
     "text": [
      "printf(\"Hello World\");\n"
     ]
    }
   ],
   "source": [
    "# Change the mode to C and test the yacc module on a simple print statement \n",
    "\n",
    "input = \"\"\"\n",
    "print(\"Hello World\")\n",
    "\"\"\"\n",
    "\n",
    "mode = \"C\"\n",
    "\n",
    "# We want to pass the input into the main function of the parsing module\n",
    "result = parsing_yacc.main(input, mode)\n",
    "\n",
    "# We want to print the result to see if the parser is working\n",
    "print(result)"
   ]
  },
  {
   "cell_type": "markdown",
   "metadata": {},
   "source": [
    "## Testing on Numerical Operations (Basic)\n",
    "\n",
    "By this point the Lexer should be able to handle basic numerical operations. "
   ]
  },
  {
   "cell_type": "code",
   "execution_count": 9,
   "metadata": {},
   "outputs": [
    {
     "name": "stdout",
     "output_type": "stream",
     "text": [
      "LexToken(NUMBER,'1',1,2)\n",
      "LexToken(PLUS,'+',1,4)\n",
      "LexToken(NUMBER,'1',1,6)\n",
      "None\n"
     ]
    }
   ],
   "source": [
    "# Let's do a simple test with just a numerical expression \n",
    "\n",
    "input = \"\"\" \n",
    "1 + 1\n",
    "\"\"\" \n",
    "\n",
    "# We want to pass the input into the main function of the parsing module\n",
    "tokens = parsing_lex.main(input)\n",
    "\n",
    "# We want to print the tokens to see if the lexer is working\n",
    "print(tokens)"
   ]
  },
  {
   "cell_type": "code",
   "execution_count": 10,
   "metadata": {},
   "outputs": [
    {
     "name": "stdout",
     "output_type": "stream",
     "text": [
      "LexToken(NUMBER,'1',1,2)\n",
      "LexToken(MINUS,'-',1,4)\n",
      "LexToken(NUMBER,'1',1,6)\n",
      "None\n"
     ]
    }
   ],
   "source": [
    "# Let's do subtraction \n",
    "\n",
    "input = \"\"\" \n",
    "1 - 1\n",
    "\"\"\"\n",
    "\n",
    "# We want to pass the input into the main function of the parsing module\n",
    "tokens = parsing_lex.main(input)\n",
    "\n",
    "# We want to print the tokens to see if the lexer is working\n",
    "print(tokens)"
   ]
  },
  {
   "cell_type": "code",
   "execution_count": 11,
   "metadata": {},
   "outputs": [
    {
     "name": "stdout",
     "output_type": "stream",
     "text": [
      "LexToken(NUMBER,'1',1,1)\n",
      "LexToken(TIMES,'*',1,3)\n",
      "LexToken(NUMBER,'1',1,5)\n",
      "None\n"
     ]
    }
   ],
   "source": [
    "# Let's do multiplication \n",
    "\n",
    "input = \"\"\"\n",
    "1 * 1\n",
    "\"\"\"\n",
    "\n",
    "# We want to pass the input into the main function of the parsing module\n",
    "tokens = parsing_lex.main(input)\n",
    "\n",
    "# We want to print the tokens to see if the lexer is working\n",
    "print(tokens)"
   ]
  },
  {
   "cell_type": "code",
   "execution_count": 12,
   "metadata": {},
   "outputs": [
    {
     "name": "stdout",
     "output_type": "stream",
     "text": [
      "LexToken(NUMBER,'1',1,1)\n",
      "LexToken(DIVIDE,'/',1,3)\n",
      "LexToken(NUMBER,'1',1,5)\n",
      "None\n"
     ]
    }
   ],
   "source": [
    "# Let's do division\n",
    "\n",
    "input = \"\"\"\n",
    "1 / 1\n",
    "\"\"\"\n",
    "\n",
    "# We want to pass the input into the main function of the parsing module\n",
    "tokens = parsing_lex.main(input)\n",
    "\n",
    "# We want to print the tokens to see if the lexer is working\n",
    "print(tokens)"
   ]
  },
  {
   "cell_type": "code",
   "execution_count": 13,
   "metadata": {},
   "outputs": [
    {
     "name": "stdout",
     "output_type": "stream",
     "text": [
      "LexToken(LPAREN,'(',1,1)\n",
      "LexToken(NUMBER,'1',1,2)\n",
      "LexToken(PLUS,'+',1,4)\n",
      "LexToken(NUMBER,'1',1,6)\n",
      "LexToken(RPAREN,')',1,7)\n",
      "None\n"
     ]
    }
   ],
   "source": [
    "# Let's do an expression that involves parenthesis \n",
    "\n",
    "input = \"\"\"\n",
    "(1 + 1)\n",
    "\"\"\"\n",
    "\n",
    "# We want to pass the input into the main function of the parsing module\n",
    "tokens = parsing_lex.main(input)\n",
    "\n",
    "# We want to print the tokens to see if the lexer is working\n",
    "print(tokens)"
   ]
  },
  {
   "cell_type": "code",
   "execution_count": 14,
   "metadata": {},
   "outputs": [
    {
     "name": "stdout",
     "output_type": "stream",
     "text": [
      "LexToken(LPAREN,'(',1,1)\n",
      "LexToken(NUMBER,'1',1,2)\n",
      "LexToken(PLUS,'+',1,4)\n",
      "LexToken(NUMBER,'1',1,6)\n",
      "LexToken(RPAREN,')',1,7)\n",
      "LexToken(TIMES,'*',1,9)\n",
      "LexToken(NUMBER,'1',1,11)\n",
      "LexToken(DIVIDE,'/',1,13)\n",
      "LexToken(NUMBER,'1',1,15)\n",
      "LexToken(MINUS,'-',1,17)\n",
      "LexToken(NUMBER,'1',1,19)\n",
      "None\n"
     ]
    }
   ],
   "source": [
    "# Let's do an expression that involves multiple operations \n",
    "\n",
    "input = \"\"\"\n",
    "(1 + 1) * 1 / 1 - 1\n",
    "\"\"\"\n",
    "\n",
    "# We want to pass the input into the main function of the parsing module\n",
    "tokens = parsing_lex.main(input)\n",
    "\n",
    "# We want to print the tokens to see if the lexer is working\n",
    "print(tokens)"
   ]
  },
  {
   "cell_type": "code",
   "execution_count": 15,
   "metadata": {},
   "outputs": [
    {
     "name": "stdout",
     "output_type": "stream",
     "text": [
      "LexToken(LPAREN,'(',1,1)\n",
      "LexToken(NUMBER,'1',1,2)\n",
      "LexToken(PLUS,'+',1,4)\n",
      "LexToken(NUMBER,'1',1,6)\n",
      "LexToken(RPAREN,')',1,7)\n",
      "None\n"
     ]
    }
   ],
   "source": [
    "# Let's do an expression with a comment \n",
    "\n",
    "input = \"\"\"\n",
    "(1 + 1) # This is a comment\n",
    "\"\"\"\n",
    "\n",
    "# We want to pass the input into the main function of the parsing module\n",
    "tokens = parsing_lex.main(input)\n",
    "\n",
    "# We want to print the tokens to see if the lexer is working\n",
    "print(tokens)"
   ]
  },
  {
   "cell_type": "code",
   "execution_count": 16,
   "metadata": {},
   "outputs": [
    {
     "name": "stdout",
     "output_type": "stream",
     "text": [
      "LexToken(LPAREN,'(',1,1)\n",
      "LexToken(NUMBER,'1',1,2)\n",
      "LexToken(PLUS,'+',1,4)\n",
      "LexToken(NUMBER,'1',1,6)\n",
      "LexToken(RPAREN,')',1,7)\n",
      "LexToken(PLUS,'+',1,14)\n",
      "LexToken(NUMBER,'1',1,16)\n",
      "None\n"
     ]
    }
   ],
   "source": [
    "# Let's do an expression with excess whitespace \n",
    "\n",
    "input = \"\"\"\n",
    "(1 + 1)      + 1\n",
    "\"\"\"\n",
    "\n",
    "# We want to pass the input into the main function of the parsing module\n",
    "tokens = parsing_lex.main(input)\n",
    "\n",
    "# We want to print the tokens to see if the lexer is working\n",
    "print(tokens)"
   ]
  },
  {
   "cell_type": "code",
   "execution_count": 17,
   "metadata": {},
   "outputs": [
    {
     "name": "stdout",
     "output_type": "stream",
     "text": [
      "LexToken(PRINT,'print',1,1)\n",
      "LexToken(LPAREN,'(',1,6)\n",
      "LexToken(NUMBER,'1',1,7)\n",
      "LexToken(PLUS,'+',1,9)\n",
      "LexToken(NUMBER,'1',1,11)\n",
      "LexToken(RPAREN,')',1,12)\n",
      "None\n"
     ]
    }
   ],
   "source": [
    "# Let's put a numerical expression into a print statement \n",
    "\n",
    "input = \"\"\"\n",
    "print(1 + 1)\n",
    "\"\"\"\n",
    "\n",
    "# We want to pass the input into the main function of the parsing module\n",
    "tokens = parsing_lex.main(input)\n",
    "\n",
    "# We want to print the tokens to see if the lexer is working\n",
    "print(tokens)"
   ]
  },
  {
   "cell_type": "code",
   "execution_count": 18,
   "metadata": {},
   "outputs": [
    {
     "name": "stdout",
     "output_type": "stream",
     "text": [
      "Python Mode\n",
      "1 + 1\n",
      "C Mode\n",
      "1 + 1\n"
     ]
    }
   ],
   "source": [
    "# Now, let's test the yacc file on addition \n",
    "\n",
    "input = \"\"\"\n",
    "1 + 1\n",
    "\"\"\"\n",
    "\n",
    "mode = \"Python\"\n",
    "\n",
    "# We want to pass the input into the main function of the parsing module\n",
    "result = parsing_yacc.main(input, mode)\n",
    "\n",
    "# We want to print the result to see if the parser is working\n",
    "print(\"Python Mode\")\n",
    "print(result)\n",
    "\n",
    "# Change the mode to C and test the yacc module on addition \n",
    "\n",
    "mode = \"C\" \n",
    "\n",
    "# We want to pass the input into the main function of the parsing module \n",
    "result = parsing_yacc.main(input, mode)\n",
    "\n",
    "# We want to print the result to see if the parser is working\n",
    "print(\"C Mode\")\n",
    "print(result)\n"
   ]
  },
  {
   "cell_type": "code",
   "execution_count": 19,
   "metadata": {},
   "outputs": [
    {
     "name": "stdout",
     "output_type": "stream",
     "text": [
      "Python Mode\n",
      "1 - 1\n",
      "C Mode\n",
      "1 - 1\n"
     ]
    }
   ],
   "source": [
    "# Test yacc on subtraction \n",
    "\n",
    "input = \"\"\"\n",
    "1 - 1\n",
    "\"\"\"\n",
    "\n",
    "mode = \"Python\"\n",
    "\n",
    "# We want to pass the input into the main function of the parsing module\n",
    "result = parsing_yacc.main(input, mode)\n",
    "\n",
    "# We want to print the result to see if the parser is working\n",
    "print(\"Python Mode\")\n",
    "print(result)\n",
    "\n",
    "# Change the mode to C and test the yacc module on subtraction\n",
    "\n",
    "mode = \"C\"\n",
    "\n",
    "# We want to pass the input into the main function of the parsing module\n",
    "result = parsing_yacc.main(input, mode)\n",
    "\n",
    "# We want to print the result to see if the parser is working\n",
    "print(\"C Mode\")\n",
    "print(result)"
   ]
  },
  {
   "cell_type": "code",
   "execution_count": 20,
   "metadata": {},
   "outputs": [
    {
     "name": "stdout",
     "output_type": "stream",
     "text": [
      "Python Mode\n",
      "1 * 1\n",
      "C Mode\n",
      "1 * 1\n"
     ]
    }
   ],
   "source": [
    "# Test yacc on multiplication \n",
    "\n",
    "input = \"\"\"\n",
    "1 * 1\n",
    "\"\"\"\n",
    "\n",
    "mode = \"Python\"\n",
    "\n",
    "# We want to pass the input into the main function of the parsing module\n",
    "result = parsing_yacc.main(input, mode)\n",
    "\n",
    "# We want to print the result to see if the parser is working\n",
    "print(\"Python Mode\")\n",
    "print(result)\n",
    "\n",
    "# Change the mode to C and test the yacc module on subtraction\n",
    "\n",
    "mode = \"C\"\n",
    "\n",
    "# We want to pass the input into the main function of the parsing module\n",
    "result = parsing_yacc.main(input, mode)\n",
    "\n",
    "# We want to print the result to see if the parser is working\n",
    "print(\"C Mode\")\n",
    "print(result)"
   ]
  },
  {
   "cell_type": "code",
   "execution_count": 21,
   "metadata": {},
   "outputs": [
    {
     "name": "stdout",
     "output_type": "stream",
     "text": [
      "Python Mode\n",
      "1 / 1\n",
      "C Mode\n",
      "1 / 1\n"
     ]
    }
   ],
   "source": [
    "# Test yacc on division \n",
    "\n",
    "input = \"\"\"\n",
    "1 / 1\n",
    "\"\"\"\n",
    "\n",
    "mode = \"Python\"\n",
    "\n",
    "# We want to pass the input into the main function of the parsing module\n",
    "result = parsing_yacc.main(input, mode)\n",
    "\n",
    "# We want to print the result to see if the parser is working\n",
    "print(\"Python Mode\")\n",
    "print(result)\n",
    "\n",
    "# Change the mode to C and test the yacc module on subtraction\n",
    "\n",
    "mode = \"C\"\n",
    "\n",
    "# We want to pass the input into the main function of the parsing module\n",
    "result = parsing_yacc.main(input, mode)\n",
    "\n",
    "# We want to print the result to see if the parser is working\n",
    "print(\"C Mode\")\n",
    "print(result)"
   ]
  },
  {
   "cell_type": "code",
   "execution_count": 22,
   "metadata": {},
   "outputs": [
    {
     "name": "stdout",
     "output_type": "stream",
     "text": [
      "Python Mode\n",
      "(1 + 1)\n",
      "C Mode\n",
      "(1 + 1)\n"
     ]
    }
   ],
   "source": [
    "# Let's do an expression that involves parenthesis \n",
    "\n",
    "input = \"\"\"\n",
    "(1 + 1)\n",
    "\"\"\"\n",
    "\n",
    "mode = \"Python\"\n",
    "\n",
    "# We want to pass the input into the main function of the parsing module\n",
    "result = parsing_yacc.main(input, mode)\n",
    "\n",
    "# We want to print the result to see if the parser is working\n",
    "print(\"Python Mode\")\n",
    "print(result)\n",
    "\n",
    "mode = \"C\"\n",
    "\n",
    "# We want to pass the input into the main function of the parsing module\n",
    "result = parsing_yacc.main(input, mode) \n",
    "\n",
    "# We want to print the result to see if the parser is working\n",
    "print(\"C Mode\")\n",
    "print(result)"
   ]
  },
  {
   "cell_type": "markdown",
   "metadata": {},
   "source": [
    "## Let's test the reserved words: if statements"
   ]
  },
  {
   "cell_type": "code",
   "execution_count": 23,
   "metadata": {},
   "outputs": [
    {
     "name": "stdout",
     "output_type": "stream",
     "text": [
      "LexToken(IF,'if',1,1)\n",
      "LexToken(NUMBER,'1',1,4)\n",
      "LexToken(DOUBLE_EQUALS,'==',1,6)\n",
      "LexToken(NUMBER,'1',1,9)\n",
      "LexToken(COLON,':',1,10)\n",
      "LexToken(PRINT,'print',1,16)\n",
      "LexToken(LPAREN,'(',1,21)\n",
      "LexToken(STRING,'\"Hello World\"',1,22)\n",
      "LexToken(RPAREN,')',1,35)\n",
      "None\n"
     ]
    }
   ],
   "source": [
    "# Let's test something with an if-statement \n",
    "\n",
    "input = \"\"\"\n",
    "if 1 == 1:\n",
    "    print(\"Hello World\")\n",
    "\"\"\"\n",
    "\n",
    "# We want to pass the input into the main function of the parsing module\n",
    "tokens = parsing_lex.main(input)\n",
    "\n",
    "# We want to print the tokens to see if the lexer is working\n",
    "print(tokens)"
   ]
  },
  {
   "cell_type": "code",
   "execution_count": 24,
   "metadata": {},
   "outputs": [
    {
     "name": "stdout",
     "output_type": "stream",
     "text": [
      "LexToken(IF,'if',1,1)\n",
      "LexToken(NUMBER,'1',1,4)\n",
      "LexToken(DOUBLE_EQUALS,'==',1,6)\n",
      "LexToken(NUMBER,'1',1,9)\n",
      "LexToken(COLON,':',1,10)\n",
      "LexToken(PRINT,'print',1,16)\n",
      "LexToken(LPAREN,'(',1,21)\n",
      "LexToken(STRING,'\"Hello World\"',1,22)\n",
      "LexToken(RPAREN,')',1,35)\n",
      "LexToken(ELSE,'else',1,37)\n",
      "LexToken(COLON,':',1,41)\n",
      "LexToken(PRINT,'print',1,47)\n",
      "LexToken(LPAREN,'(',1,52)\n",
      "LexToken(STRING,'\"Goodbye World\"',1,53)\n",
      "LexToken(RPAREN,')',1,68)\n",
      "None\n"
     ]
    }
   ],
   "source": [
    "# Let's test if-else \n",
    "\n",
    "input = \"\"\"\n",
    "if 1 == 1:\n",
    "    print(\"Hello World\")\n",
    "else:\n",
    "    print(\"Goodbye World\")\n",
    "\"\"\"\n",
    "\n",
    "# We want to pass the input into the main function of the parsing module\n",
    "tokens = parsing_lex.main(input)\n",
    "\n",
    "# We want to print the tokens to see if the lexer is working\n",
    "print(tokens)"
   ]
  },
  {
   "cell_type": "code",
   "execution_count": 25,
   "metadata": {},
   "outputs": [
    {
     "name": "stdout",
     "output_type": "stream",
     "text": [
      "LexToken(IF,'if',1,1)\n",
      "LexToken(NUMBER,'1',1,4)\n",
      "LexToken(DOUBLE_EQUALS,'==',1,6)\n",
      "LexToken(NUMBER,'1',1,9)\n",
      "LexToken(COLON,':',1,10)\n",
      "LexToken(PRINT,'print',1,16)\n",
      "LexToken(LPAREN,'(',1,21)\n",
      "LexToken(STRING,'\"Hello World\"',1,22)\n",
      "LexToken(RPAREN,')',1,35)\n",
      "LexToken(ELIF,'elif',1,37)\n",
      "LexToken(NUMBER,'1',1,42)\n",
      "LexToken(DOUBLE_EQUALS,'==',1,44)\n",
      "LexToken(NUMBER,'2',1,47)\n",
      "LexToken(COLON,':',1,48)\n",
      "LexToken(PRINT,'print',1,54)\n",
      "LexToken(LPAREN,'(',1,59)\n",
      "LexToken(STRING,'\"Crazy World\"',1,60)\n",
      "LexToken(RPAREN,')',1,73)\n",
      "LexToken(ELSE,'else',1,75)\n",
      "LexToken(COLON,':',1,79)\n",
      "LexToken(PRINT,'print',1,85)\n",
      "LexToken(LPAREN,'(',1,90)\n",
      "LexToken(STRING,'\"Goodbye World\"',1,91)\n",
      "LexToken(RPAREN,')',1,106)\n",
      "None\n"
     ]
    },
    {
     "ename": "",
     "evalue": "",
     "output_type": "error",
     "traceback": [
      "\u001b[1;31mThe Kernel crashed while executing code in the current cell or a previous cell. \n",
      "\u001b[1;31mPlease review the code in the cell(s) to identify a possible cause of the failure. \n",
      "\u001b[1;31mClick <a href='https://aka.ms/vscodeJupyterKernelCrash'>here</a> for more info. \n",
      "\u001b[1;31mView Jupyter <a href='command:jupyter.viewOutput'>log</a> for further details."
     ]
    }
   ],
   "source": [
    "# Let's test if-elif-else \n",
    "\n",
    "input = \"\"\"\n",
    "if 1 == 1:\n",
    "    print(\"Hello World\")\n",
    "elif 1 == 2:\n",
    "    print(\"Crazy World\")\n",
    "else:\n",
    "    print(\"Goodbye World\")\n",
    "\"\"\"\n",
    "\n",
    "# We want to pass the input into the main function of the parsing module\n",
    "tokens = parsing_lex.main(input)\n",
    "\n",
    "# We want to print the tokens to see if the lexer is working\n",
    "print(tokens)"
   ]
  }
 ],
 "metadata": {
  "kernelspec": {
   "display_name": "Python 3",
   "language": "python",
   "name": "python3"
  },
  "language_info": {
   "codemirror_mode": {
    "name": "ipython",
    "version": 3
   },
   "file_extension": ".py",
   "mimetype": "text/x-python",
   "name": "python",
   "nbconvert_exporter": "python",
   "pygments_lexer": "ipython3",
   "version": "3.10.11"
  }
 },
 "nbformat": 4,
 "nbformat_minor": 2
}
