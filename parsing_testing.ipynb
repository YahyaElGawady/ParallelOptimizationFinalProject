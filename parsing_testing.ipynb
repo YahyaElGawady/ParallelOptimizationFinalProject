{
 "cells": [
  {
   "cell_type": "markdown",
   "metadata": {},
   "source": [
    "# Parsing Tests\n",
    "This notebook will be used to test the functions in the parsing.py file in a practical sense. "
   ]
  },
  {
   "cell_type": "code",
   "execution_count": 1,
   "metadata": {},
   "outputs": [],
   "source": [
    "import parsing"
   ]
  },
  {
   "cell_type": "markdown",
   "metadata": {},
   "source": [
    "## Testing on print statements "
   ]
  },
  {
   "cell_type": "code",
   "execution_count": 3,
   "metadata": {},
   "outputs": [
    {
     "name": "stdout",
     "output_type": "stream",
     "text": [
      "LexToken(PRINT,'print',1,2)\n",
      "LexToken(LPAREN,'(',1,7)\n",
      "LexToken(STRING,'\"Hello World\"',1,8)\n",
      "LexToken(RPAREN,')',1,21)\n",
      "None\n"
     ]
    }
   ],
   "source": [
    "# Let's test the Lexer on various print statements and see if it works \n",
    "\n",
    "input = \"\"\" \n",
    "print(\"Hello World\")\n",
    "\"\"\"\n",
    "\n",
    "# We want to pass the input into the main function of the parsing module \n",
    "tokens = parsing.main(input)\n",
    "\n",
    "# We want to print the tokens to see if the lexer is working \n",
    "print(tokens)"
   ]
  }
 ],
 "metadata": {
  "kernelspec": {
   "display_name": "Python 3",
   "language": "python",
   "name": "python3"
  },
  "language_info": {
   "codemirror_mode": {
    "name": "ipython",
    "version": 3
   },
   "file_extension": ".py",
   "mimetype": "text/x-python",
   "name": "python",
   "nbconvert_exporter": "python",
   "pygments_lexer": "ipython3",
   "version": "3.10.11"
  }
 },
 "nbformat": 4,
 "nbformat_minor": 2
}
