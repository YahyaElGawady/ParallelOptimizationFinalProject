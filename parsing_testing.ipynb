{
 "cells": [
  {
   "cell_type": "markdown",
   "metadata": {},
   "source": [
    "# Parsing Tests\n",
    "This notebook will be used to test the functions in the parsing.py file in a practical sense. "
   ]
  },
  {
   "cell_type": "code",
   "execution_count": 25,
   "metadata": {},
   "outputs": [],
   "source": [
    "import parsing_lex\n",
    "import parsing_yacc"
   ]
  },
  {
   "cell_type": "markdown",
   "metadata": {},
   "source": [
    "## Testing on print statements "
   ]
  },
  {
   "cell_type": "code",
   "execution_count": 26,
   "metadata": {},
   "outputs": [
    {
     "name": "stdout",
     "output_type": "stream",
     "text": [
      "LexToken(VARIABLE,'print',1,2)\n",
      "LexToken(LPAREN,'(',1,7)\n",
      "LexToken(STRING,'\"Hello World\"',1,8)\n",
      "LexToken(RPAREN,')',1,21)\n",
      "None\n"
     ]
    },
    {
     "name": "stderr",
     "output_type": "stream",
     "text": [
      "WARNING: Token 'AND' multiply defined\n",
      "WARNING: Token 'OR' multiply defined\n",
      "WARNING: Token 'NOT' multiply defined\n"
     ]
    }
   ],
   "source": [
    "# Let's test the Lexer on various print statements and see if it works \n",
    "\n",
    "input = \"\"\" \n",
    "print(\"Hello World\")\n",
    "\"\"\"\n",
    "\n",
    "# We want to pass the input into the main function of the parsing module \n",
    "tokens = parsing_lex.main(input)\n",
    "\n",
    "# We want to print the tokens to see if the lexer is working \n",
    "print(tokens)"
   ]
  },
  {
   "cell_type": "code",
   "execution_count": 27,
   "metadata": {},
   "outputs": [
    {
     "name": "stderr",
     "output_type": "stream",
     "text": [
      "WARNING: Token 'AND' multiply defined\n",
      "WARNING: Token 'NOT' multiply defined\n",
      "WARNING: Token 'OR' multiply defined\n",
      "ERROR: /Users/khadijasiddiqui/ParallelOptimizationFinalProject/parsing_yacc.py:16: Symbol 'args' used, but not defined as a token or a rule\n",
      "WARNING: Token 'BREAK' defined, but not used\n",
      "WARNING: Token 'COMMENT' defined, but not used\n",
      "WARNING: Token 'DEF' defined, but not used\n",
      "WARNING: Token 'ELIF' defined, but not used\n",
      "WARNING: Token 'ELSE' defined, but not used\n",
      "WARNING: Token 'FALSE' defined, but not used\n",
      "WARNING: Token 'FOR' defined, but not used\n",
      "WARNING: Token 'IN' defined, but not used\n",
      "WARNING: Token 'NONE' defined, but not used\n",
      "WARNING: Token 'NP_ABS' defined, but not used\n",
      "WARNING: Token 'NP_COS' defined, but not used\n",
      "WARNING: Token 'NP_EXP' defined, but not used\n",
      "WARNING: Token 'NP_LOG' defined, but not used\n",
      "WARNING: Token 'NP_LOG10' defined, but not used\n",
      "WARNING: Token 'NP_POWER' defined, but not used\n",
      "WARNING: Token 'NP_SIGN' defined, but not used\n",
      "WARNING: Token 'NP_SIN' defined, but not used\n",
      "WARNING: Token 'NP_SQRT' defined, but not used\n",
      "WARNING: Token 'RANGE' defined, but not used\n",
      "WARNING: Token 'RETURN' defined, but not used\n",
      "WARNING: Token 'TRUE' defined, but not used\n",
      "WARNING: Token 'WHILE' defined, but not used\n",
      "WARNING: There are 22 unused tokens\n"
     ]
    },
    {
     "ename": "YaccError",
     "evalue": "Unable to build parser",
     "output_type": "error",
     "traceback": [
      "\u001b[0;31m---------------------------------------------------------------------------\u001b[0m",
      "\u001b[0;31mYaccError\u001b[0m                                 Traceback (most recent call last)",
      "Cell \u001b[0;32mIn[27], line 8\u001b[0m\n\u001b[1;32m      3\u001b[0m \u001b[38;5;28minput\u001b[39m \u001b[38;5;241m=\u001b[39m \u001b[38;5;124m\"\"\"\u001b[39m\n\u001b[1;32m      4\u001b[0m \u001b[38;5;124m5 OR 2\u001b[39m\n\u001b[1;32m      5\u001b[0m \u001b[38;5;124m\"\"\"\u001b[39m\n\u001b[1;32m      7\u001b[0m mode \u001b[38;5;241m=\u001b[39m \u001b[38;5;124m\"\u001b[39m\u001b[38;5;124mPython\u001b[39m\u001b[38;5;124m\"\u001b[39m\n\u001b[0;32m----> 8\u001b[0m result \u001b[38;5;241m=\u001b[39m \u001b[43mparsing_yacc\u001b[49m\u001b[38;5;241;43m.\u001b[39;49m\u001b[43mmain\u001b[49m\u001b[43m(\u001b[49m\u001b[38;5;28;43minput\u001b[39;49m\u001b[43m,\u001b[49m\u001b[43m \u001b[49m\u001b[43mmode\u001b[49m\u001b[43m)\u001b[49m\n\u001b[1;32m     10\u001b[0m \u001b[38;5;66;03m#checking parser works\u001b[39;00m\n\u001b[1;32m     11\u001b[0m \u001b[38;5;28mprint\u001b[39m(\u001b[38;5;124m\"\u001b[39m\u001b[38;5;124mPython Mode\u001b[39m\u001b[38;5;124m\"\u001b[39m)\n",
      "File \u001b[0;32m~/ParallelOptimizationFinalProject/parsing_yacc.py:288\u001b[0m, in \u001b[0;36mmain\u001b[0;34m(input, mode)\u001b[0m\n\u001b[1;32m    286\u001b[0m \u001b[38;5;28;01mdef\u001b[39;00m \u001b[38;5;21mmain\u001b[39m(\u001b[38;5;28minput\u001b[39m, mode):\n\u001b[1;32m    287\u001b[0m     \u001b[38;5;66;03m# Create a parser object\u001b[39;00m\n\u001b[0;32m--> 288\u001b[0m     parser \u001b[38;5;241m=\u001b[39m \u001b[43mMyParser\u001b[49m\u001b[43m(\u001b[49m\u001b[43mmode\u001b[49m\u001b[43m)\u001b[49m\n\u001b[1;32m    289\u001b[0m     \u001b[38;5;66;03m# Parse the input\u001b[39;00m\n\u001b[1;32m    290\u001b[0m     \u001b[38;5;28;01mreturn\u001b[39;00m parser\u001b[38;5;241m.\u001b[39mparse(\u001b[38;5;28minput\u001b[39m)\n",
      "File \u001b[0;32m~/ParallelOptimizationFinalProject/parsing_yacc.py:276\u001b[0m, in \u001b[0;36mMyParser.__init__\u001b[0;34m(self, mode)\u001b[0m\n\u001b[1;32m    274\u001b[0m \u001b[38;5;28;01mdef\u001b[39;00m \u001b[38;5;21m__init__\u001b[39m(\u001b[38;5;28mself\u001b[39m, mode):\n\u001b[1;32m    275\u001b[0m     \u001b[38;5;28mself\u001b[39m\u001b[38;5;241m.\u001b[39mlexer \u001b[38;5;241m=\u001b[39m MyLexer()\n\u001b[0;32m--> 276\u001b[0m     \u001b[38;5;28mself\u001b[39m\u001b[38;5;241m.\u001b[39mparser \u001b[38;5;241m=\u001b[39m \u001b[43myacc\u001b[49m\u001b[38;5;241;43m.\u001b[39;49m\u001b[43myacc\u001b[49m\u001b[43m(\u001b[49m\u001b[43mmodule\u001b[49m\u001b[38;5;241;43m=\u001b[39;49m\u001b[38;5;28;43mself\u001b[39;49m\u001b[43m)\u001b[49m\n\u001b[1;32m    277\u001b[0m     \u001b[38;5;28mself\u001b[39m\u001b[38;5;241m.\u001b[39mmode \u001b[38;5;241m=\u001b[39m mode\n",
      "File \u001b[0;32m~/Library/Python/3.9/lib/python/site-packages/ply/yacc.py:3432\u001b[0m, in \u001b[0;36myacc\u001b[0;34m(method, debug, module, tabmodule, start, check_recursion, optimize, write_tables, debugfile, outputdir, debuglog, errorlog, picklefile)\u001b[0m\n\u001b[1;32m   3429\u001b[0m     errors \u001b[38;5;241m=\u001b[39m \u001b[38;5;28;01mTrue\u001b[39;00m\n\u001b[1;32m   3431\u001b[0m \u001b[38;5;28;01mif\u001b[39;00m errors:\n\u001b[0;32m-> 3432\u001b[0m     \u001b[38;5;28;01mraise\u001b[39;00m YaccError(\u001b[38;5;124m'\u001b[39m\u001b[38;5;124mUnable to build parser\u001b[39m\u001b[38;5;124m'\u001b[39m)\n\u001b[1;32m   3434\u001b[0m \u001b[38;5;66;03m# Run the LRGeneratedTable on the grammar\u001b[39;00m\n\u001b[1;32m   3435\u001b[0m \u001b[38;5;28;01mif\u001b[39;00m debug:\n",
      "\u001b[0;31mYaccError\u001b[0m: Unable to build parser"
     ]
    }
   ],
   "source": [
    "# Now, let's test the yacc file on addition \n",
    "\n",
    "input = \"\"\"\n",
    "5 OR 2\n",
    "\"\"\"\n",
    "\n",
    "mode = \"Python\"\n",
    "result = parsing_yacc.main(input, mode)\n",
    "\n",
    "#checking parser works\n",
    "print(\"Python Mode\")\n",
    "print(result)\n",
    "\n",
    "#test the yacc module on OR \n",
    "\n",
    "mode = \"C\" \n",
    "result = parsing_yacc.main(input, mode)\n",
    "\n",
    "#chcekcing if parser works \n",
    "print(\"C Mode\")\n",
    "print(result)\n"
   ]
  },
  {
   "cell_type": "code",
   "execution_count": null,
   "metadata": {},
   "outputs": [
    {
     "name": "stdout",
     "output_type": "stream",
     "text": [
      "LexToken(VARIABLE,'print',1,2)\n",
      "LexToken(LPAREN,'(',1,7)\n",
      "LexToken(STRING,'\"Hello World\"',1,8)\n",
      "LexToken(RPAREN,')',1,21)\n",
      "LexToken(VARIABLE,'print',1,23)\n",
      "LexToken(LPAREN,'(',1,28)\n",
      "LexToken(STRING,'\"Hello World\"',1,29)\n",
      "LexToken(RPAREN,')',1,42)\n",
      "None\n"
     ]
    }
   ],
   "source": [
    "# Let's test the Lexer on an example that has multiple print statements  \n",
    "\n",
    "input = \"\"\" \n",
    "print(\"Hello World\")\n",
    "print(\"Hello World\")\n",
    "\"\"\"\n",
    "\n",
    "# We want to pass the input into the main function of the parsing module\n",
    "tokens = parsing_lex.main(input)\n",
    "\n",
    "# We want to print the tokens to see if the lexer is working\n",
    "print(tokens)"
   ]
  },
  {
   "cell_type": "code",
   "execution_count": null,
   "metadata": {},
   "outputs": [
    {
     "name": "stdout",
     "output_type": "stream",
     "text": [
      "LexToken(VARIABLE,'print',1,2)\n",
      "LexToken(LPAREN,'(',1,7)\n",
      "LexToken(STRING,'\"Hello, World\"',1,8)\n",
      "LexToken(RPAREN,')',1,22)\n",
      "None\n"
     ]
    }
   ],
   "source": [
    "# Let's try the Lexer on an example that has print statements and punctuation.  \n",
    "\n",
    "input = \"\"\" \n",
    "print(\"Hello, World\")\n",
    "\"\"\"\n",
    "\n",
    "# We want to pass the input into the main function of the parsing module\n",
    "tokens = parsing_lex.main(input)\n",
    "\n",
    "# We want to print the tokens to see if the lexer is working\n",
    "print(tokens)\n"
   ]
  },
  {
   "cell_type": "code",
   "execution_count": null,
   "metadata": {},
   "outputs": [
    {
     "name": "stdout",
     "output_type": "stream",
     "text": [
      "LexToken(VARIABLE,'print',1,1)\n",
      "LexToken(LPAREN,'(',1,6)\n",
      "LexToken(STRING,'\"Hello World\"',1,7)\n",
      "LexToken(RPAREN,')',1,20)\n",
      "None\n"
     ]
    }
   ],
   "source": [
    "# Let's create an input that has a print statement and a comment  \n",
    "\n",
    "input = \"\"\"\n",
    "print(\"Hello World\") # This is a comment\n",
    "\"\"\"\n",
    "\n",
    "# We want to pass the input into the main function of the parsing module\n",
    "tokens = parsing_lex.main(input)\n",
    "\n",
    "# We want to print the tokens to see if the lexer is working\n",
    "print(tokens)"
   ]
  },
  {
   "cell_type": "code",
   "execution_count": null,
   "metadata": {},
   "outputs": [
    {
     "name": "stdout",
     "output_type": "stream",
     "text": [
      "LexToken(VARIABLE,'print',1,2)\n",
      "LexToken(LPAREN,'(',1,7)\n",
      "LexToken(STRING,'\"Hello World      \"',1,8)\n",
      "LexToken(RPAREN,')',1,33)\n",
      "None\n"
     ]
    }
   ],
   "source": [
    "# Let's create an input with excess whitespace \n",
    "# The excess whitespace in the Hello World should remain, but the excess whitespace in the print statement should be removed\n",
    "\n",
    "input = \"\"\" \n",
    "print(\"Hello World      \"      )\n",
    "\"\"\"\n",
    "\n",
    "# We want to pass the input into the main function of the parsing module\n",
    "tokens = parsing_lex.main(input)\n",
    "\n",
    "# We want to print the tokens to see if the lexer is working\n",
    "print(tokens) "
   ]
  },
  {
   "cell_type": "code",
   "execution_count": null,
   "metadata": {},
   "outputs": [
    {
     "name": "stderr",
     "output_type": "stream",
     "text": [
      "ERROR: /Users/khadijasiddiqui/ParallelOptimizationFinalProject/parsing_yacc.py:16: Symbol 'args' used, but not defined as a token or a rule\n",
      "ERROR: /Users/khadijasiddiqui/ParallelOptimizationFinalProject/parsing_yacc.py:74: Symbol 'POWER' used, but not defined as a token or a rule\n",
      "ERROR: /Users/khadijasiddiqui/ParallelOptimizationFinalProject/parsing_yacc.py:84: Symbol 'INCREMENT' used, but not defined as a token or a rule\n",
      "ERROR: /Users/khadijasiddiqui/ParallelOptimizationFinalProject/parsing_yacc.py:94: Symbol 'DECREMENT' used, but not defined as a token or a rule\n",
      "WARNING: Token 'BREAK' defined, but not used\n",
      "WARNING: Token 'COMMENT' defined, but not used\n",
      "WARNING: Token 'DEF' defined, but not used\n",
      "WARNING: Token 'ELIF' defined, but not used\n",
      "WARNING: Token 'ELSE' defined, but not used\n",
      "WARNING: Token 'FALSE' defined, but not used\n",
      "WARNING: Token 'FOR' defined, but not used\n",
      "WARNING: Token 'IN' defined, but not used\n",
      "WARNING: Token 'NONE' defined, but not used\n",
      "WARNING: Token 'NP_ABS' defined, but not used\n",
      "WARNING: Token 'NP_COS' defined, but not used\n",
      "WARNING: Token 'NP_EXP' defined, but not used\n",
      "WARNING: Token 'NP_LOG' defined, but not used\n",
      "WARNING: Token 'NP_LOG10' defined, but not used\n",
      "WARNING: Token 'NP_POWER' defined, but not used\n",
      "WARNING: Token 'NP_SIGN' defined, but not used\n",
      "WARNING: Token 'NP_SIN' defined, but not used\n",
      "WARNING: Token 'NP_SQRT' defined, but not used\n",
      "WARNING: Token 'RANGE' defined, but not used\n",
      "WARNING: Token 'RETURN' defined, but not used\n",
      "WARNING: Token 'TRUE' defined, but not used\n",
      "WARNING: Token 'WHILE' defined, but not used\n",
      "WARNING: There are 22 unused tokens\n"
     ]
    },
    {
     "ename": "YaccError",
     "evalue": "Unable to build parser",
     "output_type": "error",
     "traceback": [
      "\u001b[0;31m---------------------------------------------------------------------------\u001b[0m",
      "\u001b[0;31mYaccError\u001b[0m                                 Traceback (most recent call last)",
      "Cell \u001b[0;32mIn[7], line 10\u001b[0m\n\u001b[1;32m      7\u001b[0m mode \u001b[38;5;241m=\u001b[39m \u001b[38;5;124m\"\u001b[39m\u001b[38;5;124mPython\u001b[39m\u001b[38;5;124m\"\u001b[39m\n\u001b[1;32m      9\u001b[0m \u001b[38;5;66;03m# We want to pass the input into the main function of the parsing module\u001b[39;00m\n\u001b[0;32m---> 10\u001b[0m result \u001b[38;5;241m=\u001b[39m \u001b[43mparsing_yacc\u001b[49m\u001b[38;5;241;43m.\u001b[39;49m\u001b[43mmain\u001b[49m\u001b[43m(\u001b[49m\u001b[38;5;28;43minput\u001b[39;49m\u001b[43m,\u001b[49m\u001b[43m \u001b[49m\u001b[43mmode\u001b[49m\u001b[43m)\u001b[49m\n\u001b[1;32m     12\u001b[0m \u001b[38;5;66;03m# We want to print the result to see if the parser is working\u001b[39;00m\n\u001b[1;32m     13\u001b[0m \u001b[38;5;28mprint\u001b[39m(result)\n",
      "File \u001b[0;32m~/ParallelOptimizationFinalProject/parsing_yacc.py:288\u001b[0m, in \u001b[0;36mmain\u001b[0;34m(input, mode)\u001b[0m\n\u001b[1;32m    286\u001b[0m \u001b[38;5;28;01mdef\u001b[39;00m \u001b[38;5;21mmain\u001b[39m(\u001b[38;5;28minput\u001b[39m, mode):\n\u001b[1;32m    287\u001b[0m     \u001b[38;5;66;03m# Create a parser object\u001b[39;00m\n\u001b[0;32m--> 288\u001b[0m     parser \u001b[38;5;241m=\u001b[39m \u001b[43mMyParser\u001b[49m\u001b[43m(\u001b[49m\u001b[43mmode\u001b[49m\u001b[43m)\u001b[49m\n\u001b[1;32m    289\u001b[0m     \u001b[38;5;66;03m# Parse the input\u001b[39;00m\n\u001b[1;32m    290\u001b[0m     \u001b[38;5;28;01mreturn\u001b[39;00m parser\u001b[38;5;241m.\u001b[39mparse(\u001b[38;5;28minput\u001b[39m)\n",
      "File \u001b[0;32m~/ParallelOptimizationFinalProject/parsing_yacc.py:276\u001b[0m, in \u001b[0;36mMyParser.__init__\u001b[0;34m(self, mode)\u001b[0m\n\u001b[1;32m    274\u001b[0m \u001b[38;5;28;01mdef\u001b[39;00m \u001b[38;5;21m__init__\u001b[39m(\u001b[38;5;28mself\u001b[39m, mode):\n\u001b[1;32m    275\u001b[0m     \u001b[38;5;28mself\u001b[39m\u001b[38;5;241m.\u001b[39mlexer \u001b[38;5;241m=\u001b[39m MyLexer()\n\u001b[0;32m--> 276\u001b[0m     \u001b[38;5;28mself\u001b[39m\u001b[38;5;241m.\u001b[39mparser \u001b[38;5;241m=\u001b[39m \u001b[43myacc\u001b[49m\u001b[38;5;241;43m.\u001b[39;49m\u001b[43myacc\u001b[49m\u001b[43m(\u001b[49m\u001b[43mmodule\u001b[49m\u001b[38;5;241;43m=\u001b[39;49m\u001b[38;5;28;43mself\u001b[39;49m\u001b[43m)\u001b[49m\n\u001b[1;32m    277\u001b[0m     \u001b[38;5;28mself\u001b[39m\u001b[38;5;241m.\u001b[39mmode \u001b[38;5;241m=\u001b[39m mode\n",
      "File \u001b[0;32m~/Library/Python/3.9/lib/python/site-packages/ply/yacc.py:3432\u001b[0m, in \u001b[0;36myacc\u001b[0;34m(method, debug, module, tabmodule, start, check_recursion, optimize, write_tables, debugfile, outputdir, debuglog, errorlog, picklefile)\u001b[0m\n\u001b[1;32m   3429\u001b[0m     errors \u001b[38;5;241m=\u001b[39m \u001b[38;5;28;01mTrue\u001b[39;00m\n\u001b[1;32m   3431\u001b[0m \u001b[38;5;28;01mif\u001b[39;00m errors:\n\u001b[0;32m-> 3432\u001b[0m     \u001b[38;5;28;01mraise\u001b[39;00m YaccError(\u001b[38;5;124m'\u001b[39m\u001b[38;5;124mUnable to build parser\u001b[39m\u001b[38;5;124m'\u001b[39m)\n\u001b[1;32m   3434\u001b[0m \u001b[38;5;66;03m# Run the LRGeneratedTable on the grammar\u001b[39;00m\n\u001b[1;32m   3435\u001b[0m \u001b[38;5;28;01mif\u001b[39;00m debug:\n",
      "\u001b[0;31mYaccError\u001b[0m: Unable to build parser"
     ]
    }
   ],
   "source": [
    "# Let's now test the yacc module on a simple print statement\n",
    "\n",
    "input = \"\"\"\n",
    "print(\"Hello World\")\n",
    "\"\"\"\n",
    "\n",
    "mode = \"Python\"\n",
    "\n",
    "# We want to pass the input into the main function of the parsing module\n",
    "result = parsing_yacc.main(input, mode)\n",
    "\n",
    "# We want to print the result to see if the parser is working\n",
    "print(result)"
   ]
  },
  {
   "cell_type": "code",
   "execution_count": null,
   "metadata": {},
   "outputs": [
    {
     "name": "stdout",
     "output_type": "stream",
     "text": [
      "Syntax error in input!\n",
      "None\n"
     ]
    }
   ],
   "source": [
    "# Change the mode to C and test the yacc module on a simple print statement \n",
    "\n",
    "input = \"\"\"\n",
    "print(\"Hello World\")\n",
    "\"\"\"\n",
    "\n",
    "mode = \"C\"\n",
    "\n",
    "# We want to pass the input into the main function of the parsing module\n",
    "result = parsing_yacc.main(input, mode)\n",
    "\n",
    "# We want to print the result to see if the parser is working\n",
    "print(result)"
   ]
  },
  {
   "cell_type": "markdown",
   "metadata": {},
   "source": [
    "## Testing on Numerical Operations (Basic)\n",
    "\n",
    "By this point the Lexer should be able to handle basic numerical operations. "
   ]
  },
  {
   "cell_type": "code",
   "execution_count": null,
   "metadata": {},
   "outputs": [
    {
     "name": "stdout",
     "output_type": "stream",
     "text": [
      "LexToken(NUMBER,'1',1,2)\n",
      "LexToken(PLUS,'+',1,4)\n",
      "LexToken(NUMBER,'1',1,6)\n",
      "None\n"
     ]
    }
   ],
   "source": [
    "# Let's do a simple test with just a numerical expression \n",
    "\n",
    "input = \"\"\" \n",
    "1 + 1\n",
    "\"\"\" \n",
    "\n",
    "# We want to pass the input into the main function of the parsing module\n",
    "tokens = parsing_lex.main(input)\n",
    "\n",
    "# We want to print the tokens to see if the lexer is working\n",
    "print(tokens)"
   ]
  },
  {
   "cell_type": "code",
   "execution_count": null,
   "metadata": {},
   "outputs": [
    {
     "name": "stdout",
     "output_type": "stream",
     "text": [
      "LexToken(NUMBER,'1',1,2)\n",
      "LexToken(MINUS,'-',1,4)\n",
      "LexToken(NUMBER,'1',1,6)\n",
      "None\n"
     ]
    }
   ],
   "source": [
    "# Let's do subtraction \n",
    "\n",
    "input = \"\"\" \n",
    "1 - 1\n",
    "\"\"\"\n",
    "\n",
    "# We want to pass the input into the main function of the parsing module\n",
    "tokens = parsing_lex.main(input)\n",
    "\n",
    "# We want to print the tokens to see if the lexer is working\n",
    "print(tokens)"
   ]
  },
  {
   "cell_type": "code",
   "execution_count": null,
   "metadata": {},
   "outputs": [
    {
     "name": "stdout",
     "output_type": "stream",
     "text": [
      "LexToken(NUMBER,'1',1,1)\n",
      "LexToken(TIMES,'*',1,3)\n",
      "LexToken(NUMBER,'1',1,5)\n",
      "None\n"
     ]
    }
   ],
   "source": [
    "# Let's do multiplication \n",
    "\n",
    "input = \"\"\"\n",
    "1 * 1\n",
    "\"\"\"\n",
    "\n",
    "# We want to pass the input into the main function of the parsing module\n",
    "tokens = parsing_lex.main(input)\n",
    "\n",
    "# We want to print the tokens to see if the lexer is working\n",
    "print(tokens)"
   ]
  },
  {
   "cell_type": "code",
   "execution_count": null,
   "metadata": {},
   "outputs": [
    {
     "name": "stdout",
     "output_type": "stream",
     "text": [
      "LexToken(NUMBER,'1',1,1)\n",
      "LexToken(DIVIDE,'/',1,3)\n",
      "LexToken(NUMBER,'1',1,5)\n",
      "None\n"
     ]
    }
   ],
   "source": [
    "# Let's do division\n",
    "\n",
    "input = \"\"\"\n",
    "1 / 1\n",
    "\"\"\"\n",
    "\n",
    "# We want to pass the input into the main function of the parsing module\n",
    "tokens = parsing_lex.main(input)\n",
    "\n",
    "# We want to print the tokens to see if the lexer is working\n",
    "print(tokens)"
   ]
  },
  {
   "cell_type": "code",
   "execution_count": null,
   "metadata": {},
   "outputs": [
    {
     "name": "stdout",
     "output_type": "stream",
     "text": [
      "LexToken(LPAREN,'(',1,1)\n",
      "LexToken(NUMBER,'1',1,2)\n",
      "LexToken(PLUS,'+',1,4)\n",
      "LexToken(NUMBER,'1',1,6)\n",
      "LexToken(RPAREN,')',1,7)\n",
      "None\n"
     ]
    }
   ],
   "source": [
    "# Let's do an expression that involves parenthesis \n",
    "\n",
    "input = \"\"\"\n",
    "(1 + 1)\n",
    "\"\"\"\n",
    "\n",
    "# We want to pass the input into the main function of the parsing module\n",
    "tokens = parsing_lex.main(input)\n",
    "\n",
    "# We want to print the tokens to see if the lexer is working\n",
    "print(tokens)"
   ]
  },
  {
   "cell_type": "code",
   "execution_count": null,
   "metadata": {},
   "outputs": [
    {
     "name": "stdout",
     "output_type": "stream",
     "text": [
      "LexToken(LPAREN,'(',1,1)\n",
      "LexToken(NUMBER,'1',1,2)\n",
      "LexToken(PLUS,'+',1,4)\n",
      "LexToken(NUMBER,'1',1,6)\n",
      "LexToken(RPAREN,')',1,7)\n",
      "LexToken(TIMES,'*',1,9)\n",
      "LexToken(NUMBER,'1',1,11)\n",
      "LexToken(DIVIDE,'/',1,13)\n",
      "LexToken(NUMBER,'1',1,15)\n",
      "LexToken(MINUS,'-',1,17)\n",
      "LexToken(NUMBER,'1',1,19)\n",
      "None\n"
     ]
    }
   ],
   "source": [
    "# Let's do an expression that involves multiple operations \n",
    "\n",
    "input = \"\"\"\n",
    "(1 + 1) * 1 / 1 - 1\n",
    "\"\"\"\n",
    "\n",
    "# We want to pass the input into the main function of the parsing module\n",
    "tokens = parsing_lex.main(input)\n",
    "\n",
    "# We want to print the tokens to see if the lexer is working\n",
    "print(tokens)"
   ]
  },
  {
   "cell_type": "code",
   "execution_count": null,
   "metadata": {},
   "outputs": [
    {
     "name": "stdout",
     "output_type": "stream",
     "text": [
      "LexToken(LPAREN,'(',1,1)\n",
      "LexToken(NUMBER,'1',1,2)\n",
      "LexToken(PLUS,'+',1,4)\n",
      "LexToken(NUMBER,'1',1,6)\n",
      "LexToken(RPAREN,')',1,7)\n",
      "None\n"
     ]
    }
   ],
   "source": [
    "# Let's do an expression with a comment \n",
    "\n",
    "input = \"\"\"\n",
    "(1 + 1) # This is a comment\n",
    "\"\"\"\n",
    "\n",
    "# We want to pass the input into the main function of the parsing module\n",
    "tokens = parsing_lex.main(input)\n",
    "\n",
    "# We want to print the tokens to see if the lexer is working\n",
    "print(tokens)"
   ]
  },
  {
   "cell_type": "code",
   "execution_count": null,
   "metadata": {},
   "outputs": [
    {
     "name": "stdout",
     "output_type": "stream",
     "text": [
      "LexToken(LPAREN,'(',1,1)\n",
      "LexToken(NUMBER,'1',1,2)\n",
      "LexToken(PLUS,'+',1,4)\n",
      "LexToken(NUMBER,'1',1,6)\n",
      "LexToken(RPAREN,')',1,7)\n",
      "LexToken(PLUS,'+',1,14)\n",
      "LexToken(NUMBER,'1',1,16)\n",
      "None\n"
     ]
    }
   ],
   "source": [
    "# Let's do an expression with excess whitespace \n",
    "\n",
    "input = \"\"\"\n",
    "(1 + 1)      + 1\n",
    "\"\"\"\n",
    "\n",
    "# We want to pass the input into the main function of the parsing module\n",
    "tokens = parsing_lex.main(input)\n",
    "\n",
    "# We want to print the tokens to see if the lexer is working\n",
    "print(tokens)"
   ]
  },
  {
   "cell_type": "code",
   "execution_count": null,
   "metadata": {},
   "outputs": [
    {
     "name": "stdout",
     "output_type": "stream",
     "text": [
      "LexToken(VARIABLE,'print',1,1)\n",
      "LexToken(LPAREN,'(',1,6)\n",
      "LexToken(NUMBER,'1',1,7)\n",
      "LexToken(PLUS,'+',1,9)\n",
      "LexToken(NUMBER,'1',1,11)\n",
      "LexToken(RPAREN,')',1,12)\n",
      "None\n"
     ]
    }
   ],
   "source": [
    "# Let's put a numerical expression into a print statement \n",
    "\n",
    "input = \"\"\"\n",
    "print(1 + 1)\n",
    "\"\"\"\n",
    "\n",
    "# We want to pass the input into the main function of the parsing module\n",
    "tokens = parsing_lex.main(input)\n",
    "\n",
    "# We want to print the tokens to see if the lexer is working\n",
    "print(tokens)"
   ]
  },
  {
   "cell_type": "code",
   "execution_count": null,
   "metadata": {},
   "outputs": [
    {
     "name": "stdout",
     "output_type": "stream",
     "text": [
      "Python Mode\n",
      "1 + 1\n",
      "C Mode\n",
      "1 + 1\n"
     ]
    }
   ],
   "source": [
    "# Now, let's test the yacc file on addition \n",
    "\n",
    "input = \"\"\"\n",
    "1 + 1\n",
    "\"\"\"\n",
    "\n",
    "mode = \"Python\"\n",
    "\n",
    "# We want to pass the input into the main function of the parsing module\n",
    "result = parsing_yacc.main(input, mode)\n",
    "\n",
    "# We want to print the result to see if the parser is working\n",
    "print(\"Python Mode\")\n",
    "print(result)\n",
    "\n",
    "# Change the mode to C and test the yacc module on addition \n",
    "\n",
    "mode = \"C\" \n",
    "\n",
    "# We want to pass the input into the main function of the parsing module \n",
    "result = parsing_yacc.main(input, mode)\n",
    "\n",
    "# We want to print the result to see if the parser is working\n",
    "print(\"C Mode\")\n",
    "print(result)\n"
   ]
  },
  {
   "cell_type": "code",
   "execution_count": null,
   "metadata": {},
   "outputs": [
    {
     "name": "stdout",
     "output_type": "stream",
     "text": [
      "Python Mode\n",
      "1 - 1\n",
      "C Mode\n",
      "1 - 1\n"
     ]
    }
   ],
   "source": [
    "# Test yacc on subtraction \n",
    "\n",
    "input = \"\"\"\n",
    "1 - 1\n",
    "\"\"\"\n",
    "\n",
    "mode = \"Python\"\n",
    "\n",
    "# We want to pass the input into the main function of the parsing module\n",
    "result = parsing_yacc.main(input, mode)\n",
    "\n",
    "# We want to print the result to see if the parser is working\n",
    "print(\"Python Mode\")\n",
    "print(result)\n",
    "\n",
    "# Change the mode to C and test the yacc module on subtraction\n",
    "\n",
    "mode = \"C\"\n",
    "\n",
    "# We want to pass the input into the main function of the parsing module\n",
    "result = parsing_yacc.main(input, mode)\n",
    "\n",
    "# We want to print the result to see if the parser is working\n",
    "print(\"C Mode\")\n",
    "print(result)"
   ]
  },
  {
   "cell_type": "code",
   "execution_count": null,
   "metadata": {},
   "outputs": [
    {
     "name": "stdout",
     "output_type": "stream",
     "text": [
      "Python Mode\n",
      "1 * 1\n",
      "C Mode\n",
      "1 * 1\n"
     ]
    }
   ],
   "source": [
    "# Test yacc on multiplication \n",
    "\n",
    "input = \"\"\"\n",
    "1 * 1\n",
    "\"\"\"\n",
    "\n",
    "mode = \"Python\"\n",
    "\n",
    "# We want to pass the input into the main function of the parsing module\n",
    "result = parsing_yacc.main(input, mode)\n",
    "\n",
    "# We want to print the result to see if the parser is working\n",
    "print(\"Python Mode\")\n",
    "print(result)\n",
    "\n",
    "# Change the mode to C and test the yacc module on subtraction\n",
    "\n",
    "mode = \"C\"\n",
    "\n",
    "# We want to pass the input into the main function of the parsing module\n",
    "result = parsing_yacc.main(input, mode)\n",
    "\n",
    "# We want to print the result to see if the parser is working\n",
    "print(\"C Mode\")\n",
    "print(result)"
   ]
  },
  {
   "cell_type": "code",
   "execution_count": null,
   "metadata": {},
   "outputs": [
    {
     "name": "stdout",
     "output_type": "stream",
     "text": [
      "Python Mode\n",
      "1 / 1\n",
      "C Mode\n",
      "1 / 1\n"
     ]
    }
   ],
   "source": [
    "# Test yacc on division \n",
    "\n",
    "input = \"\"\"\n",
    "1 / 1\n",
    "\"\"\"\n",
    "\n",
    "mode = \"Python\"\n",
    "\n",
    "# We want to pass the input into the main function of the parsing module\n",
    "result = parsing_yacc.main(input, mode)\n",
    "\n",
    "# We want to print the result to see if the parser is working\n",
    "print(\"Python Mode\")\n",
    "print(result)\n",
    "\n",
    "# Change the mode to C and test the yacc module on subtraction\n",
    "\n",
    "mode = \"C\"\n",
    "\n",
    "# We want to pass the input into the main function of the parsing module\n",
    "result = parsing_yacc.main(input, mode)\n",
    "\n",
    "# We want to print the result to see if the parser is working\n",
    "print(\"C Mode\")\n",
    "print(result)"
   ]
  },
  {
   "cell_type": "code",
   "execution_count": null,
   "metadata": {},
   "outputs": [
    {
     "name": "stdout",
     "output_type": "stream",
     "text": [
      "Python Mode\n",
      "(1 + 1)\n",
      "C Mode\n",
      "(1 + 1)\n"
     ]
    }
   ],
   "source": [
    "# Let's do an expression that involves parenthesis \n",
    "\n",
    "input = \"\"\"\n",
    "(1 + 1)\n",
    "\"\"\"\n",
    "\n",
    "mode = \"Python\"\n",
    "\n",
    "# We want to pass the input into the main function of the parsing module\n",
    "result = parsing_yacc.main(input, mode)\n",
    "\n",
    "# We want to print the result to see if the parser is working\n",
    "print(\"Python Mode\")\n",
    "print(result)\n",
    "\n",
    "mode = \"C\"\n",
    "\n",
    "# We want to pass the input into the main function of the parsing module\n",
    "result = parsing_yacc.main(input, mode) \n",
    "\n",
    "# We want to print the result to see if the parser is working\n",
    "print(\"C Mode\")\n",
    "print(result)"
   ]
  },
  {
   "cell_type": "code",
   "execution_count": null,
   "metadata": {},
   "outputs": [
    {
     "name": "stdout",
     "output_type": "stream",
     "text": [
      "Python Mode\n",
      "(1 + 1) * 1 / 1 - 1\n",
      "C Mode\n",
      "(1 + 1) * 1 / 1 - 1\n"
     ]
    }
   ],
   "source": [
    "# Let's do an expression that invovles multiple operations \n",
    "\n",
    "# Let's do an expression that involves parenthesis \n",
    "\n",
    "input = \"\"\"\n",
    "(1 + 1) * 1 / 1 - 1\n",
    "\"\"\"\n",
    "\n",
    "mode = \"Python\"\n",
    "\n",
    "# We want to pass the input into the main function of the parsing module\n",
    "result = parsing_yacc.main(input, mode)\n",
    "\n",
    "# We want to print the result to see if the parser is working\n",
    "print(\"Python Mode\")\n",
    "print(result)\n",
    "\n",
    "mode = \"C\"\n",
    "\n",
    "# We want to pass the input into the main function of the parsing module\n",
    "result = parsing_yacc.main(input, mode) \n",
    "\n",
    "# We want to print the result to see if the parser is working\n",
    "print(\"C Mode\")\n",
    "print(result)"
   ]
  },
  {
   "cell_type": "code",
   "execution_count": null,
   "metadata": {},
   "outputs": [
    {
     "name": "stdout",
     "output_type": "stream",
     "text": [
      "Syntax error in input!\n",
      "Syntax error in input!\n",
      "Python Mode\n",
      "None\n",
      "Syntax error in input!\n",
      "Syntax error in input!\n",
      "C Mode\n",
      "None\n"
     ]
    }
   ],
   "source": [
    "# Let's do an expression with both print and numerical expressions \n",
    "\n",
    "input = \"\"\"\n",
    "print(1 + 1)\n",
    "\"\"\"\n",
    "\n",
    "mode = \"Python\"\n",
    "\n",
    "# We want to pass the input into the main function of the parsing module\n",
    "result = parsing_yacc.main(input, mode)\n",
    "\n",
    "# We want to print the result to see if the parser is working\n",
    "print(\"Python Mode\")\n",
    "\n",
    "print(result)\n",
    "\n",
    "mode = \"C\"\n",
    "\n",
    "# We want to pass the input into the main function of the parsing module\n",
    "result = parsing_yacc.main(input, mode)\n",
    "\n",
    "# We want to print the result to see if the parser is working\n",
    "print(\"C Mode\")\n",
    "\n",
    "print(result)"
   ]
  },
  {
   "cell_type": "markdown",
   "metadata": {},
   "source": [
    "## Let's test the reserved words: if statements"
   ]
  },
  {
   "cell_type": "code",
   "execution_count": null,
   "metadata": {},
   "outputs": [
    {
     "name": "stdout",
     "output_type": "stream",
     "text": [
      "LexToken(IF,'if',1,1)\n",
      "LexToken(NUMBER,'1',1,4)\n",
      "LexToken(DOUBLE_EQUALS,'==',1,6)\n",
      "LexToken(NUMBER,'1',1,9)\n",
      "LexToken(COLON,':',1,10)\n",
      "LexToken(VARIABLE,'print',1,16)\n",
      "LexToken(LPAREN,'(',1,21)\n",
      "LexToken(STRING,'\"Hello World\"',1,22)\n",
      "LexToken(RPAREN,')',1,35)\n",
      "None\n"
     ]
    }
   ],
   "source": [
    "# Let's test something with an if-statement \n",
    "\n",
    "input = \"\"\"\n",
    "if 1 == 1:\n",
    "    print(\"Hello World\")\n",
    "\"\"\"\n",
    "\n",
    "# We want to pass the input into the main function of the parsing module\n",
    "tokens = parsing_lex.main(input)\n",
    "\n",
    "# We want to print the tokens to see if the lexer is working\n",
    "print(tokens)"
   ]
  },
  {
   "cell_type": "code",
   "execution_count": null,
   "metadata": {},
   "outputs": [
    {
     "name": "stdout",
     "output_type": "stream",
     "text": [
      "Python Mode\n",
      "1 == 1\n"
     ]
    }
   ],
   "source": [
    "# Let's test the yacc file on a simple if-statement \n",
    "\n",
    "input = \"\"\"\n",
    "1 == 1\n",
    "\"\"\"\n",
    "\n",
    "mode = \"Python\"\n",
    "\n",
    "# We want to pass the input into the main function of the parsing module\n",
    "result = parsing_yacc.main(input, mode)\n",
    "\n",
    "# We want to print the result to see if the parser is working\n",
    "print(\"Python Mode\")\n",
    "print(result)\n",
    "\n",
    "# Change the mode to C and test the yacc module on an if-statement\n",
    "\n",
    "mode = \"C\"\n",
    "\n",
    "# We want to pass the input into the main function of the parsing module\n",
    "result = parsing_yacc.main(input, mode)"
   ]
  },
  {
   "cell_type": "code",
   "execution_count": null,
   "metadata": {},
   "outputs": [
    {
     "name": "stdout",
     "output_type": "stream",
     "text": [
      "Syntax error in input!\n",
      "Python Mode\n",
      "None\n",
      "Syntax error in input!\n",
      "C Mode\n",
      "None\n"
     ]
    }
   ],
   "source": [
    "# Let's test the yacc file on a simple if-statement \n",
    "\n",
    "input = \"\"\"\n",
    "if 1 == 1:\n",
    "    print(\"Hello World\")\n",
    "\"\"\"\n",
    "\n",
    "mode = \"Python\"\n",
    "\n",
    "# We want to pass the input into the main function of the parsing module\n",
    "result = parsing_yacc.main(input, mode)\n",
    "\n",
    "# We want to print the result to see if the parser is working\n",
    "print(\"Python Mode\")\n",
    "print(result)\n",
    "\n",
    "# Change the mode to C and test the yacc module on an if-statement\n",
    "\n",
    "mode = \"C\"\n",
    "\n",
    "# We want to pass the input into the main function of the parsing module\n",
    "result = parsing_yacc.main(input, mode)\n",
    "\n",
    "# We want to print the result to see if the parser is working\n",
    "print(\"C Mode\")\n",
    "\n",
    "print(result)"
   ]
  },
  {
   "cell_type": "code",
   "execution_count": null,
   "metadata": {},
   "outputs": [
    {
     "name": "stdout",
     "output_type": "stream",
     "text": [
      "Syntax error in input!\n",
      "Python Mode\n",
      "None\n",
      "Syntax error in input!\n",
      "C Mode\n",
      "None\n"
     ]
    }
   ],
   "source": [
    "# Let's test the yacc file on a simple if-statement \n",
    "\n",
    "input = \"\"\"\n",
    "if (1 == 1):\n",
    "    print(\"Hello World\")\n",
    "\"\"\"\n",
    "\n",
    "mode = \"Python\"\n",
    "\n",
    "# We want to pass the input into the main function of the parsing module\n",
    "result = parsing_yacc.main(input, mode)\n",
    "\n",
    "# We want to print the result to see if the parser is working\n",
    "print(\"Python Mode\")\n",
    "print(result)\n",
    "\n",
    "# Change the mode to C and test the yacc module on an if-statement\n",
    "\n",
    "mode = \"C\"\n",
    "\n",
    "# We want to pass the input into the main function of the parsing module\n",
    "result = parsing_yacc.main(input, mode)\n",
    "\n",
    "# We want to print the result to see if the parser is working\n",
    "print(\"C Mode\")\n",
    "\n",
    "print(result)"
   ]
  },
  {
   "cell_type": "code",
   "execution_count": null,
   "metadata": {},
   "outputs": [
    {
     "name": "stdout",
     "output_type": "stream",
     "text": [
      "LexToken(IF,'if',1,1)\n",
      "LexToken(NUMBER,'1',1,4)\n",
      "LexToken(DOUBLE_EQUALS,'==',1,6)\n",
      "LexToken(NUMBER,'1',1,9)\n",
      "LexToken(COLON,':',1,10)\n",
      "LexToken(VARIABLE,'print',1,16)\n",
      "LexToken(LPAREN,'(',1,21)\n",
      "LexToken(STRING,'\"Hello World\"',1,22)\n",
      "LexToken(RPAREN,')',1,35)\n",
      "LexToken(ELSE,'else',1,37)\n",
      "LexToken(COLON,':',1,41)\n",
      "LexToken(VARIABLE,'print',1,47)\n",
      "LexToken(LPAREN,'(',1,52)\n",
      "LexToken(STRING,'\"Goodbye World\"',1,53)\n",
      "LexToken(RPAREN,')',1,68)\n",
      "None\n"
     ]
    }
   ],
   "source": [
    "# Let's test if-else \n",
    "\n",
    "input = \"\"\"\n",
    "if 1 == 1:\n",
    "    print(\"Hello World\")\n",
    "else:\n",
    "    print(\"Goodbye World\")\n",
    "\"\"\"\n",
    "\n",
    "# We want to pass the input into the main function of the parsing module\n",
    "tokens = parsing_lex.main(input)\n",
    "\n",
    "# We want to print the tokens to see if the lexer is working\n",
    "print(tokens)"
   ]
  },
  {
   "cell_type": "code",
   "execution_count": null,
   "metadata": {},
   "outputs": [
    {
     "name": "stdout",
     "output_type": "stream",
     "text": [
      "LexToken(IF,'if',1,1)\n",
      "LexToken(NUMBER,'1',1,4)\n",
      "LexToken(DOUBLE_EQUALS,'==',1,6)\n",
      "LexToken(NUMBER,'1',1,9)\n",
      "LexToken(COLON,':',1,10)\n",
      "LexToken(VARIABLE,'print',1,16)\n",
      "LexToken(LPAREN,'(',1,21)\n",
      "LexToken(STRING,'\"Hello World\"',1,22)\n",
      "LexToken(RPAREN,')',1,35)\n",
      "LexToken(ELIF,'elif',1,37)\n",
      "LexToken(NUMBER,'1',1,42)\n",
      "LexToken(DOUBLE_EQUALS,'==',1,44)\n",
      "LexToken(NUMBER,'2',1,47)\n",
      "LexToken(COLON,':',1,48)\n",
      "LexToken(VARIABLE,'print',1,54)\n",
      "LexToken(LPAREN,'(',1,59)\n",
      "LexToken(STRING,'\"Crazy World\"',1,60)\n",
      "LexToken(RPAREN,')',1,73)\n",
      "LexToken(ELSE,'else',1,75)\n",
      "LexToken(COLON,':',1,79)\n",
      "LexToken(VARIABLE,'print',1,85)\n",
      "LexToken(LPAREN,'(',1,90)\n",
      "LexToken(STRING,'\"Goodbye World\"',1,91)\n",
      "LexToken(RPAREN,')',1,106)\n",
      "None\n"
     ]
    }
   ],
   "source": [
    "# Let's test if-elif-else \n",
    "\n",
    "input = \"\"\"\n",
    "if 1 == 1:\n",
    "    print(\"Hello World\")\n",
    "elif 1 == 2:\n",
    "    print(\"Crazy World\")\n",
    "else:\n",
    "    print(\"Goodbye World\")\n",
    "\"\"\"\n",
    "\n",
    "# We want to pass the input into the main function of the parsing module\n",
    "tokens = parsing_lex.main(input)\n",
    "\n",
    "# We want to print the tokens to see if the lexer is working\n",
    "print(tokens)"
   ]
  },
  {
   "cell_type": "markdown",
   "metadata": {},
   "source": [
    "## Testing creating numpy arrays from list "
   ]
  },
  {
   "cell_type": "code",
   "execution_count": null,
   "metadata": {},
   "outputs": [
    {
     "name": "stdout",
     "output_type": "stream",
     "text": [
      "LexToken(VARIABLE,'a',1,1)\n",
      "LexToken(EQUALS,'=',1,3)\n",
      "LexToken(ARRAY,'np.array',1,5)\n",
      "LexToken(LPAREN,'(',1,13)\n",
      "LexToken(LIST,'[1, 2, 3]',1,14)\n",
      "LexToken(RPAREN,')',1,23)\n",
      "None\n"
     ]
    }
   ],
   "source": [
    "# Let's test the lex file on creating numpy arrays from a list \n",
    "\n",
    "input = \"\"\"\n",
    "a = np.array([1, 2, 3])\n",
    "\"\"\"\n",
    "\n",
    "# We want to pass the input into the main function of the parsing module\n",
    "\n",
    "tokens = parsing_lex.main(input)\n",
    "\n",
    "# We want to print the tokens to see if the lexer is working\n",
    "print(tokens)"
   ]
  },
  {
   "cell_type": "code",
   "execution_count": null,
   "metadata": {},
   "outputs": [
    {
     "name": "stdout",
     "output_type": "stream",
     "text": [
      "Creating a numpy array from a list\n",
      "Variable name: a\n",
      "List values: 1, 2, 3\n",
      "Calling Python function\n",
      "Python Mode\n",
      "None\n",
      "Creating a numpy array from a list\n",
      "Variable name: a\n",
      "List values: 1, 2, 3\n",
      "C Mode\n",
      "int a[3] = {1, 2, 3};\n"
     ]
    }
   ],
   "source": [
    "# Let's test the yacc file on creating numpy arrays from a list \n",
    "\n",
    "input = \"\"\"\n",
    "a = np.array([1, 2, 3])\n",
    "\"\"\"\n",
    "\n",
    "mode = \"Python\"\n",
    "\n",
    "# We want to pass the input into the main function of the parsing module\n",
    "result = parsing_yacc.main(input, mode)\n",
    "\n",
    "# We want to print the result to see if the parser is working\n",
    "print(\"Python Mode\")\n",
    "\n",
    "print(result)\n",
    "\n",
    "# Change the mode to C and test the yacc module on creating numpy arrays from a list\n",
    "\n",
    "mode = \"C\"\n",
    "\n",
    "# We want to pass the input into the main function of the parsing module\n",
    "\n",
    "result = parsing_yacc.main(input, mode)\n",
    "\n",
    "# We want to print the result to see if the parser is working\n",
    "\n",
    "print(\"C Mode\")\n",
    "\n",
    "print(result)"
   ]
  },
  {
   "cell_type": "markdown",
   "metadata": {},
   "source": [
    "## Numpy add"
   ]
  },
  {
   "cell_type": "code",
   "execution_count": null,
   "metadata": {},
   "outputs": [
    {
     "name": "stdout",
     "output_type": "stream",
     "text": [
      "LexToken(VARIABLE,'A',1,1)\n",
      "LexToken(EQUALS,'=',1,2)\n",
      "LexToken(ARRAY,'np.array',1,4)\n",
      "LexToken(LPAREN,'(',1,12)\n",
      "LexToken(LIST,'[1, 2, 3]',1,13)\n",
      "LexToken(RPAREN,')',1,22)\n",
      "LexToken(VARIABLE,'B',1,24)\n",
      "LexToken(EQUALS,'=',1,26)\n",
      "LexToken(ARRAY,'np.array',1,28)\n",
      "LexToken(LPAREN,'(',1,36)\n",
      "LexToken(LIST,'[4, 5, 6]',1,37)\n",
      "LexToken(RPAREN,')',1,46)\n",
      "LexToken(VARIABLE,'C',1,48)\n",
      "LexToken(EQUALS,'=',1,50)\n",
      "LexToken(NP_ADD,'np.add',1,52)\n",
      "LexToken(LPAREN,'(',1,58)\n",
      "LexToken(VARIABLE,'A',1,59)\n",
      "LexToken(COMMA,',',1,60)\n",
      "LexToken(VARIABLE,'B',1,62)\n",
      "LexToken(RPAREN,')',1,63)\n",
      "None\n"
     ]
    }
   ],
   "source": [
    "# Let's test the lex file on adding numpy arrays \n",
    "\n",
    "input = \"\"\"\n",
    "A= np.array([1, 2, 3])\n",
    "B = np.array([4, 5, 6])\n",
    "C = np.add(A, B)\n",
    "\"\"\"\n",
    "\n",
    "# We want to pass the input into the main function of the parsing module\n",
    "\n",
    "tokens = parsing_lex.main(input)\n",
    "\n",
    "# We want to print the tokens to see if the lexer is working\n",
    "print(tokens)"
   ]
  },
  {
   "cell_type": "code",
   "execution_count": null,
   "metadata": {},
   "outputs": [
    {
     "name": "stdout",
     "output_type": "stream",
     "text": [
      "Adding two numpy arrays\n",
      "Calling Python function\n",
      "Python Mode\n",
      "None\n",
      "Adding two numpy arrays\n",
      "Calling C function\n",
      "C Mode\n",
      "None\n"
     ]
    }
   ],
   "source": [
    "# Let's test yacc \n",
    "\n",
    "input = \"\"\"\n",
    "C = np.add(A, B)\n",
    "\"\"\"\n",
    "\n",
    "mode = \"Python\"\n",
    "\n",
    "# We want to pass the input into the main function of the parsing module\n",
    "result = parsing_yacc.main(input, mode)\n",
    "\n",
    "# We want to print the result to see if the parser is working\n",
    "print(\"Python Mode\")\n",
    "\n",
    "print(result)\n",
    "\n",
    "# Change the mode to C and test the yacc module on adding numpy arrays\n",
    "\n",
    "mode = \"C\"\n",
    "\n",
    "# We want to pass the input into the main function of the parsing module\n",
    "\n",
    "result = parsing_yacc.main(input, mode)\n",
    "\n",
    "# We want to print the result to see if the parser is working\n",
    "\n",
    "print(\"C Mode\")\n",
    "\n",
    "print(result)"
   ]
  },
  {
   "cell_type": "markdown",
   "metadata": {},
   "source": [
    "## Numpy subtract "
   ]
  },
  {
   "cell_type": "code",
   "execution_count": null,
   "metadata": {},
   "outputs": [
    {
     "name": "stdout",
     "output_type": "stream",
     "text": [
      "LexToken(VARIABLE,'A',1,1)\n",
      "LexToken(EQUALS,'=',1,3)\n",
      "LexToken(ARRAY,'np.array',1,5)\n",
      "LexToken(LPAREN,'(',1,13)\n",
      "LexToken(LIST,'[4, 5, 6]',1,14)\n",
      "LexToken(RPAREN,')',1,23)\n",
      "LexToken(VARIABLE,'B',1,25)\n",
      "LexToken(EQUALS,'=',1,27)\n",
      "LexToken(ARRAY,'np.array',1,29)\n",
      "LexToken(LPAREN,'(',1,37)\n",
      "LexToken(LIST,'[1, 2, 3]',1,38)\n",
      "LexToken(RPAREN,')',1,47)\n",
      "LexToken(VARIABLE,'C',1,49)\n",
      "LexToken(EQUALS,'=',1,51)\n",
      "LexToken(NP_SUBTRACT,'np.subtract',1,53)\n",
      "LexToken(LPAREN,'(',1,64)\n",
      "LexToken(VARIABLE,'A',1,65)\n",
      "LexToken(COMMA,',',1,66)\n",
      "LexToken(VARIABLE,'B',1,68)\n",
      "LexToken(RPAREN,')',1,69)\n",
      "None\n"
     ]
    }
   ],
   "source": [
    "# Let's test the lex file on subtracting numpy arrays \n",
    "\n",
    "input = \"\"\"\n",
    "A = np.array([4, 5, 6])\n",
    "B = np.array([1, 2, 3])\n",
    "C = np.subtract(A, B)\n",
    "\"\"\"\n",
    "\n",
    "# We want to pass the input into the main function of the parsing module\n",
    "\n",
    "tokens = parsing_lex.main(input)\n",
    "\n",
    "# We want to print the tokens to see if the lexer is working\n",
    "\n",
    "print(tokens)"
   ]
  },
  {
   "cell_type": "code",
   "execution_count": null,
   "metadata": {},
   "outputs": [
    {
     "name": "stdout",
     "output_type": "stream",
     "text": [
      "Subtracting two numpy arrays\n",
      "Calling Python function\n",
      "Python Mode\n",
      "None\n",
      "Subtracting two numpy arrays\n",
      "Calling C function\n",
      "C Mode\n",
      "None\n"
     ]
    }
   ],
   "source": [
    "# Let's test yacc \n",
    "\n",
    "input = \"\"\"\n",
    "C = np.subtract(A, B)\n",
    "\"\"\"\n",
    "\n",
    "mode = \"Python\"\n",
    "\n",
    "# We want to pass the input into the main function of the parsing module\n",
    "result = parsing_yacc.main(input, mode)\n",
    "\n",
    "# We want to print the result to see if the parser is working\n",
    "print(\"Python Mode\")\n",
    "\n",
    "print(result)\n",
    "\n",
    "# Change the mode to C and test the yacc module on adding numpy arrays\n",
    "\n",
    "mode = \"C\"\n",
    "\n",
    "# We want to pass the input into the main function of the parsing module\n",
    "\n",
    "result = parsing_yacc.main(input, mode)\n",
    "\n",
    "# We want to print the result to see if the parser is working\n",
    "\n",
    "print(\"C Mode\")\n",
    "\n",
    "print(result)"
   ]
  },
  {
   "cell_type": "markdown",
   "metadata": {},
   "source": [
    "## Numpy sum "
   ]
  },
  {
   "cell_type": "code",
   "execution_count": null,
   "metadata": {},
   "outputs": [
    {
     "name": "stdout",
     "output_type": "stream",
     "text": [
      "LexToken(VARIABLE,'A',1,1)\n",
      "LexToken(EQUALS,'=',1,3)\n",
      "LexToken(ARRAY,'np.array',1,5)\n",
      "LexToken(LPAREN,'(',1,13)\n",
      "LexToken(LIST,'[1, 2, 3]',1,14)\n",
      "LexToken(RPAREN,')',1,23)\n",
      "LexToken(VARIABLE,'C',1,25)\n",
      "LexToken(EQUALS,'=',1,27)\n",
      "LexToken(NP_SUM,'np.sum',1,29)\n",
      "LexToken(LPAREN,'(',1,35)\n",
      "LexToken(VARIABLE,'A',1,36)\n",
      "LexToken(RPAREN,')',1,37)\n",
      "None\n"
     ]
    }
   ],
   "source": [
    "# Let's test the lex file on numpy sum \n",
    "\n",
    "input = \"\"\"\n",
    "A = np.array([1, 2, 3])\n",
    "C = np.sum(A)\n",
    "\"\"\"\n",
    "\n",
    "# We want to pass the input into the main function of the parsing module\n",
    "\n",
    "tokens = parsing_lex.main(input)\n",
    "\n",
    "# We want to print the tokens to see if the lexer is working\n",
    "\n",
    "print(tokens)\n"
   ]
  },
  {
   "cell_type": "code",
   "execution_count": null,
   "metadata": {},
   "outputs": [
    {
     "name": "stdout",
     "output_type": "stream",
     "text": [
      "Summing a numpy array\n",
      "Calling Python function\n",
      "Python Mode\n",
      "None\n",
      "Summing a numpy array\n",
      "Calling C function\n",
      "C Mode\n",
      "None\n"
     ]
    }
   ],
   "source": [
    "# Test yacc \n",
    "\n",
    "input = \"\"\"\n",
    "C = np.sum(A)\n",
    "\"\"\"\n",
    "\n",
    "mode = \"Python\"\n",
    "\n",
    "# We want to pass the input into the main function of the parsing module\n",
    "result = parsing_yacc.main(input, mode)\n",
    "\n",
    "# We want to print the result to see if the parser is working\n",
    "\n",
    "print(\"Python Mode\")\n",
    "\n",
    "print(result)\n",
    "\n",
    "# Change the mode to C and test the yacc module on numpy sum\n",
    "\n",
    "mode = \"C\"\n",
    "\n",
    "# We want to pass the input into the main function of the parsing module\n",
    "\n",
    "result = parsing_yacc.main(input, mode)\n",
    "\n",
    "# We want to print the result to see if the parser is working\n",
    "\n",
    "print(\"C Mode\")\n",
    "\n",
    "print(result)"
   ]
  },
  {
   "cell_type": "markdown",
   "metadata": {},
   "source": [
    "## Numpy dot product "
   ]
  },
  {
   "cell_type": "code",
   "execution_count": null,
   "metadata": {},
   "outputs": [
    {
     "name": "stdout",
     "output_type": "stream",
     "text": [
      "LexToken(VARIABLE,'A',1,1)\n",
      "LexToken(EQUALS,'=',1,3)\n",
      "LexToken(ARRAY,'np.array',1,5)\n",
      "LexToken(LPAREN,'(',1,13)\n",
      "LexToken(LIST,'[1, 2, 3]',1,14)\n",
      "LexToken(RPAREN,')',1,23)\n",
      "LexToken(VARIABLE,'B',1,25)\n",
      "LexToken(EQUALS,'=',1,27)\n",
      "LexToken(ARRAY,'np.array',1,29)\n",
      "LexToken(LPAREN,'(',1,37)\n",
      "LexToken(LIST,'[4, 5, 6]',1,38)\n",
      "LexToken(RPAREN,')',1,47)\n",
      "LexToken(VARIABLE,'C',1,49)\n",
      "LexToken(EQUALS,'=',1,51)\n",
      "LexToken(NP_DOT_PRODUCT,'np.dot',1,53)\n",
      "LexToken(LPAREN,'(',1,59)\n",
      "LexToken(VARIABLE,'A',1,60)\n",
      "LexToken(COMMA,',',1,61)\n",
      "LexToken(VARIABLE,'B',1,63)\n",
      "LexToken(RPAREN,')',1,64)\n",
      "None\n"
     ]
    }
   ],
   "source": [
    "# Let's test the lex file on numpy dot product\n",
    "\n",
    "input = \"\"\"\n",
    "A = np.array([1, 2, 3])\n",
    "B = np.array([4, 5, 6])\n",
    "C = np.dot(A, B)\n",
    "\"\"\"\n",
    "\n",
    "# We want to pass the input into the main function of the parsing module\n",
    "\n",
    "tokens = parsing_lex.main(input)\n",
    "\n",
    "# We want to print the tokens to see if the lexer is working\n",
    "\n",
    "print(tokens)"
   ]
  },
  {
   "cell_type": "code",
   "execution_count": null,
   "metadata": {},
   "outputs": [
    {
     "name": "stdout",
     "output_type": "stream",
     "text": [
      "Taking the dot product of two numpy arrays\n",
      "Calling Python function\n",
      "Python Mode\n",
      "None\n",
      "Taking the dot product of two numpy arrays\n",
      "Calling C function\n",
      "C Mode\n",
      "None\n"
     ]
    }
   ],
   "source": [
    "# Let's test yacc \n",
    "\n",
    "input = \"\"\"\n",
    "C = np.dot(A, B)\n",
    "\"\"\"\n",
    "\n",
    "mode = \"Python\"\n",
    "\n",
    "# We want to pass the input into the main function of the parsing module\n",
    "result = parsing_yacc.main(input, mode)\n",
    "\n",
    "# We want to print the result to see if the parser is working\n",
    "\n",
    "print(\"Python Mode\")\n",
    "\n",
    "print(result)\n",
    "\n",
    "# Change the mode to C and test the yacc module on numpy sum\n",
    "\n",
    "mode = \"C\"\n",
    "\n",
    "# We want to pass the input into the main function of the parsing module\n",
    "\n",
    "result = parsing_yacc.main(input, mode)\n",
    "\n",
    "# We want to print the result to see if the parser is working\n",
    "\n",
    "print(\"C Mode\")\n",
    "\n",
    "print(result)"
   ]
  },
  {
   "cell_type": "code",
   "execution_count": null,
   "metadata": {},
   "outputs": [],
   "source": []
  }
 ],
 "metadata": {
  "kernelspec": {
   "display_name": "Python 3",
   "language": "python",
   "name": "python3"
  },
  "language_info": {
   "codemirror_mode": {
    "name": "ipython",
    "version": 3
   },
   "file_extension": ".py",
   "mimetype": "text/x-python",
   "name": "python",
   "nbconvert_exporter": "python",
   "pygments_lexer": "ipython3",
   "version": "3.9.6"
  }
 },
 "nbformat": 4,
 "nbformat_minor": 2
}
