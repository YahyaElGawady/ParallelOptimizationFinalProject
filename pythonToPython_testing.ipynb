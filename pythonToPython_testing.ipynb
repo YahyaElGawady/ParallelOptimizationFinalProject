{
 "cells": [
  {
   "cell_type": "code",
   "execution_count": 1,
   "metadata": {},
   "outputs": [],
   "source": [
    "import numpy as np"
   ]
  },
  {
   "cell_type": "code",
   "execution_count": 2,
   "metadata": {},
   "outputs": [],
   "source": [
    "A = np.array([1, 2, 3])\n",
    "B = np.array([4, 5, 6])"
   ]
  },
  {
   "cell_type": "code",
   "execution_count": 5,
   "metadata": {},
   "outputs": [],
   "source": [
    "def get_var_name(var):\n",
    "    for name, value in globals().items():\n",
    "        if value is var:\n",
    "            return name"
   ]
  },
  {
   "cell_type": "code",
   "execution_count": 9,
   "metadata": {},
   "outputs": [
    {
     "data": {
      "text/plain": [
       "'cupy.add(A, B)'"
      ]
     },
     "execution_count": 9,
     "metadata": {},
     "output_type": "execute_result"
    }
   ],
   "source": [
    "def numpy_add_to_py(a, b):\n",
    "    a_name = get_var_name(a)\n",
    "    b_name = get_var_name(b)\n",
    "    return f\"cupy.add({a_name}, {b_name})\"\n",
    "\n",
    "# Test np_add\n",
    "numpy_add_to_py(A, B)"
   ]
  },
  {
   "cell_type": "code",
   "execution_count": 10,
   "metadata": {},
   "outputs": [
    {
     "data": {
      "text/plain": [
       "'cupy.subtract(A, B)'"
      ]
     },
     "execution_count": 10,
     "metadata": {},
     "output_type": "execute_result"
    }
   ],
   "source": [
    "def numpy_subtract_to_py(a, b):\n",
    "    a_name = get_var_name(a)\n",
    "    b_name = get_var_name(b)\n",
    "    return f\"cupy.subtract({a_name}, {b_name})\"\n",
    "\n",
    "# Test np_add\n",
    "numpy_subtract_to_py(A, B)"
   ]
  },
  {
   "cell_type": "code",
   "execution_count": 11,
   "metadata": {},
   "outputs": [
    {
     "data": {
      "text/plain": [
       "'cupy.sum(A)'"
      ]
     },
     "execution_count": 11,
     "metadata": {},
     "output_type": "execute_result"
    }
   ],
   "source": [
    "def numpy_sum_to_py(a):\n",
    "    a_name = get_var_name(a)\n",
    "    return f\"cupy.sum({a_name})\"\n",
    "\n",
    "# Test np_add\n",
    "numpy_sum_to_py(A)"
   ]
  },
  {
   "cell_type": "code",
   "execution_count": 12,
   "metadata": {},
   "outputs": [
    {
     "data": {
      "text/plain": [
       "'cupy.dot(A, B)'"
      ]
     },
     "execution_count": 12,
     "metadata": {},
     "output_type": "execute_result"
    }
   ],
   "source": [
    "def numpy_dot_to_py(a, b):\n",
    "    a_name = get_var_name(a)\n",
    "    b_name = get_var_name(b)\n",
    "    return f\"cupy.dot({a_name}, {b_name})\"\n",
    "\n",
    "# Test np_add\n",
    "numpy_dot_to_py(A, B)"
   ]
  }
 ],
 "metadata": {
  "kernelspec": {
   "display_name": "Python 3",
   "language": "python",
   "name": "python3"
  },
  "language_info": {
   "codemirror_mode": {
    "name": "ipython",
    "version": 3
   },
   "file_extension": ".py",
   "mimetype": "text/x-python",
   "name": "python",
   "nbconvert_exporter": "python",
   "pygments_lexer": "ipython3",
   "version": "3.9.19"
  },
  "vscode": {
   "interpreter": {
    "hash": "50292dbb1f747f7151d445135d392af3138fb3c65386d17d9510cb605222b10b"
   }
  }
 },
 "nbformat": 4,
 "nbformat_minor": 2
}
