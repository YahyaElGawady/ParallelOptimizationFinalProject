{
 "cells": [
  {
   "cell_type": "code",
   "execution_count": 5,
   "metadata": {},
   "outputs": [],
   "source": [
    "import time\n",
    "import resource\n",
    "from pythonToC import main as python_to_c\n",
    "from pythonTopython2 import *"
   ]
  },
  {
   "cell_type": "code",
   "execution_count": 6,
   "metadata": {},
   "outputs": [
    {
     "ename": "TypeError",
     "evalue": "set_arr() missing 1 required positional argument: 'file_name'",
     "output_type": "error",
     "traceback": [
      "\u001b[0;31m---------------------------------------------------------------------------\u001b[0m",
      "\u001b[0;31mTypeError\u001b[0m                                 Traceback (most recent call last)",
      "Cell \u001b[0;32mIn[6], line 38\u001b[0m\n\u001b[1;32m     35\u001b[0m     \u001b[38;5;28mprint\u001b[39m(\u001b[38;5;124m\"\u001b[39m\u001b[38;5;124mExecution time (Python):\u001b[39m\u001b[38;5;124m\"\u001b[39m, execution_time_python)\n\u001b[1;32m     36\u001b[0m     \u001b[38;5;28mprint\u001b[39m(\u001b[38;5;124m\"\u001b[39m\u001b[38;5;124mExecution time (C):\u001b[39m\u001b[38;5;124m\"\u001b[39m, execution_time_c)\n\u001b[0;32m---> 38\u001b[0m \u001b[43mmeasure_execution_time\u001b[49m\u001b[43m(\u001b[49m\u001b[43m)\u001b[49m\n",
      "Cell \u001b[0;32mIn[6], line 20\u001b[0m, in \u001b[0;36mmeasure_execution_time\u001b[0;34m()\u001b[0m\n\u001b[1;32m      8\u001b[0m python_code \u001b[38;5;241m=\u001b[39m \u001b[38;5;124m\"\"\"\u001b[39m\n\u001b[1;32m      9\u001b[0m \u001b[38;5;124mimport numpy as np\u001b[39m\n\u001b[1;32m     10\u001b[0m \u001b[38;5;124msetup(\u001b[39m\u001b[38;5;124m\"\u001b[39m\u001b[38;5;124mtest\u001b[39m\u001b[38;5;124m\"\u001b[39m\u001b[38;5;124m)\u001b[39m\n\u001b[0;32m   (...)\u001b[0m\n\u001b[1;32m     16\u001b[0m \u001b[38;5;124mf = numpy_dot_to_py(a, b)\u001b[39m\n\u001b[1;32m     17\u001b[0m \u001b[38;5;124m\u001b[39m\u001b[38;5;124m\"\"\"\u001b[39m\n\u001b[1;32m     19\u001b[0m \u001b[38;5;66;03m# Convert Python code to C code using pythontoc\u001b[39;00m\n\u001b[0;32m---> 20\u001b[0m \u001b[43mpython_to_c\u001b[49m\u001b[43m(\u001b[49m\u001b[43m)\u001b[49m\n\u001b[1;32m     22\u001b[0m \u001b[38;5;66;03m# Measure execution time and memory usage of Python code\u001b[39;00m\n\u001b[1;32m     23\u001b[0m start_time \u001b[38;5;241m=\u001b[39m time\u001b[38;5;241m.\u001b[39mtime()\n",
      "File \u001b[0;32m~/ParallelOptimizationFinalProject/pythonToC.py:147\u001b[0m, in \u001b[0;36mmain\u001b[0;34m()\u001b[0m\n\u001b[1;32m    145\u001b[0m end_kernel(\u001b[38;5;124m'\u001b[39m\u001b[38;5;124mtest\u001b[39m\u001b[38;5;124m'\u001b[39m)\n\u001b[1;32m    146\u001b[0m set_up_main(\u001b[38;5;124m'\u001b[39m\u001b[38;5;124mtest\u001b[39m\u001b[38;5;124m'\u001b[39m)\n\u001b[0;32m--> 147\u001b[0m \u001b[43mset_arr\u001b[49m\u001b[43m(\u001b[49m\u001b[38;5;124;43m\"\u001b[39;49m\u001b[38;5;124;43mb\u001b[39;49m\u001b[38;5;124;43m\"\u001b[39;49m\u001b[43m,\u001b[49m\u001b[43m \u001b[49m\u001b[38;5;124;43m\"\u001b[39;49m\u001b[38;5;124;43m[1, 2, 3]\u001b[39;49m\u001b[38;5;124;43m\"\u001b[39;49m\u001b[43m,\u001b[49m\u001b[43m \u001b[49m\u001b[38;5;124;43m\"\u001b[39;49m\u001b[38;5;124;43mtest\u001b[39;49m\u001b[38;5;124;43m\"\u001b[39;49m\u001b[43m)\u001b[49m\n\u001b[1;32m    148\u001b[0m deploy_kernel(\u001b[38;5;124m'\u001b[39m\u001b[38;5;124mtest\u001b[39m\u001b[38;5;124m'\u001b[39m)\n\u001b[1;32m    149\u001b[0m end_main(\u001b[38;5;124m'\u001b[39m\u001b[38;5;124mtest\u001b[39m\u001b[38;5;124m'\u001b[39m)\n",
      "\u001b[0;31mTypeError\u001b[0m: set_arr() missing 1 required positional argument: 'file_name'"
     ]
    }
   ],
   "source": [
    "def measure_execution_time():\n",
    "    # Write Python code that uses functions defined in the pythonToC and pythontopython2 files\n",
    "    \n",
    "    #trying to create file to fix err: \n",
    "    #TypeError: set_arr() missing 1 required positional argument: 'file_name' \n",
    "    file_name = \"example_file\"  \n",
    "\n",
    "    python_code = \"\"\"\n",
    "    import numpy as np\n",
    "    setup(\"test\")\n",
    "    a = np.array([1, 2, 3])\n",
    "    b = np.array([4, 5, 6])\n",
    "    c = numpy_add_to_py(a, b)\n",
    "    d = numpy_subtract_to_py(a, b)\n",
    "    e = numpy_sum_to_py(a)\n",
    "    f = numpy_dot_to_py(a, b)\n",
    "    \"\"\"\n",
    "\n",
    "    # Convert Python code to C code using pythontoc\n",
    "    python_to_c()\n",
    "\n",
    "    # Measure execution time and memory usage of Python code\n",
    "    start_time = time.time()\n",
    "    exec(python_code)\n",
    "    end_time = time.time()\n",
    "    execution_time_python = end_time - start_time\n",
    "\n",
    "    # Measure execution time and memory usage of translated C code\n",
    "    start_time = time.time()\n",
    "    # Execute translated C code here\n",
    "    end_time = time.time()\n",
    "    execution_time_c = end_time - start_time\n",
    "\n",
    "    # Compare performance metrics\n",
    "    print(\"Execution time (Python):\", execution_time_python)\n",
    "    print(\"Execution time (C):\", execution_time_c)\n",
    "\n",
    "measure_execution_time()"
   ]
  },
  {
   "cell_type": "markdown",
   "metadata": {},
   "source": [
    "version 2 - using a file bc there was an error -    #TypeError: set_arr() missing 1 required positional argument: 'file_name'  for the one above "
   ]
  },
  {
   "cell_type": "code",
   "execution_count": 7,
   "metadata": {},
   "outputs": [
    {
     "ename": "FileNotFoundError",
     "evalue": "[Errno 2] No such file or directory: 'example_file.py'",
     "output_type": "error",
     "traceback": [
      "\u001b[0;31m---------------------------------------------------------------------------\u001b[0m",
      "\u001b[0;31mFileNotFoundError\u001b[0m                         Traceback (most recent call last)",
      "Cell \u001b[0;32mIn[7], line 19\u001b[0m\n\u001b[1;32m     16\u001b[0m     \u001b[38;5;28mprint\u001b[39m(\u001b[38;5;124m\"\u001b[39m\u001b[38;5;124mExecution time (Python):\u001b[39m\u001b[38;5;124m\"\u001b[39m, execution_time_python)\n\u001b[1;32m     17\u001b[0m     \u001b[38;5;28mprint\u001b[39m(\u001b[38;5;124m\"\u001b[39m\u001b[38;5;124mExecution time (C):\u001b[39m\u001b[38;5;124m\"\u001b[39m, execution_time_c)\n\u001b[0;32m---> 19\u001b[0m \u001b[43mmeasure_execution_time\u001b[49m\u001b[43m(\u001b[49m\u001b[43m)\u001b[49m\n",
      "Cell \u001b[0;32mIn[7], line 3\u001b[0m, in \u001b[0;36mmeasure_execution_time\u001b[0;34m()\u001b[0m\n\u001b[1;32m      1\u001b[0m \u001b[38;5;28;01mdef\u001b[39;00m \u001b[38;5;21mmeasure_execution_time\u001b[39m():\n\u001b[1;32m      2\u001b[0m     \u001b[38;5;66;03m# Example Python code to be translated\u001b[39;00m\n\u001b[0;32m----> 3\u001b[0m     \u001b[38;5;28;01mwith\u001b[39;00m \u001b[38;5;28;43mopen\u001b[39;49m\u001b[43m(\u001b[49m\u001b[38;5;124;43m\"\u001b[39;49m\u001b[38;5;124;43mexample_file.py\u001b[39;49m\u001b[38;5;124;43m\"\u001b[39;49m\u001b[43m,\u001b[49m\u001b[43m \u001b[49m\u001b[38;5;124;43m\"\u001b[39;49m\u001b[38;5;124;43mr\u001b[39;49m\u001b[38;5;124;43m\"\u001b[39;49m\u001b[43m)\u001b[49m \u001b[38;5;28;01mas\u001b[39;00m file:  \u001b[38;5;66;03m# FIXED\u001b[39;00m\n\u001b[1;32m      4\u001b[0m         python_code \u001b[38;5;241m=\u001b[39m file\u001b[38;5;241m.\u001b[39mread()\n\u001b[1;32m      6\u001b[0m     \u001b[38;5;66;03m# Convert Python code to C code using pythontoc\u001b[39;00m\n",
      "File \u001b[0;32m~/Library/Python/3.9/lib/python/site-packages/IPython/core/interactiveshell.py:310\u001b[0m, in \u001b[0;36m_modified_open\u001b[0;34m(file, *args, **kwargs)\u001b[0m\n\u001b[1;32m    303\u001b[0m \u001b[38;5;28;01mif\u001b[39;00m file \u001b[38;5;129;01min\u001b[39;00m {\u001b[38;5;241m0\u001b[39m, \u001b[38;5;241m1\u001b[39m, \u001b[38;5;241m2\u001b[39m}:\n\u001b[1;32m    304\u001b[0m     \u001b[38;5;28;01mraise\u001b[39;00m \u001b[38;5;167;01mValueError\u001b[39;00m(\n\u001b[1;32m    305\u001b[0m         \u001b[38;5;124mf\u001b[39m\u001b[38;5;124m\"\u001b[39m\u001b[38;5;124mIPython won\u001b[39m\u001b[38;5;124m'\u001b[39m\u001b[38;5;124mt let you open fd=\u001b[39m\u001b[38;5;132;01m{\u001b[39;00mfile\u001b[38;5;132;01m}\u001b[39;00m\u001b[38;5;124m by default \u001b[39m\u001b[38;5;124m\"\u001b[39m\n\u001b[1;32m    306\u001b[0m         \u001b[38;5;124m\"\u001b[39m\u001b[38;5;124mas it is likely to crash IPython. If you know what you are doing, \u001b[39m\u001b[38;5;124m\"\u001b[39m\n\u001b[1;32m    307\u001b[0m         \u001b[38;5;124m\"\u001b[39m\u001b[38;5;124myou can use builtins\u001b[39m\u001b[38;5;124m'\u001b[39m\u001b[38;5;124m open.\u001b[39m\u001b[38;5;124m\"\u001b[39m\n\u001b[1;32m    308\u001b[0m     )\n\u001b[0;32m--> 310\u001b[0m \u001b[38;5;28;01mreturn\u001b[39;00m \u001b[43mio_open\u001b[49m\u001b[43m(\u001b[49m\u001b[43mfile\u001b[49m\u001b[43m,\u001b[49m\u001b[43m \u001b[49m\u001b[38;5;241;43m*\u001b[39;49m\u001b[43margs\u001b[49m\u001b[43m,\u001b[49m\u001b[43m \u001b[49m\u001b[38;5;241;43m*\u001b[39;49m\u001b[38;5;241;43m*\u001b[39;49m\u001b[43mkwargs\u001b[49m\u001b[43m)\u001b[49m\n",
      "\u001b[0;31mFileNotFoundError\u001b[0m: [Errno 2] No such file or directory: 'example_file.py'"
     ]
    }
   ],
   "source": [
    "\n",
    "def measure_execution_time():\n",
    "    # Example Python code to be translated\n",
    "    with open(\"example_file.py\", \"r\") as file:  # FIXED\n",
    "        python_code = file.read()\n",
    "\n",
    "    # Convert Python code to C code using pythontoc\n",
    "    start_time = time.time()\n",
    "    python_to_c()\n",
    "    execution_time_c = time.time() - start_time\n",
    "\n",
    "    # Convert Python code to Python code using pythonToPython\n",
    "    start_time = time.time()\n",
    "    python_to_python()\n",
    "    execution_time_python = time.time() - start_time\n",
    "\n",
    "    print(\"Execution time (Python):\", execution_time_python)\n",
    "    print(\"Execution time (C):\", execution_time_c)\n",
    "\n",
    "measure_execution_time()\n"
   ]
  },
  {
   "cell_type": "markdown",
   "metadata": {},
   "source": [
    "Version 3 - Lmk know if any of these versions is correct, and if its the one below what is in 'test' file. Also feel free to edit it if u see something wrong"
   ]
  },
  {
   "cell_type": "code",
   "execution_count": null,
   "metadata": {},
   "outputs": [],
   "source": [
    "\n",
    "import time\n",
    "from python import set_up, end_kernel, set_arr, deploy_kernel\n",
    "from pythontopython import numpy_add_to_py, numpy_subtract_to_py\n",
    "\n",
    "def measure_execution_time():\n",
    "    # Example Python code to be translated\n",
    "    with open(\"example_file.py\", \"r\") as file:  # FIXED\n",
    "        python_code = file.read()\n",
    "\n",
    "    # Convert Python code to C code using pythontoc\n",
    "    start_time = time.time()\n",
    "    set_up('test')   #what is in test??\n",
    "    set_arr(\"a\", \"[1, 2, 3]\", 3, 'test')  \n",
    "    set_arr(\"b\", \"[4, 5, 6]\", 3, 'test')\n",
    "    deploy_kernel('test')\n",
    "    end_kernel('test')\n",
    "    execution_time_c = time.time() - start_time\n",
    "\n",
    "\n",
    "    # Convert Python code to Python code using pythontopython\n",
    "    start_time = time.time()\n",
    "    numpy_add_to_py(a, b)\n",
    "    numpy_subtract_to_py(a, b)\n",
    "    # Other conversion function calls...\n",
    "    execution_time_python = time.time() - start_time\n",
    "\n",
    "    print(\"Execution time (Python):\", execution_time_python)\n",
    "    print(\"Execution time (C):\", execution_time_c)\n",
    "\n",
    "measure_execution_time()\n"
   ]
  }
 ],
 "metadata": {
  "kernelspec": {
   "display_name": "Python 3",
   "language": "python",
   "name": "python3"
  },
  "language_info": {
   "codemirror_mode": {
    "name": "ipython",
    "version": 3
   },
   "file_extension": ".py",
   "mimetype": "text/x-python",
   "name": "python",
   "nbconvert_exporter": "python",
   "pygments_lexer": "ipython3",
   "version": "3.9.6"
  }
 },
 "nbformat": 4,
 "nbformat_minor": 2
}
