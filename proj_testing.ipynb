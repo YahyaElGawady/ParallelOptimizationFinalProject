{
 "cells": [
  {
   "cell_type": "code",
   "execution_count": 1,
   "metadata": {},
   "outputs": [],
   "source": [
    "import time\n",
    "import resource\n",
    "from pythonToC import main as python_to_c\n",
    "from pythonTopython2 import main as python_to_python"
   ]
  },
  {
   "cell_type": "code",
   "execution_count": 2,
   "metadata": {},
   "outputs": [
    {
     "ename": "TypeError",
     "evalue": "set_arr() missing 1 required positional argument: 'file_name'",
     "output_type": "error",
     "traceback": [
      "\u001b[0;31m---------------------------------------------------------------------------\u001b[0m",
      "\u001b[0;31mTypeError\u001b[0m                                 Traceback (most recent call last)",
      "Cell \u001b[0;32mIn[2], line 36\u001b[0m\n\u001b[1;32m     33\u001b[0m     \u001b[38;5;28mprint\u001b[39m(\u001b[38;5;124m\"\u001b[39m\u001b[38;5;124mExecution time (Python):\u001b[39m\u001b[38;5;124m\"\u001b[39m, execution_time_python)\n\u001b[1;32m     34\u001b[0m     \u001b[38;5;28mprint\u001b[39m(\u001b[38;5;124m\"\u001b[39m\u001b[38;5;124mExecution time (C):\u001b[39m\u001b[38;5;124m\"\u001b[39m, execution_time_c)\n\u001b[0;32m---> 36\u001b[0m \u001b[43mmeasure_execution_time\u001b[49m\u001b[43m(\u001b[49m\u001b[43m)\u001b[49m\n",
      "Cell \u001b[0;32mIn[2], line 18\u001b[0m, in \u001b[0;36mmeasure_execution_time\u001b[0;34m()\u001b[0m\n\u001b[1;32m      6\u001b[0m python_code \u001b[38;5;241m=\u001b[39m \u001b[38;5;124m\"\"\"\u001b[39m\n\u001b[1;32m      7\u001b[0m \u001b[38;5;124mimport numpy as np\u001b[39m\n\u001b[1;32m      8\u001b[0m \u001b[38;5;124msetup(\u001b[39m\u001b[38;5;124m\"\u001b[39m\u001b[38;5;124mtest\u001b[39m\u001b[38;5;124m\"\u001b[39m\u001b[38;5;124m)\u001b[39m\n\u001b[0;32m   (...)\u001b[0m\n\u001b[1;32m     14\u001b[0m \u001b[38;5;124mf = numpy_dot_to_py(a, b)\u001b[39m\n\u001b[1;32m     15\u001b[0m \u001b[38;5;124m\u001b[39m\u001b[38;5;124m\"\"\"\u001b[39m\n\u001b[1;32m     17\u001b[0m \u001b[38;5;66;03m# Convert Python code to C code using pythontoc\u001b[39;00m\n\u001b[0;32m---> 18\u001b[0m \u001b[43mmain\u001b[49m\u001b[43m(\u001b[49m\u001b[43m)\u001b[49m\n\u001b[1;32m     20\u001b[0m \u001b[38;5;66;03m# Measure execution time and memory usage of Python code\u001b[39;00m\n\u001b[1;32m     21\u001b[0m start_time \u001b[38;5;241m=\u001b[39m time\u001b[38;5;241m.\u001b[39mtime()\n",
      "File \u001b[0;32m~/ParallelOptimizationFinalProject/pythonToC.py:147\u001b[0m, in \u001b[0;36mmain\u001b[0;34m()\u001b[0m\n\u001b[1;32m    145\u001b[0m end_kernel(\u001b[38;5;124m'\u001b[39m\u001b[38;5;124mtest\u001b[39m\u001b[38;5;124m'\u001b[39m)\n\u001b[1;32m    146\u001b[0m set_up_main(\u001b[38;5;124m'\u001b[39m\u001b[38;5;124mtest\u001b[39m\u001b[38;5;124m'\u001b[39m)\n\u001b[0;32m--> 147\u001b[0m \u001b[43mset_arr\u001b[49m\u001b[43m(\u001b[49m\u001b[38;5;124;43m\"\u001b[39;49m\u001b[38;5;124;43mb\u001b[39;49m\u001b[38;5;124;43m\"\u001b[39;49m\u001b[43m,\u001b[49m\u001b[43m \u001b[49m\u001b[38;5;124;43m\"\u001b[39;49m\u001b[38;5;124;43m[1, 2, 3]\u001b[39;49m\u001b[38;5;124;43m\"\u001b[39;49m\u001b[43m,\u001b[49m\u001b[43m \u001b[49m\u001b[38;5;124;43m\"\u001b[39;49m\u001b[38;5;124;43mtest\u001b[39;49m\u001b[38;5;124;43m\"\u001b[39;49m\u001b[43m)\u001b[49m\n\u001b[1;32m    148\u001b[0m deploy_kernel(\u001b[38;5;124m'\u001b[39m\u001b[38;5;124mtest\u001b[39m\u001b[38;5;124m'\u001b[39m)\n\u001b[1;32m    149\u001b[0m end_main(\u001b[38;5;124m'\u001b[39m\u001b[38;5;124mtest\u001b[39m\u001b[38;5;124m'\u001b[39m)\n",
      "\u001b[0;31mTypeError\u001b[0m: set_arr() missing 1 required positional argument: 'file_name'"
     ]
    }
   ],
   "source": [
    "def measure_execution_time():\n",
    "    # Write Python code that uses functions defined in the pythonToC and pythontopython2 files\n",
    "    \n",
    "    #trying to create file to fix err: \n",
    "    #TypeError: set_arr() missing 1 required positional argument: 'file_name' \n",
    "    file_name = \"example_file\"  \n",
    "\n",
    "    python_code = \"\"\"\n",
    "    import numpy as np\n",
    "    setup(\"test\")\n",
    "    a = np.array([1, 2, 3])\n",
    "    b = np.array([4, 5, 6])\n",
    "    c = numpy_add_to_py(a, b)\n",
    "    d = numpy_subtract_to_py(a, b)\n",
    "    e = numpy_sum_to_py(a)\n",
    "    f = numpy_dot_to_py(a, b)\n",
    "    \"\"\"\n",
    "\n",
    "    # Convert Python code to C code using pythontoc\n",
    "    python_to_c()\n",
    "\n",
    "    # Measure execution time and memory usage of Python code\n",
    "    start_time = time.time()\n",
    "    exec(python_code)\n",
    "    end_time = time.time()\n",
    "    execution_time_python = end_time - start_time\n",
    "\n",
    "    # Measure execution time and memory usage of translated C code\n",
    "    start_time = time.time()\n",
    "    # Execute translated C code here\n",
    "    end_time = time.time()\n",
    "    execution_time_c = end_time - start_time\n",
    "\n",
    "    # Compare performance metrics\n",
    "    print(\"Execution time (Python):\", execution_time_python)\n",
    "    print(\"Execution time (C):\", execution_time_c)\n",
    "\n",
    "measure_execution_time()"
   ]
  },
  {
   "cell_type": "code",
   "execution_count": null,
   "metadata": {},
   "outputs": [],
   "source": [
    "\n",
    "def measure_execution_time():\n",
    "    # Example Python code to be translated\n",
    "    with open(\"example_file.py\", \"r\") as file:  # FIXED\n",
    "        python_code = file.read()\n",
    "\n",
    "    # Convert Python code to C code using pythontoc\n",
    "    start_time = time.time()\n",
    "    python_to_c()\n",
    "    execution_time_c = time.time() - start_time\n",
    "\n",
    "    # Convert Python code to Python code using pythonToPython\n",
    "    start_time = time.time()\n",
    "    python_to_python()\n",
    "    execution_time_python = time.time() - start_time\n",
    "\n",
    "    print(\"Execution time (Python):\", execution_time_python)\n",
    "    print(\"Execution time (C):\", execution_time_c)\n",
    "\n",
    "measure_execution_time()\n"
   ]
  }
 ],
 "metadata": {
  "kernelspec": {
   "display_name": "Python 3",
   "language": "python",
   "name": "python3"
  },
  "language_info": {
   "codemirror_mode": {
    "name": "ipython",
    "version": 3
   },
   "file_extension": ".py",
   "mimetype": "text/x-python",
   "name": "python",
   "nbconvert_exporter": "python",
   "pygments_lexer": "ipython3",
   "version": "3.9.6"
  }
 },
 "nbformat": 4,
 "nbformat_minor": 2
}
