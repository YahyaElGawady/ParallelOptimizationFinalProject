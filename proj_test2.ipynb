{
 "cells": [
  {
   "cell_type": "code",
   "execution_count": 1,
   "metadata": {},
   "outputs": [],
   "source": [
    "import time\n",
    "import numpy as np\n",
    "from memory_profiler import memory_usage\n",
    "from pythonToC import set_up, end_kernel, set_arr, deploy_kernel\n",
    "from pythonTopython2 import * "
   ]
  },
  {
   "cell_type": "markdown",
   "metadata": {},
   "source": [
    "## Individual Testing - Time and Memory"
   ]
  },
  {
   "cell_type": "markdown",
   "metadata": {},
   "source": [
    "Testing for pythontopython2.py file - Time & Memory"
   ]
  },
  {
   "cell_type": "markdown",
   "metadata": {},
   "source": [
    "NOTE: download package memory_profiler first - in terminal:\n",
    "python3 -m pip install memory_profiler  \n",
    " OR DO\n",
    " pip install memory_profiler\n"
   ]
  },
  {
   "cell_type": "code",
   "execution_count": 2,
   "metadata": {},
   "outputs": [
    {
     "name": "stdout",
     "output_type": "stream",
     "text": [
      "Execution time to run all in (s) (Python): 0.0010061264038085938\n",
      "Memory usage in (MB) Add (Python): 0.0\n",
      "Memory usage in (MB) Sub (Python): 0.015625\n",
      "Memory usage in (MB) Dot (Python): 0.015625\n"
     ]
    }
   ],
   "source": [
    "def measure_execution_time():\n",
    "    # Example Python code to be translated\n",
    "    # Convert Python code to Python code using pythontopython2\n",
    "    start_time = time.time()\n",
    "    # Define NumPy arrays a and b\n",
    "\n",
    "    # Array 'a' with complex values\n",
    "    a = np.array([[1.5, 2.3, 3.7], [4.2, 5.1, 6.9], [7.4, 8.8, 9.2]])\n",
    "\n",
    "    # Array 'b' with complex values\n",
    "    b = np.array([[0.5, 1.2, 2.7], [3.2, 4.1, 5.9], [6.4, 7.8, 8.2]])\n",
    "\n",
    "    numpy_add_to_py(a, b)\n",
    "    numpy_subtract_to_py(a, b)\n",
    "    numpy_dot_to_py(a, b)\n",
    "    execution_time_python = time.time() - start_time\n",
    "    mem_python_add = memory_usage((numpy_add_to_py, (a, b)))\n",
    "    mem_python_sub = memory_usage((numpy_subtract_to_py, (a, b)))\n",
    "    mem_python_dot = memory_usage((numpy_dot_to_py, (a, b))) \n",
    "\n",
    "    print(\"Execution time to run all in (s) (Python):\", execution_time_python)\n",
    "    #print(\"Execution time (C):\", execution_time_c)\n",
    "    print(\"Memory usage in (MB) Add avg (Python):\", max(mem_python_add) - min(mem_python_add))\n",
    "    print(\"Memory usage in (MB) Sub avg (Python):\", max(mem_python_sub) - min(mem_python_sub))\n",
    "    print(\"Memory usage in (MB) Dot avg (Python):\", max(mem_python_dot) - min(mem_python_dot))\n",
    "\n",
    "\n",
    "measure_execution_time()"
   ]
  }
 ],
 "metadata": {
  "kernelspec": {
   "display_name": "Python 3",
   "language": "python",
   "name": "python3"
  },
  "language_info": {
   "codemirror_mode": {
    "name": "ipython",
    "version": 3
   },
   "file_extension": ".py",
   "mimetype": "text/x-python",
   "name": "python",
   "nbconvert_exporter": "python",
   "pygments_lexer": "ipython3",
   "version": "3.9.6"
  }
 },
 "nbformat": 4,
 "nbformat_minor": 2
}
